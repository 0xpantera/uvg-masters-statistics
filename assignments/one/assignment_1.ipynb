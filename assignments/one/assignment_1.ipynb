{
 "cells": [
  {
   "cell_type": "markdown",
   "metadata": {},
   "source": [
    "# Assignment 1 - Intro a Pandas\n",
    "\n",
    "## Parte 1\n",
    "El codigo que sigue carga el dataset de las olimpiadas (olympics.csv), que ha sido descargado de la entrada en Wikipedia en [All Time Olympic Games Medals](https://en.wikipedia.org/wiki/All-time_Olympic_Games_medal_table), y hace una limpieza de datos basica. \n",
    "\n",
    "Las columnas estan organizadas como # de Summer games, Summer medals, # of Winter games, Winter medals, total # number of games, total # of medals. Usen este dataset para responder las preguntas."
   ]
  },
  {
   "cell_type": "code",
   "execution_count": 5,
   "metadata": {},
   "outputs": [
    {
     "data": {
      "text/plain": [
       "1780"
      ]
     },
     "execution_count": 5,
     "metadata": {},
     "output_type": "execute_result"
    }
   ],
   "source": [
    "890*2"
   ]
  },
  {
   "cell_type": "code",
   "execution_count": 2,
   "metadata": {
    "nbgrader": {
     "grade": false,
     "grade_id": "1",
     "locked": false,
     "solution": false
    }
   },
   "outputs": [
    {
     "data": {
      "text/html": [
       "<div>\n",
       "<style scoped>\n",
       "    .dataframe tbody tr th:only-of-type {\n",
       "        vertical-align: middle;\n",
       "    }\n",
       "\n",
       "    .dataframe tbody tr th {\n",
       "        vertical-align: top;\n",
       "    }\n",
       "\n",
       "    .dataframe thead th {\n",
       "        text-align: right;\n",
       "    }\n",
       "</style>\n",
       "<table border=\"1\" class=\"dataframe\">\n",
       "  <thead>\n",
       "    <tr style=\"text-align: right;\">\n",
       "      <th></th>\n",
       "      <th># Summer</th>\n",
       "      <th>Gold</th>\n",
       "      <th>Silver</th>\n",
       "      <th>Bronze</th>\n",
       "      <th>Total</th>\n",
       "      <th># Winter</th>\n",
       "      <th>Gold.1</th>\n",
       "      <th>Silver.1</th>\n",
       "      <th>Bronze.1</th>\n",
       "      <th>Total.1</th>\n",
       "      <th># Games</th>\n",
       "      <th>Gold.2</th>\n",
       "      <th>Silver.2</th>\n",
       "      <th>Bronze.2</th>\n",
       "      <th>Combined total</th>\n",
       "      <th>ID</th>\n",
       "    </tr>\n",
       "  </thead>\n",
       "  <tbody>\n",
       "    <tr>\n",
       "      <th>Afghanistan</th>\n",
       "      <td>13</td>\n",
       "      <td>0</td>\n",
       "      <td>0</td>\n",
       "      <td>2</td>\n",
       "      <td>2</td>\n",
       "      <td>0</td>\n",
       "      <td>0</td>\n",
       "      <td>0</td>\n",
       "      <td>0</td>\n",
       "      <td>0</td>\n",
       "      <td>13</td>\n",
       "      <td>0</td>\n",
       "      <td>0</td>\n",
       "      <td>2</td>\n",
       "      <td>2</td>\n",
       "      <td>AFG</td>\n",
       "    </tr>\n",
       "    <tr>\n",
       "      <th>Algeria</th>\n",
       "      <td>12</td>\n",
       "      <td>5</td>\n",
       "      <td>2</td>\n",
       "      <td>8</td>\n",
       "      <td>15</td>\n",
       "      <td>3</td>\n",
       "      <td>0</td>\n",
       "      <td>0</td>\n",
       "      <td>0</td>\n",
       "      <td>0</td>\n",
       "      <td>15</td>\n",
       "      <td>5</td>\n",
       "      <td>2</td>\n",
       "      <td>8</td>\n",
       "      <td>15</td>\n",
       "      <td>ALG</td>\n",
       "    </tr>\n",
       "    <tr>\n",
       "      <th>Argentina</th>\n",
       "      <td>23</td>\n",
       "      <td>18</td>\n",
       "      <td>24</td>\n",
       "      <td>28</td>\n",
       "      <td>70</td>\n",
       "      <td>18</td>\n",
       "      <td>0</td>\n",
       "      <td>0</td>\n",
       "      <td>0</td>\n",
       "      <td>0</td>\n",
       "      <td>41</td>\n",
       "      <td>18</td>\n",
       "      <td>24</td>\n",
       "      <td>28</td>\n",
       "      <td>70</td>\n",
       "      <td>ARG</td>\n",
       "    </tr>\n",
       "    <tr>\n",
       "      <th>Armenia</th>\n",
       "      <td>5</td>\n",
       "      <td>1</td>\n",
       "      <td>2</td>\n",
       "      <td>9</td>\n",
       "      <td>12</td>\n",
       "      <td>6</td>\n",
       "      <td>0</td>\n",
       "      <td>0</td>\n",
       "      <td>0</td>\n",
       "      <td>0</td>\n",
       "      <td>11</td>\n",
       "      <td>1</td>\n",
       "      <td>2</td>\n",
       "      <td>9</td>\n",
       "      <td>12</td>\n",
       "      <td>ARM</td>\n",
       "    </tr>\n",
       "    <tr>\n",
       "      <th>Australasia</th>\n",
       "      <td>2</td>\n",
       "      <td>3</td>\n",
       "      <td>4</td>\n",
       "      <td>5</td>\n",
       "      <td>12</td>\n",
       "      <td>0</td>\n",
       "      <td>0</td>\n",
       "      <td>0</td>\n",
       "      <td>0</td>\n",
       "      <td>0</td>\n",
       "      <td>2</td>\n",
       "      <td>3</td>\n",
       "      <td>4</td>\n",
       "      <td>5</td>\n",
       "      <td>12</td>\n",
       "      <td>ANZ</td>\n",
       "    </tr>\n",
       "  </tbody>\n",
       "</table>\n",
       "</div>"
      ],
      "text/plain": [
       "             # Summer  Gold  Silver  Bronze  Total  # Winter  Gold.1  \\\n",
       "Afghanistan        13     0       0       2      2         0       0   \n",
       "Algeria            12     5       2       8     15         3       0   \n",
       "Argentina          23    18      24      28     70        18       0   \n",
       "Armenia             5     1       2       9     12         6       0   \n",
       "Australasia         2     3       4       5     12         0       0   \n",
       "\n",
       "             Silver.1  Bronze.1  Total.1  # Games  Gold.2  Silver.2  Bronze.2  \\\n",
       "Afghanistan         0         0        0       13       0         0         2   \n",
       "Algeria             0         0        0       15       5         2         8   \n",
       "Argentina           0         0        0       41      18        24        28   \n",
       "Armenia             0         0        0       11       1         2         9   \n",
       "Australasia         0         0        0        2       3         4         5   \n",
       "\n",
       "             Combined total   ID  \n",
       "Afghanistan               2  AFG  \n",
       "Algeria                  15  ALG  \n",
       "Argentina                70  ARG  \n",
       "Armenia                  12  ARM  \n",
       "Australasia              12  ANZ  "
      ]
     },
     "execution_count": 2,
     "metadata": {},
     "output_type": "execute_result"
    }
   ],
   "source": [
    "import pandas as pd\n",
    "\n",
    "df = pd.read_csv('../data/olympics.csv', index_col=0, skiprows=1)\n",
    "\n",
    "for col in df.columns:\n",
    "    if col[:2]=='01':\n",
    "        df.rename(columns={col:'Gold'+col[4:]}, inplace=True)\n",
    "    if col[:2]=='02':\n",
    "        df.rename(columns={col:'Silver'+col[4:]}, inplace=True)\n",
    "    if col[:2]=='03':\n",
    "        df.rename(columns={col:'Bronze'+col[4:]}, inplace=True)\n",
    "    if col[:1]=='№':\n",
    "        df.rename(columns={col:'#'+col[1:]}, inplace=True)\n",
    "\n",
    "names_ids = df.index.str.split('\\s\\(') # split the index by '('\n",
    "\n",
    "df.index = names_ids.str[0] # the [0] element is the country name (new index) \n",
    "df['ID'] = names_ids.str[1].str[:3] # the [1] element is the abbreviation or ID (take first 3 characters from that)\n",
    "\n",
    "df = df.drop('Totals')\n",
    "df.head()"
   ]
  },
  {
   "cell_type": "markdown",
   "metadata": {},
   "source": [
    "### Pregunta 0 (Ejemplo)\n",
    "\n",
    "Cual es el primer pais en df?\n",
    "\n",
    "*Esta funcion deberia regresar una Series.*"
   ]
  },
  {
   "cell_type": "code",
   "execution_count": null,
   "metadata": {},
   "outputs": [],
   "source": [
    "def answer_zero():\n",
    "    # Esta funcion regresa la fila para Afghanistan, que es un Series object. \n",
    "    return df.iloc[0]\n",
    "\n",
    "# Pueden examinar que regresa su funcion llamandola en esta celda. \n",
    "answer_zero() "
   ]
  },
  {
   "cell_type": "markdown",
   "metadata": {},
   "source": [
    "### Pregunta 1\n",
    "Que pais ha ganado la mayor cantidad de medallas de oro en los summer games?\n",
    "\n",
    "*Esta funcion deberia retornar un solo valor de tipo string*"
   ]
  },
  {
   "cell_type": "code",
   "execution_count": null,
   "metadata": {
    "nbgrader": {
     "grade": false,
     "locked": false,
     "solution": false
    }
   },
   "outputs": [],
   "source": [
    "def answer_one():\n",
    "    return \"SU RESPUESTA AQUI\""
   ]
  },
  {
   "cell_type": "markdown",
   "metadata": {},
   "source": [
    "### Pregunta 2\n",
    "Que pais tuvo la mayor diferencia en su conteo de medallas de oro entre summer y winter?\n",
    "\n",
    "\n",
    "*Esta funcion deberia retornar un solo valor de tipo string*"
   ]
  },
  {
   "cell_type": "code",
   "execution_count": null,
   "metadata": {
    "collapsed": true,
    "jupyter": {
     "outputs_hidden": true
    }
   },
   "outputs": [],
   "source": [
    "def answer_two():\n",
    "    return \"SU RESPUESTA AQUI\""
   ]
  },
  {
   "cell_type": "markdown",
   "metadata": {},
   "source": [
    "### Pregunta 3\n",
    "Que pais tiene la mayor diferencia entre su conteo de summer gold medals y winter gold medals relativo a su total conteo de gold medals?\n",
    "\n",
    "$$\\frac{Summer~Gold - Winter~Gold}{Total~Gold}$$\n",
    "\n",
    "Solo incluyan paises que tienen al menos 1 gold en summer **Y** winter.\n",
    "\n",
    "*Esta funcion deberia retornar un solo valor de tipo string*"
   ]
  },
  {
   "cell_type": "code",
   "execution_count": null,
   "metadata": {
    "collapsed": true,
    "jupyter": {
     "outputs_hidden": true
    }
   },
   "outputs": [],
   "source": [
    "def answer_three():\n",
    "    return \"SU RESPUESTA AQUI\""
   ]
  },
  {
   "cell_type": "markdown",
   "metadata": {},
   "source": [
    "### Pregunta 4\n",
    "Escriban una funcion que cree una Series llamada \"Points\" que sea un valor ponderado donde cada gold medal (`Gold.2`) cuenta por 3 puntos, silver medals (`Silver.2`) por 2 puntos, y bronze medals (`Bronze.2`) por 1 punto. La funcion deberia retornar unicamente la columna (un objeto Series) que han creado.\n",
    "\n",
    "*Esta funcion deberia retornar una Series llamada `Points` de largo 146*"
   ]
  },
  {
   "cell_type": "code",
   "execution_count": null,
   "metadata": {
    "collapsed": true,
    "jupyter": {
     "outputs_hidden": true
    }
   },
   "outputs": [],
   "source": [
    "def answer_four():\n",
    "    return \"SU RESPUESTA AQUI\""
   ]
  },
  {
   "cell_type": "markdown",
   "metadata": {},
   "source": [
    "## Part 2\n",
    "\n",
    "Para el siguiente set de preguntas, vamos a usar data de censo de [United States Census Bureau](http://www.census.gov/popest/data/counties/totals/2015/CO-EST2015-alldata.html). Counties son subdivisiones politicas y geograficas de estados en los Estados Unidos. Este dataset contiene data poblacional para counties y states en EEUU del 2010 al 2015. [Vea este documento](http://www.census.gov/popest/data/counties/totals/2015/files/CO-EST2015-alldata.pdf) para una descripcion de los nombres de las variables.\n",
    "\n",
    "El dataset census (census.csv) debe ser cargado como `census_df`. \n",
    "\n",
    "### Pregunta 5\n",
    "Que estado tiene la mayor cantidad de counties? (tip: considere la llave sumlevel cuidadosamente! Tambien la necesitara para futuras preguntas...)\n",
    "\n",
    "*Esta funcion deberia retornar un solo valor de tipo string*"
   ]
  },
  {
   "cell_type": "code",
   "execution_count": null,
   "metadata": {
    "collapsed": true,
    "jupyter": {
     "outputs_hidden": true
    }
   },
   "outputs": [],
   "source": [
    "census_df = pd.read_csv('../data/census.csv')\n",
    "census_df.head()"
   ]
  },
  {
   "cell_type": "code",
   "execution_count": null,
   "metadata": {
    "collapsed": true,
    "jupyter": {
     "outputs_hidden": true
    }
   },
   "outputs": [],
   "source": [
    "def answer_five():\n",
    "    return \"SU RESPUESTA AQUI\""
   ]
  },
  {
   "cell_type": "markdown",
   "metadata": {},
   "source": [
    "### Pregunta 6\n",
    "\n",
    "Solo viendo a los tres counties con mayor poblacion para cada estado, cuales son los tres estados con mayor poblacion (en orden de la poblacion mas alta a la mas baja)? Use `CENSUS2010POP`.\n",
    "\n",
    "*Esta funcion debe retornar una lista de valores string.*"
   ]
  },
  {
   "cell_type": "code",
   "execution_count": null,
   "metadata": {
    "collapsed": true,
    "jupyter": {
     "outputs_hidden": true
    }
   },
   "outputs": [],
   "source": [
    "def answer_six():\n",
    "    return \"SU RESPUESTA AQUI\""
   ]
  },
  {
   "cell_type": "markdown",
   "metadata": {},
   "source": [
    "### Pregunta 7\n",
    "Que county ha tenido el cambio absoluto mas grande en poblacion dentro del periodo 2010-2015? (Tip: Valores de poblacion estan guardados entre las columnas POPESTIMATE2010 y POPESTIMATE2015, deben considerar las seis columnas.)\n",
    "\n",
    "e.i. Si County Population en el periodo de 5 anios es 100, 120, 80, 105, 100, 130, entonces su cambio mas grande en el period seria |130-80| = 50\n",
    "\n",
    "*Esta funcion deberia retornar un valor de tipo string.*"
   ]
  },
  {
   "cell_type": "code",
   "execution_count": null,
   "metadata": {
    "collapsed": true,
    "jupyter": {
     "outputs_hidden": true
    }
   },
   "outputs": [],
   "source": [
    "def answer_seven():\n",
    "    return \"SU RESPUESTA AQUI\""
   ]
  },
  {
   "cell_type": "markdown",
   "metadata": {},
   "source": [
    "### Pregunta 8\n",
    "En este datafile, los Estados Unidos esta partido en cuatro regiones usando la columna \"REGION\".\n",
    "\n",
    "Creen un query que encuentre los counties que pertenezcan a la region 1 o 2, cuyo nombre empiece con \"Washington\", y cuyo POPESTIMATE2015 fue mayor que su POPESTIMATE 2014.\n",
    "\n",
    "*Esta funcion debe retornar un DataFrame 5x2 con las columnas = ['STNAME', 'CTYNAME'] y el mismo indice ID que el census_df (en orden ascendient por indice).*"
   ]
  },
  {
   "cell_type": "code",
   "execution_count": null,
   "metadata": {},
   "outputs": [],
   "source": [
    "def answer_eight():\n",
    "    return \"SU RESPUESTA AQUI\""
   ]
  }
 ],
 "metadata": {
  "anaconda-cloud": {},
  "coursera": {
   "course_slug": "python-data-analysis",
   "graded_item_id": "tHmgx",
   "launcher_item_id": "Um6Bz",
   "part_id": "OQsnr"
  },
  "kernelspec": {
   "display_name": "Python 3",
   "language": "python",
   "name": "python3"
  },
  "language_info": {
   "codemirror_mode": {
    "name": "ipython",
    "version": 3
   },
   "file_extension": ".py",
   "mimetype": "text/x-python",
   "name": "python",
   "nbconvert_exporter": "python",
   "pygments_lexer": "ipython3",
   "version": "3.8.2"
  }
 },
 "nbformat": 4,
 "nbformat_minor": 4
}
