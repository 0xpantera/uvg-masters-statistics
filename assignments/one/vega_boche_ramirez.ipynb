{
 "cells": [
  {
   "cell_type": "markdown",
   "metadata": {},
   "source": [
    "# Assignment 1 - Intro a Pandas\n",
    "\n",
    "## Parte 1\n",
    "El codigo que sigue carga el dataset de las olimpiadas (olympics.csv), que ha sido descargado de la entrada en Wikipedia en [All Time Olympic Games Medals](https://en.wikipedia.org/wiki/All-time_Olympic_Games_medal_table), y hace una limpieza de datos basica. \n",
    "\n",
    "Las columnas estan organizadas como # de Summer games, Summer medals, # of Winter games, Winter medals, total # number of games, total # of medals. Usen este dataset para responder las preguntas."
   ]
  },
  {
   "cell_type": "code",
   "execution_count": 6,
   "metadata": {
    "nbgrader": {
     "grade": false,
     "grade_id": "1",
     "locked": false,
     "solution": false
    }
   },
   "outputs": [
    {
     "data": {
      "text/html": [
       "<div>\n",
       "<style scoped>\n",
       "    .dataframe tbody tr th:only-of-type {\n",
       "        vertical-align: middle;\n",
       "    }\n",
       "\n",
       "    .dataframe tbody tr th {\n",
       "        vertical-align: top;\n",
       "    }\n",
       "\n",
       "    .dataframe thead th {\n",
       "        text-align: right;\n",
       "    }\n",
       "</style>\n",
       "<table border=\"1\" class=\"dataframe\">\n",
       "  <thead>\n",
       "    <tr style=\"text-align: right;\">\n",
       "      <th></th>\n",
       "      <th># Summer</th>\n",
       "      <th>Gold</th>\n",
       "      <th>Silver</th>\n",
       "      <th>Bronze</th>\n",
       "      <th>Total</th>\n",
       "      <th># Winter</th>\n",
       "      <th>Gold.1</th>\n",
       "      <th>Silver.1</th>\n",
       "      <th>Bronze.1</th>\n",
       "      <th>Total.1</th>\n",
       "      <th># Games</th>\n",
       "      <th>Gold.2</th>\n",
       "      <th>Silver.2</th>\n",
       "      <th>Bronze.2</th>\n",
       "      <th>Combined total</th>\n",
       "      <th>ID</th>\n",
       "    </tr>\n",
       "  </thead>\n",
       "  <tbody>\n",
       "    <tr>\n",
       "      <th>Afghanistan</th>\n",
       "      <td>13</td>\n",
       "      <td>0</td>\n",
       "      <td>0</td>\n",
       "      <td>2</td>\n",
       "      <td>2</td>\n",
       "      <td>0</td>\n",
       "      <td>0</td>\n",
       "      <td>0</td>\n",
       "      <td>0</td>\n",
       "      <td>0</td>\n",
       "      <td>13</td>\n",
       "      <td>0</td>\n",
       "      <td>0</td>\n",
       "      <td>2</td>\n",
       "      <td>2</td>\n",
       "      <td>AFG</td>\n",
       "    </tr>\n",
       "    <tr>\n",
       "      <th>Algeria</th>\n",
       "      <td>12</td>\n",
       "      <td>5</td>\n",
       "      <td>2</td>\n",
       "      <td>8</td>\n",
       "      <td>15</td>\n",
       "      <td>3</td>\n",
       "      <td>0</td>\n",
       "      <td>0</td>\n",
       "      <td>0</td>\n",
       "      <td>0</td>\n",
       "      <td>15</td>\n",
       "      <td>5</td>\n",
       "      <td>2</td>\n",
       "      <td>8</td>\n",
       "      <td>15</td>\n",
       "      <td>ALG</td>\n",
       "    </tr>\n",
       "    <tr>\n",
       "      <th>Argentina</th>\n",
       "      <td>23</td>\n",
       "      <td>18</td>\n",
       "      <td>24</td>\n",
       "      <td>28</td>\n",
       "      <td>70</td>\n",
       "      <td>18</td>\n",
       "      <td>0</td>\n",
       "      <td>0</td>\n",
       "      <td>0</td>\n",
       "      <td>0</td>\n",
       "      <td>41</td>\n",
       "      <td>18</td>\n",
       "      <td>24</td>\n",
       "      <td>28</td>\n",
       "      <td>70</td>\n",
       "      <td>ARG</td>\n",
       "    </tr>\n",
       "    <tr>\n",
       "      <th>Armenia</th>\n",
       "      <td>5</td>\n",
       "      <td>1</td>\n",
       "      <td>2</td>\n",
       "      <td>9</td>\n",
       "      <td>12</td>\n",
       "      <td>6</td>\n",
       "      <td>0</td>\n",
       "      <td>0</td>\n",
       "      <td>0</td>\n",
       "      <td>0</td>\n",
       "      <td>11</td>\n",
       "      <td>1</td>\n",
       "      <td>2</td>\n",
       "      <td>9</td>\n",
       "      <td>12</td>\n",
       "      <td>ARM</td>\n",
       "    </tr>\n",
       "    <tr>\n",
       "      <th>Australasia</th>\n",
       "      <td>2</td>\n",
       "      <td>3</td>\n",
       "      <td>4</td>\n",
       "      <td>5</td>\n",
       "      <td>12</td>\n",
       "      <td>0</td>\n",
       "      <td>0</td>\n",
       "      <td>0</td>\n",
       "      <td>0</td>\n",
       "      <td>0</td>\n",
       "      <td>2</td>\n",
       "      <td>3</td>\n",
       "      <td>4</td>\n",
       "      <td>5</td>\n",
       "      <td>12</td>\n",
       "      <td>ANZ</td>\n",
       "    </tr>\n",
       "  </tbody>\n",
       "</table>\n",
       "</div>"
      ],
      "text/plain": [
       "             # Summer  Gold  Silver  Bronze  Total  # Winter  Gold.1  \\\n",
       "Afghanistan        13     0       0       2      2         0       0   \n",
       "Algeria            12     5       2       8     15         3       0   \n",
       "Argentina          23    18      24      28     70        18       0   \n",
       "Armenia             5     1       2       9     12         6       0   \n",
       "Australasia         2     3       4       5     12         0       0   \n",
       "\n",
       "             Silver.1  Bronze.1  Total.1  # Games  Gold.2  Silver.2  Bronze.2  \\\n",
       "Afghanistan         0         0        0       13       0         0         2   \n",
       "Algeria             0         0        0       15       5         2         8   \n",
       "Argentina           0         0        0       41      18        24        28   \n",
       "Armenia             0         0        0       11       1         2         9   \n",
       "Australasia         0         0        0        2       3         4         5   \n",
       "\n",
       "             Combined total   ID  \n",
       "Afghanistan               2  AFG  \n",
       "Algeria                  15  ALG  \n",
       "Argentina                70  ARG  \n",
       "Armenia                  12  ARM  \n",
       "Australasia              12  ANZ  "
      ]
     },
     "execution_count": 6,
     "metadata": {},
     "output_type": "execute_result"
    }
   ],
   "source": [
    "import pandas as pd\n",
    "\n",
    "df = pd.read_csv('../data/olympics.csv', index_col=0, skiprows=1)\n",
    "\n",
    "for col in df.columns:\n",
    "    if col[:2]=='01':\n",
    "        df.rename(columns={col:'Gold'+col[4:]}, inplace=True)\n",
    "    if col[:2]=='02':\n",
    "        df.rename(columns={col:'Silver'+col[4:]}, inplace=True)\n",
    "    if col[:2]=='03':\n",
    "        df.rename(columns={col:'Bronze'+col[4:]}, inplace=True)\n",
    "    if col[:1]=='№':\n",
    "        df.rename(columns={col:'#'+col[1:]}, inplace=True)\n",
    "\n",
    "names_ids = df.index.str.split('\\s\\(') # split the index by '('\n",
    "\n",
    "df.index = names_ids.str[0] # the [0] element is the country name (new index) \n",
    "df['ID'] = names_ids.str[1].str[:3] # the [1] element is the abbreviation or ID (take first 3 characters from that)\n",
    "\n",
    "df = df.drop('Totals')\n",
    "df.head()"
   ]
  },
  {
   "cell_type": "markdown",
   "metadata": {},
   "source": [
    "### Pregunta 0 (Ejemplo)\n",
    "\n",
    "Cual es el primer pais en df?\n",
    "\n",
    "*Esta funcion deberia regresar una Series.*"
   ]
  },
  {
   "cell_type": "code",
   "execution_count": 7,
   "metadata": {},
   "outputs": [
    {
     "data": {
      "text/plain": [
       "'Afghanistan'"
      ]
     },
     "execution_count": 7,
     "metadata": {},
     "output_type": "execute_result"
    }
   ],
   "source": [
    "def answer_zero():\n",
    "    # Esta funcion regresa la fila para Afghanistan, que es un Series object. \n",
    "    return df.iloc[0].name\n",
    "\n",
    "# Pueden examinar que regresa su funcion llamandola en esta celda. \n",
    "answer_zero()"
   ]
  },
  {
   "cell_type": "markdown",
   "metadata": {},
   "source": [
    "### Pregunta 1\n",
    "Que pais ha ganado la mayor cantidad de medallas de oro en los summer games?\n",
    "\n",
    "*Esta funcion deberia retornar un solo valor de tipo string*"
   ]
  },
  {
   "cell_type": "code",
   "execution_count": 8,
   "metadata": {
    "nbgrader": {
     "grade": false,
     "locked": false,
     "solution": false
    }
   },
   "outputs": [
    {
     "name": "stdout",
     "output_type": "stream",
     "text": [
      "United States es el pais que mas medallas ha ganado en los summer games\n"
     ]
    }
   ],
   "source": [
    "def answer_one():\n",
    "    return print(df.iloc[df['Gold'].argmax()].name + ' es el pais que mas medallas ha ganado en los summer games')\n",
    "\n",
    "answer_one()"
   ]
  },
  {
   "cell_type": "markdown",
   "metadata": {},
   "source": [
    "### Pregunta 2\n",
    "Que pais tuvo la mayor diferencia en su conteo de medallas de oro entre summer y winter?\n",
    "\n",
    "\n",
    "*Esta funcion deberia retornar un solo valor de tipo string*"
   ]
  },
  {
   "cell_type": "code",
   "execution_count": 10,
   "metadata": {},
   "outputs": [
    {
     "name": "stdout",
     "output_type": "stream",
     "text": [
      "United States es el pais que mayor diferencia en su conteo de medallas de oro entre summer y winter ha tenido\n"
     ]
    }
   ],
   "source": [
    "def answer_two():\n",
    "    return print( df.iloc[((df['Gold'] - df['Gold.1']).abs()).argmax()].name + ' es el pais que mayor diferencia en su conteo de medallas de oro entre summer y winter ha tenido')\n",
    "\n",
    "answer_two()"
   ]
  },
  {
   "cell_type": "markdown",
   "metadata": {},
   "source": [
    "### Pregunta 3\n",
    "Que pais tiene la mayor diferencia entre su conteo de summer gold medals y winter gold medals relativo a su total conteo de gold medals?\n",
    "\n",
    "$$\\frac{Summer~Gold - Winter~Gold}{Total~Gold}$$\n",
    "\n",
    "Solo incluyan paises que tienen al menos 1 gold en summer **Y** winter.\n",
    "\n",
    "*Esta funcion deberia retornar un solo valor de tipo string*"
   ]
  },
  {
   "cell_type": "code",
   "execution_count": 22,
   "metadata": {},
   "outputs": [
    {
     "name": "stdout",
     "output_type": "stream",
     "text": [
      "Bulgaria es el pais que tiene la mayor diferencia entre su conteo de summer gold medals y winter gold medals relativo a su total conteo de gold medals (se realizo valor absoluto de la operacion para que no importe la direccion summer-winter o winter-summer)\n"
     ]
    }
   ],
   "source": [
    "def answer_three():\n",
    "    df_p3 = df.copy()\n",
    "    df_p3 = df_p3[(df_p3['Gold']!=0) & (df_p3['Gold.1']!=0)]\n",
    "    df_p3 = df_p3.drop(columns=['# Summer', '# Winter', '# Games', 'Silver', 'Silver.1', 'Silver.2', 'Bronze', 'Bronze.1', 'Bronze.2', 'Total', 'Total.1', 'Combined total', 'ID'])\n",
    "    df_p3['var_aux_p3'] = ((df_p3['Gold'] - df_p3['Gold.1']) / df_p3['Gold.2']).abs()\n",
    "    \n",
    "    return print(df_p3.iloc[df_p3['var_aux_p3'].argmax()].name + ' es el pais que tiene la mayor diferencia entre su conteo de summer gold medals y winter gold medals relativo a su total conteo de gold medals (se realizo valor absoluto de la operacion para que no importe la direccion summer-winter o winter-summer)')\n",
    "\n",
    "answer_three()"
   ]
  },
  {
   "cell_type": "markdown",
   "metadata": {},
   "source": [
    "### Pregunta 4\n",
    "Escriban una funcion que cree una Series llamada \"Points\" que sea un valor ponderado donde cada gold medal (`Gold.2`) cuenta por 3 puntos, silver medals (`Silver.2`) por 2 puntos, y bronze medals (`Bronze.2`) por 1 punto. La funcion deberia retornar unicamente la columna (un objeto Series) que han creado.\n",
    "\n",
    "*Esta funcion deberia retornar una Series llamada `Points` de largo 146*"
   ]
  },
  {
   "cell_type": "code",
   "execution_count": 25,
   "metadata": {},
   "outputs": [
    {
     "data": {
      "text/plain": [
       "Afghanistan                           2\n",
       "Algeria                              27\n",
       "Argentina                           130\n",
       "Armenia                              16\n",
       "Australasia                          22\n",
       "                                   ... \n",
       "Yugoslavia                          171\n",
       "Independent Olympic Participants      4\n",
       "Zambia                                3\n",
       "Zimbabwe                             18\n",
       "Mixed team                           38\n",
       "Name: points, Length: 146, dtype: int64"
      ]
     },
     "execution_count": 25,
     "metadata": {},
     "output_type": "execute_result"
    }
   ],
   "source": [
    "def answer_four():\n",
    "    df_p4 = df.copy()\n",
    "    df_p4['points'] = df_p4['Gold.2']*3 + df_p4['Silver.2']*2 + df_p4['Bronze.2']*1\n",
    "    return df_p4.loc[:,'points']\n",
    "\n",
    "answer_four()"
   ]
  },
  {
   "cell_type": "markdown",
   "metadata": {},
   "source": [
    "## Part 2\n",
    "\n",
    "Para el siguiente set de preguntas, vamos a usar data de censo de [United States Census Bureau](http://www.census.gov/popest/data/counties/totals/2015/CO-EST2015-alldata.html). Counties son subdivisiones politicas y geograficas de estados en los Estados Unidos. Este dataset contiene data poblacional para counties y states en EEUU del 2010 al 2015. [Vea este documento](http://www.census.gov/popest/data/counties/totals/2015/files/CO-EST2015-alldata.pdf) para una descripcion de los nombres de las variables.\n",
    "\n",
    "El dataset census (census.csv) debe ser cargado como `census_df`. \n",
    "\n",
    "### Pregunta 5\n",
    "Que estado tiene la mayor cantidad de counties? (tip: considere la llave sumlevel cuidadosamente! Tambien la necesitara para futuras preguntas...)\n",
    "\n",
    "*Esta funcion deberia retornar un solo valor de tipo string*"
   ]
  },
  {
   "cell_type": "code",
   "execution_count": 27,
   "metadata": {},
   "outputs": [
    {
     "data": {
      "text/html": [
       "<div>\n",
       "<style scoped>\n",
       "    .dataframe tbody tr th:only-of-type {\n",
       "        vertical-align: middle;\n",
       "    }\n",
       "\n",
       "    .dataframe tbody tr th {\n",
       "        vertical-align: top;\n",
       "    }\n",
       "\n",
       "    .dataframe thead th {\n",
       "        text-align: right;\n",
       "    }\n",
       "</style>\n",
       "<table border=\"1\" class=\"dataframe\">\n",
       "  <thead>\n",
       "    <tr style=\"text-align: right;\">\n",
       "      <th></th>\n",
       "      <th>REGION</th>\n",
       "      <th>DIVISION</th>\n",
       "      <th>STATE</th>\n",
       "      <th>COUNTY</th>\n",
       "      <th>STNAME</th>\n",
       "      <th>CTYNAME</th>\n",
       "      <th>CENSUS2010POP</th>\n",
       "      <th>ESTIMATESBASE2010</th>\n",
       "      <th>POPESTIMATE2010</th>\n",
       "      <th>POPESTIMATE2011</th>\n",
       "      <th>...</th>\n",
       "      <th>RDOMESTICMIG2011</th>\n",
       "      <th>RDOMESTICMIG2012</th>\n",
       "      <th>RDOMESTICMIG2013</th>\n",
       "      <th>RDOMESTICMIG2014</th>\n",
       "      <th>RDOMESTICMIG2015</th>\n",
       "      <th>RNETMIG2011</th>\n",
       "      <th>RNETMIG2012</th>\n",
       "      <th>RNETMIG2013</th>\n",
       "      <th>RNETMIG2014</th>\n",
       "      <th>RNETMIG2015</th>\n",
       "    </tr>\n",
       "    <tr>\n",
       "      <th>SUMLEV</th>\n",
       "      <th></th>\n",
       "      <th></th>\n",
       "      <th></th>\n",
       "      <th></th>\n",
       "      <th></th>\n",
       "      <th></th>\n",
       "      <th></th>\n",
       "      <th></th>\n",
       "      <th></th>\n",
       "      <th></th>\n",
       "      <th></th>\n",
       "      <th></th>\n",
       "      <th></th>\n",
       "      <th></th>\n",
       "      <th></th>\n",
       "      <th></th>\n",
       "      <th></th>\n",
       "      <th></th>\n",
       "      <th></th>\n",
       "      <th></th>\n",
       "      <th></th>\n",
       "    </tr>\n",
       "  </thead>\n",
       "  <tbody>\n",
       "    <tr>\n",
       "      <th>40</th>\n",
       "      <td>3</td>\n",
       "      <td>6</td>\n",
       "      <td>1</td>\n",
       "      <td>0</td>\n",
       "      <td>Alabama</td>\n",
       "      <td>Alabama</td>\n",
       "      <td>4779736</td>\n",
       "      <td>4780127</td>\n",
       "      <td>4785161</td>\n",
       "      <td>4801108</td>\n",
       "      <td>...</td>\n",
       "      <td>0.002295</td>\n",
       "      <td>-0.193196</td>\n",
       "      <td>0.381066</td>\n",
       "      <td>0.582002</td>\n",
       "      <td>-0.467369</td>\n",
       "      <td>1.030015</td>\n",
       "      <td>0.826644</td>\n",
       "      <td>1.383282</td>\n",
       "      <td>1.724718</td>\n",
       "      <td>0.712594</td>\n",
       "    </tr>\n",
       "    <tr>\n",
       "      <th>50</th>\n",
       "      <td>3</td>\n",
       "      <td>6</td>\n",
       "      <td>1</td>\n",
       "      <td>1</td>\n",
       "      <td>Alabama</td>\n",
       "      <td>Autauga County</td>\n",
       "      <td>54571</td>\n",
       "      <td>54571</td>\n",
       "      <td>54660</td>\n",
       "      <td>55253</td>\n",
       "      <td>...</td>\n",
       "      <td>7.242091</td>\n",
       "      <td>-2.915927</td>\n",
       "      <td>-3.012349</td>\n",
       "      <td>2.265971</td>\n",
       "      <td>-2.530799</td>\n",
       "      <td>7.606016</td>\n",
       "      <td>-2.626146</td>\n",
       "      <td>-2.722002</td>\n",
       "      <td>2.592270</td>\n",
       "      <td>-2.187333</td>\n",
       "    </tr>\n",
       "    <tr>\n",
       "      <th>50</th>\n",
       "      <td>3</td>\n",
       "      <td>6</td>\n",
       "      <td>1</td>\n",
       "      <td>3</td>\n",
       "      <td>Alabama</td>\n",
       "      <td>Baldwin County</td>\n",
       "      <td>182265</td>\n",
       "      <td>182265</td>\n",
       "      <td>183193</td>\n",
       "      <td>186659</td>\n",
       "      <td>...</td>\n",
       "      <td>14.832960</td>\n",
       "      <td>17.647293</td>\n",
       "      <td>21.845705</td>\n",
       "      <td>19.243287</td>\n",
       "      <td>17.197872</td>\n",
       "      <td>15.844176</td>\n",
       "      <td>18.559627</td>\n",
       "      <td>22.727626</td>\n",
       "      <td>20.317142</td>\n",
       "      <td>18.293499</td>\n",
       "    </tr>\n",
       "    <tr>\n",
       "      <th>50</th>\n",
       "      <td>3</td>\n",
       "      <td>6</td>\n",
       "      <td>1</td>\n",
       "      <td>5</td>\n",
       "      <td>Alabama</td>\n",
       "      <td>Barbour County</td>\n",
       "      <td>27457</td>\n",
       "      <td>27457</td>\n",
       "      <td>27341</td>\n",
       "      <td>27226</td>\n",
       "      <td>...</td>\n",
       "      <td>-4.728132</td>\n",
       "      <td>-2.500690</td>\n",
       "      <td>-7.056824</td>\n",
       "      <td>-3.904217</td>\n",
       "      <td>-10.543299</td>\n",
       "      <td>-4.874741</td>\n",
       "      <td>-2.758113</td>\n",
       "      <td>-7.167664</td>\n",
       "      <td>-3.978583</td>\n",
       "      <td>-10.543299</td>\n",
       "    </tr>\n",
       "    <tr>\n",
       "      <th>50</th>\n",
       "      <td>3</td>\n",
       "      <td>6</td>\n",
       "      <td>1</td>\n",
       "      <td>7</td>\n",
       "      <td>Alabama</td>\n",
       "      <td>Bibb County</td>\n",
       "      <td>22915</td>\n",
       "      <td>22919</td>\n",
       "      <td>22861</td>\n",
       "      <td>22733</td>\n",
       "      <td>...</td>\n",
       "      <td>-5.527043</td>\n",
       "      <td>-5.068871</td>\n",
       "      <td>-6.201001</td>\n",
       "      <td>-0.177537</td>\n",
       "      <td>0.177258</td>\n",
       "      <td>-5.088389</td>\n",
       "      <td>-4.363636</td>\n",
       "      <td>-5.403729</td>\n",
       "      <td>0.754533</td>\n",
       "      <td>1.107861</td>\n",
       "    </tr>\n",
       "  </tbody>\n",
       "</table>\n",
       "<p>5 rows × 99 columns</p>\n",
       "</div>"
      ],
      "text/plain": [
       "        REGION  DIVISION  STATE  COUNTY   STNAME         CTYNAME  \\\n",
       "SUMLEV                                                             \n",
       "40           3         6      1       0  Alabama         Alabama   \n",
       "50           3         6      1       1  Alabama  Autauga County   \n",
       "50           3         6      1       3  Alabama  Baldwin County   \n",
       "50           3         6      1       5  Alabama  Barbour County   \n",
       "50           3         6      1       7  Alabama     Bibb County   \n",
       "\n",
       "        CENSUS2010POP  ESTIMATESBASE2010  POPESTIMATE2010  POPESTIMATE2011  \\\n",
       "SUMLEV                                                                       \n",
       "40            4779736            4780127          4785161          4801108   \n",
       "50              54571              54571            54660            55253   \n",
       "50             182265             182265           183193           186659   \n",
       "50              27457              27457            27341            27226   \n",
       "50              22915              22919            22861            22733   \n",
       "\n",
       "        ...  RDOMESTICMIG2011  RDOMESTICMIG2012  RDOMESTICMIG2013  \\\n",
       "SUMLEV  ...                                                         \n",
       "40      ...          0.002295         -0.193196          0.381066   \n",
       "50      ...          7.242091         -2.915927         -3.012349   \n",
       "50      ...         14.832960         17.647293         21.845705   \n",
       "50      ...         -4.728132         -2.500690         -7.056824   \n",
       "50      ...         -5.527043         -5.068871         -6.201001   \n",
       "\n",
       "        RDOMESTICMIG2014  RDOMESTICMIG2015  RNETMIG2011  RNETMIG2012  \\\n",
       "SUMLEV                                                                 \n",
       "40              0.582002         -0.467369     1.030015     0.826644   \n",
       "50              2.265971         -2.530799     7.606016    -2.626146   \n",
       "50             19.243287         17.197872    15.844176    18.559627   \n",
       "50             -3.904217        -10.543299    -4.874741    -2.758113   \n",
       "50             -0.177537          0.177258    -5.088389    -4.363636   \n",
       "\n",
       "        RNETMIG2013  RNETMIG2014  RNETMIG2015  \n",
       "SUMLEV                                         \n",
       "40         1.383282     1.724718     0.712594  \n",
       "50        -2.722002     2.592270    -2.187333  \n",
       "50        22.727626    20.317142    18.293499  \n",
       "50        -7.167664    -3.978583   -10.543299  \n",
       "50        -5.403729     0.754533     1.107861  \n",
       "\n",
       "[5 rows x 99 columns]"
      ]
     },
     "execution_count": 27,
     "metadata": {},
     "output_type": "execute_result"
    }
   ],
   "source": [
    "import pandas as pd\n",
    "census_df = pd.read_csv('../data/census.csv', index_col=0, skiprows=0)\n",
    "census_df.head()"
   ]
  },
  {
   "cell_type": "code",
   "execution_count": 28,
   "metadata": {},
   "outputs": [
    {
     "name": "stdout",
     "output_type": "stream",
     "text": [
      "Virginia es el estado con más subdivisiones politicas y geograficas de los Estados Unidos \n"
     ]
    }
   ],
   "source": [
    "def answer_five():\n",
    "    return print(census_df.iloc[census_df['COUNTY'].argmax(),4] + ' es el estado con más subdivisiones politicas y geograficas de los Estados Unidos ')\n",
    "\n",
    "answer_five()"
   ]
  },
  {
   "cell_type": "markdown",
   "metadata": {},
   "source": [
    "### Pregunta 6\n",
    "\n",
    "Solo viendo a los tres counties con mayor poblacion para cada estado, cuales son los tres estados con mayor poblacion (en orden de la poblacion mas alta a la mas baja)? Use `CENSUS2010POP`.\n",
    "\n",
    "*Esta funcion debe retornar una lista de valores string.*"
   ]
  },
  {
   "cell_type": "code",
   "execution_count": 35,
   "metadata": {},
   "outputs": [
    {
     "data": {
      "text/html": [
       "<div>\n",
       "<style scoped>\n",
       "    .dataframe tbody tr th:only-of-type {\n",
       "        vertical-align: middle;\n",
       "    }\n",
       "\n",
       "    .dataframe tbody tr th {\n",
       "        vertical-align: top;\n",
       "    }\n",
       "\n",
       "    .dataframe thead th {\n",
       "        text-align: right;\n",
       "    }\n",
       "</style>\n",
       "<table border=\"1\" class=\"dataframe\">\n",
       "  <thead>\n",
       "    <tr style=\"text-align: right;\">\n",
       "      <th></th>\n",
       "      <th>STNAME</th>\n",
       "      <th>CENSUS2010POP</th>\n",
       "    </tr>\n",
       "  </thead>\n",
       "  <tbody>\n",
       "    <tr>\n",
       "      <th>0</th>\n",
       "      <td>California</td>\n",
       "      <td>50167874</td>\n",
       "    </tr>\n",
       "    <tr>\n",
       "      <th>1</th>\n",
       "      <td>Texas</td>\n",
       "      <td>31606159</td>\n",
       "    </tr>\n",
       "    <tr>\n",
       "      <th>2</th>\n",
       "      <td>New York</td>\n",
       "      <td>24113524</td>\n",
       "    </tr>\n",
       "  </tbody>\n",
       "</table>\n",
       "</div>"
      ],
      "text/plain": [
       "       STNAME  CENSUS2010POP\n",
       "0  California       50167874\n",
       "1       Texas       31606159\n",
       "2    New York       24113524"
      ]
     },
     "execution_count": 35,
     "metadata": {},
     "output_type": "execute_result"
    }
   ],
   "source": [
    " def answer_six():\n",
    "    df_p6 = census_df.copy()\n",
    "    df_p6 = df_p6.groupby('STNAME', as_index=False).apply(lambda x: x.nlargest(3, 'CENSUS2010POP'))\n",
    "    df_p6_sum_top3 = (df_p6.groupby(['STNAME'])['CENSUS2010POP'].agg('sum')).nlargest(3)\n",
    "    df_p6_sum_top3 = df_p6_sum_top3.reset_index()\n",
    "    \n",
    "    return df_p6_sum_top3 #df_p6_sum_top3 #df_p6[df_p6.STNAME == df_p6_sum_top3.iloc[0,1]] #df_p6_sum_top3.iloc[0] #df_p6[df_p6.STNAME == 'California']\n",
    "\n",
    "answer_six()"
   ]
  },
  {
   "cell_type": "markdown",
   "metadata": {},
   "source": [
    "### Pregunta 7\n",
    "Que county ha tenido el cambio absoluto mas grande en poblacion dentro del periodo 2010-2015? (Tip: Valores de poblacion estan guardados entre las columnas POPESTIMATE2010 y POPESTIMATE2015, deben considerar las seis columnas.)\n",
    "\n",
    "e.i. Si County Population en el periodo de 5 anios es 100, 120, 80, 105, 100, 130, entonces su cambio mas grande en el period seria |130-80| = 50\n",
    "\n",
    "*Esta funcion deberia retornar un valor de tipo string.*"
   ]
  },
  {
   "cell_type": "code",
   "execution_count": 36,
   "metadata": {},
   "outputs": [
    {
     "name": "stdout",
     "output_type": "stream",
     "text": [
      "Texas es el país que ha tenido el cambio absoluto más grande en población dentro del período 2010-2015\n"
     ]
    }
   ],
   "source": [
    "def answer_seven():\n",
    "    df_p7 = census_df.copy()\n",
    "    df_p7['minValue'] = df_p7.loc[:, ['POPESTIMATE2010', 'POPESTIMATE2011', 'POPESTIMATE2012', 'POPESTIMATE2013', 'POPESTIMATE2014', 'POPESTIMATE2015']].min(axis=1)\n",
    "    df_p7['maxValue'] = df_p7.loc[:, ['POPESTIMATE2010', 'POPESTIMATE2011', 'POPESTIMATE2012', 'POPESTIMATE2013', 'POPESTIMATE2014', 'POPESTIMATE2015']].max(axis=1)\n",
    "    df_p7['deltaValue'] = (df_p7['maxValue'] - df_p7['minValue']).abs()\n",
    "    \n",
    "    return print(df_p7.iloc[df_p7['deltaValue'].argmax(),4] + ' es el país que ha tenido el cambio absoluto más grande en población dentro del período 2010-2015')\n",
    "\n",
    "answer_seven()"
   ]
  },
  {
   "cell_type": "markdown",
   "metadata": {},
   "source": [
    "### Pregunta 8\n",
    "En este datafile, los Estados Unidos esta partido en cuatro regiones usando la columna \"REGION\".\n",
    "\n",
    "Creen un query que encuentre los counties que pertenezcan a la region 1 o 2, cuyo nombre empiece con \"Washington\", y cuyo POPESTIMATE2015 fue mayor que su POPESTIMATE 2014.\n",
    "\n",
    "*Esta funcion debe retornar un DataFrame 5x2 con las columnas = ['STNAME', 'CTYNAME'] y el mismo indice ID que el census_df (en orden ascendient por indice).*"
   ]
  },
  {
   "cell_type": "code",
   "execution_count": 44,
   "metadata": {},
   "outputs": [
    {
     "data": {
      "text/html": [
       "<div>\n",
       "<style scoped>\n",
       "    .dataframe tbody tr th:only-of-type {\n",
       "        vertical-align: middle;\n",
       "    }\n",
       "\n",
       "    .dataframe tbody tr th {\n",
       "        vertical-align: top;\n",
       "    }\n",
       "\n",
       "    .dataframe thead th {\n",
       "        text-align: right;\n",
       "    }\n",
       "</style>\n",
       "<table border=\"1\" class=\"dataframe\">\n",
       "  <thead>\n",
       "    <tr style=\"text-align: right;\">\n",
       "      <th></th>\n",
       "      <th>STNAME</th>\n",
       "      <th>CTYNAME</th>\n",
       "    </tr>\n",
       "    <tr>\n",
       "      <th>SUMLEV</th>\n",
       "      <th></th>\n",
       "      <th></th>\n",
       "    </tr>\n",
       "  </thead>\n",
       "  <tbody>\n",
       "    <tr>\n",
       "      <th>50</th>\n",
       "      <td>Iowa</td>\n",
       "      <td>Washington County</td>\n",
       "    </tr>\n",
       "    <tr>\n",
       "      <th>50</th>\n",
       "      <td>Minnesota</td>\n",
       "      <td>Washington County</td>\n",
       "    </tr>\n",
       "    <tr>\n",
       "      <th>50</th>\n",
       "      <td>Pennsylvania</td>\n",
       "      <td>Washington County</td>\n",
       "    </tr>\n",
       "    <tr>\n",
       "      <th>50</th>\n",
       "      <td>Rhode Island</td>\n",
       "      <td>Washington County</td>\n",
       "    </tr>\n",
       "    <tr>\n",
       "      <th>50</th>\n",
       "      <td>Wisconsin</td>\n",
       "      <td>Washington County</td>\n",
       "    </tr>\n",
       "  </tbody>\n",
       "</table>\n",
       "</div>"
      ],
      "text/plain": [
       "              STNAME            CTYNAME\n",
       "SUMLEV                                 \n",
       "50              Iowa  Washington County\n",
       "50         Minnesota  Washington County\n",
       "50      Pennsylvania  Washington County\n",
       "50      Rhode Island  Washington County\n",
       "50         Wisconsin  Washington County"
      ]
     },
     "execution_count": 44,
     "metadata": {},
     "output_type": "execute_result"
    }
   ],
   "source": [
    "def answer_eight():\n",
    "    df_p8 = census_df.copy()\n",
    "    df_p8['var_aux'] = df_p8['POPESTIMATE2015'] > df_p8['POPESTIMATE2014']\n",
    "    df_p8 = df_p8[df_p8['CTYNAME'].apply(lambda x: x.startswith('Washington'))]\n",
    "    df_p8 = df_p8[((df_p8.REGION == 1) | (df_p8.REGION == 2)) & (df_p8.var_aux == True)]\n",
    "    df_p8 = df_p8.filter(['STNAME', 'CTYNAME'])\n",
    "    return df_p8\n",
    "\n",
    "answer_eight()"
   ]
  }
 ],
 "metadata": {
  "anaconda-cloud": {},
  "coursera": {
   "course_slug": "python-data-analysis",
   "graded_item_id": "tHmgx",
   "launcher_item_id": "Um6Bz",
   "part_id": "OQsnr"
  },
  "kernelspec": {
   "display_name": "Python 3",
   "language": "python",
   "name": "python3"
  },
  "language_info": {
   "codemirror_mode": {
    "name": "ipython",
    "version": 3
   },
   "file_extension": ".py",
   "mimetype": "text/x-python",
   "name": "python",
   "nbconvert_exporter": "python",
   "pygments_lexer": "ipython3",
   "version": "3.7.5"
  }
 },
 "nbformat": 4,
 "nbformat_minor": 4
}
