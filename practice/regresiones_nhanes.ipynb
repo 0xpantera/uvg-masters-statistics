{
 "cells": [
  {
   "cell_type": "markdown",
   "metadata": {},
   "source": [
    "# Modelos lineales, un caso de estudio con la data de NHANES\n",
    "\n",
    "Este notebook introduce dos metodos de modelado estadistico: regresion lineal y regresion logistica. El enfoque es en ajustar estos dos tipos de modelos a la data usando las librerias de Python. Como en los otros casos de estudio, vamos a analizar la data de [NHANES](https://www.cdc.gov/nchs/nhanes/index.htm) para ilustrar el uso de estos dos modelos de regresion a la hora de abordar preguntas de investigacion con data real."
   ]
  },
  {
   "cell_type": "code",
   "execution_count": 1,
   "metadata": {},
   "outputs": [],
   "source": [
    "%matplotlib inline\n",
    "import matplotlib.pyplot as plt\n",
    "import seaborn as sns\n",
    "import pandas as pd\n",
    "import statsmodels.api as sm\n",
    "import numpy as np"
   ]
  },
  {
   "cell_type": "code",
   "execution_count": 3,
   "metadata": {},
   "outputs": [],
   "source": [
    "# Read the 2015-2016 wave of NHANES data\n",
    "da = pd.read_csv(\"../data/nhanes_2015_2016.csv\")\n",
    "\n",
    "# Drop unused columns, and drop rows with any missing values.\n",
    "cols = [\"BPXSY1\", \"RIDAGEYR\", \"RIAGENDR\", \"RIDRETH1\", \"DMDEDUC2\", \"BMXBMI\", \"SMQ020\"]\n",
    "da = da[cols].dropna()"
   ]
  },
  {
   "cell_type": "markdown",
   "metadata": {},
   "source": [
    "## Regresion lineal\n",
    "\n",
    "Inicialmente nos vamos a enfocar en modelos de regresion donde la systolic [blood pressure](https://en.wikipedia.org/wiki/Blood_pressure) (SBP) es la variable dependiente. Es decir, vamos a predecir SBP de otras variables. SBP tiende a ser un buen indicador de salud cardiovascular. Tiende a incrementar con la edad, es mas alta para personas con sobre peso (un BMI mayor) y tambien difiere entre grupos demograficos, como por ejemple entre genero y grupos etnicos.\n",
    "\n",
    "Ya que SBP es una variable cuantitativa, vamos a modelarla usando una regresion lineal. La regresion lineal es la forma de regresion estadistica mas utilizada. Aunque la regresion lineal no es el unico tipo de modelo de regresion que se puede usar es un excelente punto de partida para modelar variables cuantitativas.\n",
    "\n",
    "\n",
    "### Interpretando los parametros de regresion en un modelo basico\n",
    "\n",
    "Empezamos con una simple regresion lineal con un solo covariable, edad, prediciendo SBP. En la data de NHANES la variable [BPXSY1](https://wwwn.cdc.gov/Nchs/Nhanes/2015-2016/BPX_I.htm#BPXSY1) contiene la primera medida registrada de SBP para un sujeto y [RIDAGEYR](https://wwwn.cdc.gov/Nchs/Nhanes/2015-2016/DEMO_I.htm#RIDAGEYR) es la edad del sujeto en anios. El modelo ajustado en la siguiente celda expresa el SBP esperado como una funcion lineal de edad:"
   ]
  },
  {
   "cell_type": "code",
   "execution_count": 12,
   "metadata": {},
   "outputs": [
    {
     "data": {
      "text/html": [
       "<table class=\"simpletable\">\n",
       "<caption>OLS Regression Results</caption>\n",
       "<tr>\n",
       "  <th>Dep. Variable:</th>         <td>BPXSY1</td>      <th>  R-squared:         </th> <td>   0.207</td> \n",
       "</tr>\n",
       "<tr>\n",
       "  <th>Model:</th>                   <td>OLS</td>       <th>  Adj. R-squared:    </th> <td>   0.207</td> \n",
       "</tr>\n",
       "<tr>\n",
       "  <th>Method:</th>             <td>Least Squares</td>  <th>  F-statistic:       </th> <td>   1333.</td> \n",
       "</tr>\n",
       "<tr>\n",
       "  <th>Date:</th>             <td>Thu, 07 May 2020</td> <th>  Prob (F-statistic):</th> <td>2.09e-259</td>\n",
       "</tr>\n",
       "<tr>\n",
       "  <th>Time:</th>                 <td>21:06:32</td>     <th>  Log-Likelihood:    </th> <td> -21530.</td> \n",
       "</tr>\n",
       "<tr>\n",
       "  <th>No. Observations:</th>      <td>  5102</td>      <th>  AIC:               </th> <td>4.306e+04</td>\n",
       "</tr>\n",
       "<tr>\n",
       "  <th>Df Residuals:</th>          <td>  5100</td>      <th>  BIC:               </th> <td>4.308e+04</td>\n",
       "</tr>\n",
       "<tr>\n",
       "  <th>Df Model:</th>              <td>     1</td>      <th>                     </th>     <td> </td>    \n",
       "</tr>\n",
       "<tr>\n",
       "  <th>Covariance Type:</th>      <td>nonrobust</td>    <th>                     </th>     <td> </td>    \n",
       "</tr>\n",
       "</table>\n",
       "<table class=\"simpletable\">\n",
       "<tr>\n",
       "      <td></td>         <th>coef</th>     <th>std err</th>      <th>t</th>      <th>P>|t|</th>  <th>[0.025</th>    <th>0.975]</th>  \n",
       "</tr>\n",
       "<tr>\n",
       "  <th>Intercept</th> <td>  102.0935</td> <td>    0.685</td> <td>  149.120</td> <td> 0.000</td> <td>  100.751</td> <td>  103.436</td>\n",
       "</tr>\n",
       "<tr>\n",
       "  <th>RIDAGEYR</th>  <td>    0.4759</td> <td>    0.013</td> <td>   36.504</td> <td> 0.000</td> <td>    0.450</td> <td>    0.501</td>\n",
       "</tr>\n",
       "</table>\n",
       "<table class=\"simpletable\">\n",
       "<tr>\n",
       "  <th>Omnibus:</th>       <td>690.261</td> <th>  Durbin-Watson:     </th> <td>   2.039</td>\n",
       "</tr>\n",
       "<tr>\n",
       "  <th>Prob(Omnibus):</th> <td> 0.000</td>  <th>  Jarque-Bera (JB):  </th> <td>1505.999</td>\n",
       "</tr>\n",
       "<tr>\n",
       "  <th>Skew:</th>          <td> 0.810</td>  <th>  Prob(JB):          </th> <td>    0.00</td>\n",
       "</tr>\n",
       "<tr>\n",
       "  <th>Kurtosis:</th>      <td> 5.112</td>  <th>  Cond. No.          </th> <td>    156.</td>\n",
       "</tr>\n",
       "</table><br/><br/>Warnings:<br/>[1] Standard Errors assume that the covariance matrix of the errors is correctly specified."
      ],
      "text/plain": [
       "<class 'statsmodels.iolib.summary.Summary'>\n",
       "\"\"\"\n",
       "                            OLS Regression Results                            \n",
       "==============================================================================\n",
       "Dep. Variable:                 BPXSY1   R-squared:                       0.207\n",
       "Model:                            OLS   Adj. R-squared:                  0.207\n",
       "Method:                 Least Squares   F-statistic:                     1333.\n",
       "Date:                Thu, 07 May 2020   Prob (F-statistic):          2.09e-259\n",
       "Time:                        21:06:32   Log-Likelihood:                -21530.\n",
       "No. Observations:                5102   AIC:                         4.306e+04\n",
       "Df Residuals:                    5100   BIC:                         4.308e+04\n",
       "Df Model:                           1                                         \n",
       "Covariance Type:            nonrobust                                         \n",
       "==============================================================================\n",
       "                 coef    std err          t      P>|t|      [0.025      0.975]\n",
       "------------------------------------------------------------------------------\n",
       "Intercept    102.0935      0.685    149.120      0.000     100.751     103.436\n",
       "RIDAGEYR       0.4759      0.013     36.504      0.000       0.450       0.501\n",
       "==============================================================================\n",
       "Omnibus:                      690.261   Durbin-Watson:                   2.039\n",
       "Prob(Omnibus):                  0.000   Jarque-Bera (JB):             1505.999\n",
       "Skew:                           0.810   Prob(JB):                         0.00\n",
       "Kurtosis:                       5.112   Cond. No.                         156.\n",
       "==============================================================================\n",
       "\n",
       "Warnings:\n",
       "[1] Standard Errors assume that the covariance matrix of the errors is correctly specified.\n",
       "\"\"\""
      ]
     },
     "execution_count": 12,
     "metadata": {},
     "output_type": "execute_result"
    }
   ],
   "source": [
    "model = sm.OLS.from_formula(\"BPXSY1 ~ RIDAGEYR\", data=da)\n",
    "result = model.fit()\n",
    "result.summary()"
   ]
  },
  {
   "cell_type": "markdown",
   "metadata": {},
   "source": [
    "Mucho del output de arriba no es relevante para nosotros, enfoquense en la seccion en el centro del output donde el encabezado empieza con __coef__. Esta seccion contiene los valores estimados de los parametros de regresion del modelo, su error estandar y otros valores que se usan para cuantificar la incertidumbre en los estimados de los parametros de regresion.\n",
    "\n",
    "Este modelo ajustado implica que cuando comparamos dos personas cuya edad difiere por un anio, la persona mayor va a tener, en promedio, 0.48 unidades de SBP mas alto que la persona mas joven. Esta diferencia es estadisticamente significativa, basado en el p-value bajo la columna con el nombre __`P>|t|`__. Esto significa que hay evidencia fuerte que hay una asociacion real entre SBP y edad en esta poblacion.\n",
    "\n",
    "El SBP se mide en unidades de *milimetros de mercurio* expresado *mm/Hg**. Para poder entender mejor el significado del estimado del parametro de regresion 0.48, podemos ver la desviacion estandar de SBP:"
   ]
  },
  {
   "cell_type": "code",
   "execution_count": 8,
   "metadata": {},
   "outputs": [
    {
     "data": {
      "text/plain": [
       "18.486559500782416"
      ]
     },
     "execution_count": 8,
     "metadata": {},
     "output_type": "execute_result"
    }
   ],
   "source": [
    "da.BPXSY1.std()"
   ]
  },
  {
   "cell_type": "markdown",
   "metadata": {},
   "source": [
    "La desviacion estandar de alrededor de 18.5 es grande comparada con la pendiente de regresion de 0.48. Sin embargo, la pendiente de regresion corresponde al cambio promedio en sBP para un solo anio de edad y este efecto se acumula con la edad. Comparando una persona de 48 anios con una de 60 anios, hay 20 anios de diferencia en edad, lo cual se traduce a `20 * 0.48 = 9.6` unidades de diferencia en edad, en SBP promedio entre estas dos personas. La diferencia esta cerca de la mitad de una desviacion estandar y generalmente se consideraria un cambio importante y significativo.\n",
    "\n",
    "### R-cuadrado y correlacion\n",
    "\n",
    "En el caso de regresion con una sola variable independiente, hay una correspondencia muy cercana entre el analisis de regresion el analisis de correlacion de Pearson. La estadistica resumida principal para evaluar la fuerza de una relacion predecida en un modelo de regresion es el *R-cuadrado*, que en nuestro caso fue de 0.207 en el modelo de regresion arriba. Esto significa que 21% de la variabilidad en SBP es explicada por la edad. Noten que este valor es exactamente igual al coeficiente de correlacion de Pearson cuadrado demostrado abajo entre SBP y edad."
   ]
  },
  {
   "cell_type": "code",
   "execution_count": 9,
   "metadata": {},
   "outputs": [
    {
     "name": "stdout",
     "output_type": "stream",
     "text": [
      "0.20715459625188243\n"
     ]
    }
   ],
   "source": [
    "cc = da[[\"BPXSY1\", \"RIDAGEYR\"]].corr()\n",
    "print(cc.BPXSY1.RIDAGEYR**2)"
   ]
  },
  {
   "cell_type": "markdown",
   "metadata": {},
   "source": [
    "Hay una segunda forma de interpretar el R-cuadrado, que hace uso de los *valores ajustados* de la regresion. Los valores ajustados son predicciones del SBP para cada persona en la data, basado en los valores de sus covariables. En este caso, el unico covariable es la edad, por lo que estamos prediciendo el SBP de cada sujeto en NHANES en funcion de la edad. Si caclulamos el coeficiente de correlacion de Pearson entre los valores ajustados de la regresion y los valores reales de SBP y luego cuadramos este coeficiente de correlacion, podemos ver que tambien obtenemos el R-cuadrado de la regresion:"
   ]
  },
  {
   "cell_type": "code",
   "execution_count": 10,
   "metadata": {},
   "outputs": [
    {
     "name": "stdout",
     "output_type": "stream",
     "text": [
      "0.20715459625186952\n"
     ]
    }
   ],
   "source": [
    "cc = np.corrcoef(da.BPXSY1, result.fittedvalues)\n",
    "print(cc[0, 1]**2)"
   ]
  },
  {
   "cell_type": "markdown",
   "metadata": {},
   "source": [
    "Por tanto, podemos ver que en un modelo lineal ajustado con una sola covariable, el R-cuadrado de la regresion es igual al coeficiente de correlacion de Pearson cuadrado entre la covariable y la variable dependiente, y tambien es igual al coeficiente de correlacion de pearson cuadrado entre los valores ajustados y la variable dependiente.\n",
    "\n",
    "### Agregando una segunda variable\n",
    "\n",
    "Arriba consideramos un analisis de un modelo de regresion lineal simple con una sola covariable (edad) prediciendo el SBP. El poder real de un analisis de regresion surge cuando tenemos mas de una covariable prediciendo el outcome (DV). Como mencionamos arriba se espera que el SBP este relacionado al genero al igual que a la edad, asi que vamos a agregar genero al modelo. La variable NHANES para genero se llama [RIAGENDR](https://wwwn.cdc.gov/Nchs/Nhanes/2015-2016/DEMO_I.htm#RIAGENDR)\n",
    "\n",
    "Primero cambiamos los valores de la variable de genero."
   ]
  },
  {
   "cell_type": "code",
   "execution_count": 11,
   "metadata": {},
   "outputs": [],
   "source": [
    "# Create a labeled version of the gender variable\n",
    "da[\"RIAGENDRx\"] = da.RIAGENDR.replace({1: \"Male\", 2: \"Female\"})"
   ]
  },
  {
   "cell_type": "markdown",
   "metadata": {},
   "source": [
    "Ahora estamos listos para ajustar el modelo:"
   ]
  },
  {
   "cell_type": "code",
   "execution_count": 12,
   "metadata": {},
   "outputs": [
    {
     "data": {
      "text/html": [
       "<table class=\"simpletable\">\n",
       "<caption>OLS Regression Results</caption>\n",
       "<tr>\n",
       "  <th>Dep. Variable:</th>         <td>BPXSY1</td>      <th>  R-squared:         </th> <td>   0.215</td> \n",
       "</tr>\n",
       "<tr>\n",
       "  <th>Model:</th>                   <td>OLS</td>       <th>  Adj. R-squared:    </th> <td>   0.214</td> \n",
       "</tr>\n",
       "<tr>\n",
       "  <th>Method:</th>             <td>Least Squares</td>  <th>  F-statistic:       </th> <td>   697.4</td> \n",
       "</tr>\n",
       "<tr>\n",
       "  <th>Date:</th>             <td>Mon, 27 Apr 2020</td> <th>  Prob (F-statistic):</th> <td>1.87e-268</td>\n",
       "</tr>\n",
       "<tr>\n",
       "  <th>Time:</th>                 <td>05:14:37</td>     <th>  Log-Likelihood:    </th> <td> -21505.</td> \n",
       "</tr>\n",
       "<tr>\n",
       "  <th>No. Observations:</th>      <td>  5102</td>      <th>  AIC:               </th> <td>4.302e+04</td>\n",
       "</tr>\n",
       "<tr>\n",
       "  <th>Df Residuals:</th>          <td>  5099</td>      <th>  BIC:               </th> <td>4.304e+04</td>\n",
       "</tr>\n",
       "<tr>\n",
       "  <th>Df Model:</th>              <td>     2</td>      <th>                     </th>     <td> </td>    \n",
       "</tr>\n",
       "<tr>\n",
       "  <th>Covariance Type:</th>      <td>nonrobust</td>    <th>                     </th>     <td> </td>    \n",
       "</tr>\n",
       "</table>\n",
       "<table class=\"simpletable\">\n",
       "<tr>\n",
       "          <td></td>             <th>coef</th>     <th>std err</th>      <th>t</th>      <th>P>|t|</th>  <th>[0.025</th>    <th>0.975]</th>  \n",
       "</tr>\n",
       "<tr>\n",
       "  <th>Intercept</th>         <td>  100.6305</td> <td>    0.712</td> <td>  141.257</td> <td> 0.000</td> <td>   99.234</td> <td>  102.027</td>\n",
       "</tr>\n",
       "<tr>\n",
       "  <th>RIAGENDRx[T.Male]</th> <td>    3.2322</td> <td>    0.459</td> <td>    7.040</td> <td> 0.000</td> <td>    2.332</td> <td>    4.132</td>\n",
       "</tr>\n",
       "<tr>\n",
       "  <th>RIDAGEYR</th>          <td>    0.4739</td> <td>    0.013</td> <td>   36.518</td> <td> 0.000</td> <td>    0.448</td> <td>    0.499</td>\n",
       "</tr>\n",
       "</table>\n",
       "<table class=\"simpletable\">\n",
       "<tr>\n",
       "  <th>Omnibus:</th>       <td>706.732</td> <th>  Durbin-Watson:     </th> <td>   2.036</td>\n",
       "</tr>\n",
       "<tr>\n",
       "  <th>Prob(Omnibus):</th> <td> 0.000</td>  <th>  Jarque-Bera (JB):  </th> <td>1582.730</td>\n",
       "</tr>\n",
       "<tr>\n",
       "  <th>Skew:</th>          <td> 0.818</td>  <th>  Prob(JB):          </th> <td>    0.00</td>\n",
       "</tr>\n",
       "<tr>\n",
       "  <th>Kurtosis:</th>      <td> 5.184</td>  <th>  Cond. No.          </th> <td>    168.</td>\n",
       "</tr>\n",
       "</table><br/><br/>Warnings:<br/>[1] Standard Errors assume that the covariance matrix of the errors is correctly specified."
      ],
      "text/plain": [
       "<class 'statsmodels.iolib.summary.Summary'>\n",
       "\"\"\"\n",
       "                            OLS Regression Results                            \n",
       "==============================================================================\n",
       "Dep. Variable:                 BPXSY1   R-squared:                       0.215\n",
       "Model:                            OLS   Adj. R-squared:                  0.214\n",
       "Method:                 Least Squares   F-statistic:                     697.4\n",
       "Date:                Mon, 27 Apr 2020   Prob (F-statistic):          1.87e-268\n",
       "Time:                        05:14:37   Log-Likelihood:                -21505.\n",
       "No. Observations:                5102   AIC:                         4.302e+04\n",
       "Df Residuals:                    5099   BIC:                         4.304e+04\n",
       "Df Model:                           2                                         \n",
       "Covariance Type:            nonrobust                                         \n",
       "=====================================================================================\n",
       "                        coef    std err          t      P>|t|      [0.025      0.975]\n",
       "-------------------------------------------------------------------------------------\n",
       "Intercept           100.6305      0.712    141.257      0.000      99.234     102.027\n",
       "RIAGENDRx[T.Male]     3.2322      0.459      7.040      0.000       2.332       4.132\n",
       "RIDAGEYR              0.4739      0.013     36.518      0.000       0.448       0.499\n",
       "==============================================================================\n",
       "Omnibus:                      706.732   Durbin-Watson:                   2.036\n",
       "Prob(Omnibus):                  0.000   Jarque-Bera (JB):             1582.730\n",
       "Skew:                           0.818   Prob(JB):                         0.00\n",
       "Kurtosis:                       5.184   Cond. No.                         168.\n",
       "==============================================================================\n",
       "\n",
       "Warnings:\n",
       "[1] Standard Errors assume that the covariance matrix of the errors is correctly specified.\n",
       "\"\"\""
      ]
     },
     "execution_count": 12,
     "metadata": {},
     "output_type": "execute_result"
    }
   ],
   "source": [
    "model = sm.OLS.from_formula(\"BPXSY1 ~ RIDAGEYR + RIAGENDRx\", data=da)\n",
    "result = model.fit()\n",
    "result.summary()"
   ]
  },
  {
   "cell_type": "markdown",
   "metadata": {},
   "source": [
    "El syntax `RIDAGEYR + RIAGENDRx` en la celda de arriba no quiere decir que estas dos variables literalmente se suman. En vez, quiere decir que estamos incluyendo ambas variables en el modelo como predictoras de SBP.\n",
    "\n",
    "El modelo ajustado arriba usa ambos genero y edad para explicar la variacion en SBP. Encuentra que dos personas con el mismo genero cuya edad difiere por un anio tienden a tener valores de SBP que difieren por 0.47 unidades, que es casi el mismo parametro que encontramos en el modelo anterior basado solamente en la edad. Este modelo nos demuestra que al comparar un hombre y una mujer de la misma edad, el hombre va a tener en promedio 3.23 unidades de SBP mas alto.\n",
    "\n",
    "Es muy importante enfatizar que el coeficiente de edad de 0.47 solamente hace sentido cuando comparamos dos personas del mismo genero y el coeficiente de genero de 3.23 solo hace sentido cuando comparamos dos personas de la misma edad. Ademas, estos efectos son aditivos, lo cual significa que si comparamos un hombre de 50 anios contra una mujer de 40 anios, el SBP del hombre va a ser en promedio `3.23 + 10*0.47 = 7.93` unidades mas alto, donde el primer termino en la suma es atribuible al genero y el segundo termino es atribuible a la edad.\n",
    "\n",
    "Notamos arriba que el coeficiente de regresion para edad no cambio mucho cuando agregamos genero al modelo. Es importante notar que en general, el coeficiente estimado de una variable en un modelo de regresion va a cambiar cuando se agreguen mas variables o se eliminen variables. La unica circumstancia donde el parametro de regresion no cambia cuando se agregan o eliminan variables es cuando esas variables no estan correlacionadas con las variables que siguen en el modelo.\n",
    "\n",
    "Abajo confirmamos que genero y edad tienen muy poca correlacion en este dataset (una correlacion de -0.02 es insignificante). Por tanto, se espera que cuando agregamos genero al modelo, el coeficiente de edad no cambie.\n"
   ]
  },
  {
   "cell_type": "code",
   "execution_count": 13,
   "metadata": {},
   "outputs": [
    {
     "data": {
      "text/html": [
       "<div>\n",
       "<style scoped>\n",
       "    .dataframe tbody tr th:only-of-type {\n",
       "        vertical-align: middle;\n",
       "    }\n",
       "\n",
       "    .dataframe tbody tr th {\n",
       "        vertical-align: top;\n",
       "    }\n",
       "\n",
       "    .dataframe thead th {\n",
       "        text-align: right;\n",
       "    }\n",
       "</style>\n",
       "<table border=\"1\" class=\"dataframe\">\n",
       "  <thead>\n",
       "    <tr style=\"text-align: right;\">\n",
       "      <th></th>\n",
       "      <th>RIDAGEYR</th>\n",
       "      <th>RIAGENDR</th>\n",
       "    </tr>\n",
       "  </thead>\n",
       "  <tbody>\n",
       "    <tr>\n",
       "      <th>RIDAGEYR</th>\n",
       "      <td>1.000000</td>\n",
       "      <td>-0.021398</td>\n",
       "    </tr>\n",
       "    <tr>\n",
       "      <th>RIAGENDR</th>\n",
       "      <td>-0.021398</td>\n",
       "      <td>1.000000</td>\n",
       "    </tr>\n",
       "  </tbody>\n",
       "</table>\n",
       "</div>"
      ],
      "text/plain": [
       "          RIDAGEYR  RIAGENDR\n",
       "RIDAGEYR  1.000000 -0.021398\n",
       "RIAGENDR -0.021398  1.000000"
      ]
     },
     "execution_count": 13,
     "metadata": {},
     "output_type": "execute_result"
    }
   ],
   "source": [
    "# We need to use the original, numerical version of the gender\n",
    "# variable to calculate the correlation coefficient.\n",
    "da[[\"RIDAGEYR\", \"RIAGENDR\"]].corr()"
   ]
  },
  {
   "cell_type": "markdown",
   "metadata": {},
   "source": [
    "### Variables categoricas y niveles de referencia\n",
    "\n",
    "En el modelo ajustado arriba, genero es una variable categorica, y solo el coeficiente para hombres esta incluido en el output de la regresion (i.e. no hay coeficiente para mujeres en la taba arriba). Cuando una variable categorica es usada como una covariable en un modelo de regresion, un nivel de la variable se elimina y automaticamente se le otorga un coeficiente de cero. Este nivel se llama *nivel de referencia* de la covariable. Aqui, el nivel de mujer de la variable de genero es el nivel de referencia. Esto no quiere decir que ser mujer no tiene impacto en la presion arterial. Simplemente significa que hemos escrito el modelo de tal manera que el SBP de mujeres es el default y el coeficiente para hoombres (3.23) mueve el SBP por ese monto solamente para hombres.\n",
    "\n",
    "Alternativamente podemos setiar 'male' para ser nuestro nivel de referencia, en cuyo caso los hombres serian el default y el coeficiente de mujer seria algo cerca a -3.23 (lo que significa que el SBP de las mujeres es 3.23 unidades mas bajo que el de los hombres).\n",
    "\n",
    "Cuando usamos variables categoricas como predictores en un modelo de regresion, estos se codifican como variables \"dummy\" (tambien conocidas como variables indicadores). Una variable dummy para un solo nivel, digamos `a`, de una variable `x` es una variable que es igual a `1` cuando `x=a` y es igual a `0` cuando `x` no es igual a `a`. Estas variables dummy son incluidas en el modelo de regresion para representar la variable de la que fueron creadas.\n",
    "\n",
    "Statsmodels, como muchos softwares, automaticamente va a recodificar una variable categoria en variables dummy y va a seleccionar un nivel de referencia (es posible cambiar que variable de referencia usa, pero no lo vamos a ver). Cuando interpretamos el resultado de una regresion, el nivel que es eliminado debe ser visto como teniendo un coeficiente de 0, con un erro estandar de 0. Es importante notar que la seleccion de un nivel de referencia es arbitraria y no implica una suposicion o una restriccion sobre el modelo, o sobre la poblacion.\n",
    "\n",
    "\n",
    "### Un modelo con tres variables\n",
    "\n",
    "Ahora vamos a agregar una tercera variable, BMI, al modelo prediciendo SBP.\n",
    "[BMI](https://en.wikipedia.org/wiki/Body_mass_index) es una medida utilizada para evaluar si una persona tiene un peso sano dada su altura.\n",
    "[BMXBMI](https://wwwn.cdc.gov/Nchs/Nhanes/2015-2016/BMX_I.htm#BMXBMI)\n",
    "es el nombre de la variable en NHANES."
   ]
  },
  {
   "cell_type": "code",
   "execution_count": 15,
   "metadata": {},
   "outputs": [
    {
     "data": {
      "text/html": [
       "<table class=\"simpletable\">\n",
       "<caption>OLS Regression Results</caption>\n",
       "<tr>\n",
       "  <th>Dep. Variable:</th>         <td>BPXSY1</td>      <th>  R-squared:         </th> <td>   0.228</td> \n",
       "</tr>\n",
       "<tr>\n",
       "  <th>Model:</th>                   <td>OLS</td>       <th>  Adj. R-squared:    </th> <td>   0.228</td> \n",
       "</tr>\n",
       "<tr>\n",
       "  <th>Method:</th>             <td>Least Squares</td>  <th>  F-statistic:       </th> <td>   502.0</td> \n",
       "</tr>\n",
       "<tr>\n",
       "  <th>Date:</th>             <td>Mon, 27 Apr 2020</td> <th>  Prob (F-statistic):</th> <td>8.54e-286</td>\n",
       "</tr>\n",
       "<tr>\n",
       "  <th>Time:</th>                 <td>05:14:41</td>     <th>  Log-Likelihood:    </th> <td> -21461.</td> \n",
       "</tr>\n",
       "<tr>\n",
       "  <th>No. Observations:</th>      <td>  5102</td>      <th>  AIC:               </th> <td>4.293e+04</td>\n",
       "</tr>\n",
       "<tr>\n",
       "  <th>Df Residuals:</th>          <td>  5098</td>      <th>  BIC:               </th> <td>4.296e+04</td>\n",
       "</tr>\n",
       "<tr>\n",
       "  <th>Df Model:</th>              <td>     3</td>      <th>                     </th>     <td> </td>    \n",
       "</tr>\n",
       "<tr>\n",
       "  <th>Covariance Type:</th>      <td>nonrobust</td>    <th>                     </th>     <td> </td>    \n",
       "</tr>\n",
       "</table>\n",
       "<table class=\"simpletable\">\n",
       "<tr>\n",
       "          <td></td>             <th>coef</th>     <th>std err</th>      <th>t</th>      <th>P>|t|</th>  <th>[0.025</th>    <th>0.975]</th>  \n",
       "</tr>\n",
       "<tr>\n",
       "  <th>Intercept</th>         <td>   91.5840</td> <td>    1.198</td> <td>   76.456</td> <td> 0.000</td> <td>   89.236</td> <td>   93.932</td>\n",
       "</tr>\n",
       "<tr>\n",
       "  <th>RIAGENDRx[T.Male]</th> <td>    3.5783</td> <td>    0.457</td> <td>    7.833</td> <td> 0.000</td> <td>    2.683</td> <td>    4.474</td>\n",
       "</tr>\n",
       "<tr>\n",
       "  <th>RIDAGEYR</th>          <td>    0.4709</td> <td>    0.013</td> <td>   36.582</td> <td> 0.000</td> <td>    0.446</td> <td>    0.496</td>\n",
       "</tr>\n",
       "<tr>\n",
       "  <th>BMXBMI</th>            <td>    0.3060</td> <td>    0.033</td> <td>    9.351</td> <td> 0.000</td> <td>    0.242</td> <td>    0.370</td>\n",
       "</tr>\n",
       "</table>\n",
       "<table class=\"simpletable\">\n",
       "<tr>\n",
       "  <th>Omnibus:</th>       <td>752.325</td> <th>  Durbin-Watson:     </th> <td>   2.040</td>\n",
       "</tr>\n",
       "<tr>\n",
       "  <th>Prob(Omnibus):</th> <td> 0.000</td>  <th>  Jarque-Bera (JB):  </th> <td>1776.087</td>\n",
       "</tr>\n",
       "<tr>\n",
       "  <th>Skew:</th>          <td> 0.847</td>  <th>  Prob(JB):          </th> <td>    0.00</td>\n",
       "</tr>\n",
       "<tr>\n",
       "  <th>Kurtosis:</th>      <td> 5.343</td>  <th>  Cond. No.          </th> <td>    316.</td>\n",
       "</tr>\n",
       "</table><br/><br/>Warnings:<br/>[1] Standard Errors assume that the covariance matrix of the errors is correctly specified."
      ],
      "text/plain": [
       "<class 'statsmodels.iolib.summary.Summary'>\n",
       "\"\"\"\n",
       "                            OLS Regression Results                            \n",
       "==============================================================================\n",
       "Dep. Variable:                 BPXSY1   R-squared:                       0.228\n",
       "Model:                            OLS   Adj. R-squared:                  0.228\n",
       "Method:                 Least Squares   F-statistic:                     502.0\n",
       "Date:                Mon, 27 Apr 2020   Prob (F-statistic):          8.54e-286\n",
       "Time:                        05:14:41   Log-Likelihood:                -21461.\n",
       "No. Observations:                5102   AIC:                         4.293e+04\n",
       "Df Residuals:                    5098   BIC:                         4.296e+04\n",
       "Df Model:                           3                                         \n",
       "Covariance Type:            nonrobust                                         \n",
       "=====================================================================================\n",
       "                        coef    std err          t      P>|t|      [0.025      0.975]\n",
       "-------------------------------------------------------------------------------------\n",
       "Intercept            91.5840      1.198     76.456      0.000      89.236      93.932\n",
       "RIAGENDRx[T.Male]     3.5783      0.457      7.833      0.000       2.683       4.474\n",
       "RIDAGEYR              0.4709      0.013     36.582      0.000       0.446       0.496\n",
       "BMXBMI                0.3060      0.033      9.351      0.000       0.242       0.370\n",
       "==============================================================================\n",
       "Omnibus:                      752.325   Durbin-Watson:                   2.040\n",
       "Prob(Omnibus):                  0.000   Jarque-Bera (JB):             1776.087\n",
       "Skew:                           0.847   Prob(JB):                         0.00\n",
       "Kurtosis:                       5.343   Cond. No.                         316.\n",
       "==============================================================================\n",
       "\n",
       "Warnings:\n",
       "[1] Standard Errors assume that the covariance matrix of the errors is correctly specified.\n",
       "\"\"\""
      ]
     },
     "execution_count": 15,
     "metadata": {},
     "output_type": "execute_result"
    }
   ],
   "source": [
    "model = sm.OLS.from_formula(\"BPXSY1 ~ RIDAGEYR + BMXBMI + RIAGENDRx\", data=da)\n",
    "result = model.fit()\n",
    "result.summary()"
   ]
  },
  {
   "cell_type": "markdown",
   "metadata": {},
   "source": [
    "Como esperabamos, el BMI tiene una relacion positiva con SBP. Dados dos sujetos con el mismo genero y edad, y cuyo BMI difiere por 1 unidad, la persona con un BMI mas alto va a tener, en promedio, 0.31 unidades mas altas de SBP. Tambien noten que despues de agregar BMI al modelo, el coeficiente para genero incremento un poco. Esto se debe al hecho que las tres covariables del modelo: edad, genero y BMI estan correlacionadas, como pueden ver a continuacion:"
   ]
  },
  {
   "cell_type": "code",
   "execution_count": 16,
   "metadata": {},
   "outputs": [
    {
     "data": {
      "text/html": [
       "<div>\n",
       "<style scoped>\n",
       "    .dataframe tbody tr th:only-of-type {\n",
       "        vertical-align: middle;\n",
       "    }\n",
       "\n",
       "    .dataframe tbody tr th {\n",
       "        vertical-align: top;\n",
       "    }\n",
       "\n",
       "    .dataframe thead th {\n",
       "        text-align: right;\n",
       "    }\n",
       "</style>\n",
       "<table border=\"1\" class=\"dataframe\">\n",
       "  <thead>\n",
       "    <tr style=\"text-align: right;\">\n",
       "      <th></th>\n",
       "      <th>RIDAGEYR</th>\n",
       "      <th>RIAGENDR</th>\n",
       "      <th>BMXBMI</th>\n",
       "    </tr>\n",
       "  </thead>\n",
       "  <tbody>\n",
       "    <tr>\n",
       "      <th>RIDAGEYR</th>\n",
       "      <td>1.000000</td>\n",
       "      <td>-0.021398</td>\n",
       "      <td>0.023089</td>\n",
       "    </tr>\n",
       "    <tr>\n",
       "      <th>RIAGENDR</th>\n",
       "      <td>-0.021398</td>\n",
       "      <td>1.000000</td>\n",
       "      <td>0.080463</td>\n",
       "    </tr>\n",
       "    <tr>\n",
       "      <th>BMXBMI</th>\n",
       "      <td>0.023089</td>\n",
       "      <td>0.080463</td>\n",
       "      <td>1.000000</td>\n",
       "    </tr>\n",
       "  </tbody>\n",
       "</table>\n",
       "</div>"
      ],
      "text/plain": [
       "          RIDAGEYR  RIAGENDR    BMXBMI\n",
       "RIDAGEYR  1.000000 -0.021398  0.023089\n",
       "RIAGENDR -0.021398  1.000000  0.080463\n",
       "BMXBMI    0.023089  0.080463  1.000000"
      ]
     },
     "execution_count": 16,
     "metadata": {},
     "output_type": "execute_result"
    }
   ],
   "source": [
    "da[[\"RIDAGEYR\", \"RIAGENDR\", \"BMXBMI\"]].corr()"
   ]
  },
  {
   "cell_type": "markdown",
   "metadata": {},
   "source": [
    "Aunque las correlaciones entre estas tres variables no son fuertes, es suficiente para inducir diferencias substanciales en los coeficientes de regresion (e.i. el coeficiente de genero cambio de 3.23 a 3.58). En este ejemplo, el efecto de genero se volvio mas grande luego de controlar por el BMI - podemos tomar esto como decir que el BMI esta \"confundiendo\" o \"escondiendo\" parte de la asociacion entre genero y SBP (piensen en el ejemplo de consumo de chocolate con cantidad de premios nobel). En otros contextos, incluir covariables adicionales puede reducir la asociacion entre una covariable y el outcome.\n",
    "\n",
    "\n",
    "### Visualizacion de los modelos ajustados\n",
    "\n",
    "En esta seccion, vamos a demostrar un par de tecnicas para graficar que pueden ser utilizadas para entender mejor el modelo de regresion que ha sido ajustado a la data.\n",
    "\n",
    "Empezamos con graficas que nos permiten visualizar la funcion de regresion ajustada, es decir, el SBP promedio expresado como una funcion de las covariables. Estos plots ayudan a demostrar el rol estimado de una variable cuando las otras variables se mantienen fijas. Vamos a graficar *bandas de confianza simultaneas* de 95% alrededor de estas lineas ajustadas. Aunque la curva de la media estimada nunca es exacta basada en una muestra finita de data, podemos tener 95% de confianza que la curva media real caera en algun lugar entre la region sombreada de las graficas de abajo.\n",
    "\n",
    "Este tipo de plot requiere que fijemos los valores de todas las variables aparte de la variable dependiente (SBP aqui), y una variable independiente que llamamos la *variable foco* (en este caso edad). Abajo fijamos el genero como \"female\" y el BMI como 25. Por tanto, las graficas abajo demuestran la relacion entre SBP y edad para mujeres con BMI igual a 25."
   ]
  },
  {
   "cell_type": "code",
   "execution_count": 17,
   "metadata": {},
   "outputs": [
    {
     "name": "stderr",
     "output_type": "stream",
     "text": [
      "/opt/conda/lib/python3.6/site-packages/statsmodels/sandbox/predict_functional.py:171: ValueWarning: 'smq' in data frame but not in summaries or values.\n",
      "  ValueWarning)\n"
     ]
    },
    {
     "data": {
      "image/png": "[encoded data removed]",
      "text/plain": [
       "<Figure size 432x288 with 1 Axes>"
      ]
     },
     "metadata": {},
     "output_type": "display_data"
    }
   ],
   "source": [
    "from statsmodels.sandbox.predict_functional import predict_functional\n",
    "\n",
    "# Fix certain variables at reference values.  Not all of these\n",
    "# variables are used here, but we provide them with a value anyway\n",
    "# to prevent a warning message from appearing.\n",
    "values = {\"RIAGENDRx\": \"Female\", \"RIAGENDR\": 1, \"BMXBMI\": 25,\n",
    "          \"DMDEDUC2\": 1, \"RIDRETH1\": 1, \"SMQ020\": 1}\n",
    "\n",
    "# The returned values are the predicted values (pr), the confidence bands (cb),\n",
    "# and the function values (fv).\n",
    "pr, cb, fv = predict_functional(result, \"RIDAGEYR\",\n",
    "                values=values, ci_method=\"simultaneous\")\n",
    "\n",
    "ax = sns.lineplot(fv, pr, lw=4)\n",
    "ax.fill_between(fv, cb[:, 0], cb[:, 1], color='grey', alpha=0.4)\n",
    "ax.set_xlabel(\"Age\")\n",
    "_ = ax.set_ylabel(\"SBP\")"
   ]
  },
  {
   "cell_type": "markdown",
   "metadata": {},
   "source": [
    "Hacemos lo mismo para BMI abajo. Fijamos genero a \"female\" y edad a 50. Estamos viendo la relacion entre SBP y edad para mujeres de 50 anios."
   ]
  },
  {
   "cell_type": "code",
   "execution_count": 18,
   "metadata": {},
   "outputs": [
    {
     "name": "stderr",
     "output_type": "stream",
     "text": [
      "/opt/conda/lib/python3.6/site-packages/statsmodels/sandbox/predict_functional.py:171: ValueWarning: 'smq' in data frame but not in summaries or values.\n",
      "  ValueWarning)\n"
     ]
    },
    {
     "data": {
      "image/png": "[encoded data removed]",
      "text/plain": [
       "<Figure size 432x288 with 1 Axes>"
      ]
     },
     "metadata": {},
     "output_type": "display_data"
    }
   ],
   "source": [
    "del values[\"BMXBMI\"] # Delete this as it is now the focus variable\n",
    "values[\"RIDAGEYR\"] = 50\n",
    "pr, cb, fv = predict_functional(result, \"BMXBMI\",\n",
    "                values=values, ci_method=\"simultaneous\")\n",
    "\n",
    "ax = sns.lineplot(fv, pr, lw=4)\n",
    "ax.fill_between(fv, cb[:, 0], cb[:, 1], color='grey', alpha=0.4)\n",
    "ax.set_xlabel(\"BMI\")\n",
    "_ = ax.set_ylabel(\"SBP\")"
   ]
  },
  {
   "cell_type": "markdown",
   "metadata": {},
   "source": [
    "Las bandas de error para BMI es notablemente mas ancha que la banda de error para edad, indicando que hay menos certeza sobre la relacion entre BMI y SBP comparado con la relacion entre edad y SBP."
   ]
  },
  {
   "cell_type": "markdown",
   "metadata": {},
   "source": [
    "## Regresion logistica\n",
    "\n",
    "Ahora vamos a ver modelos de regresion para variables dependientes *binarias*, es decir que el outcom puede tomar uno de dos valores. Para ilustrar esto, vamos a trabajar con la variable de [SMQ020](https://wwwn.cdc.gov/Nchs/Nhanes/2015-2016/SMQ_I.htm#SMQ020), que pregunta si una persona a fumado al menos 100 cigarrillos en su vida (si este es el caso, decimos que la persona tiene un \"historial de fumar\"). Abajo creamos una version de esta variable en donde fumador y no fumador estan codificados como 1 y 0, respectivamente, y respuestas raras como *don't know* y *refused to answer* son codificadas como valores faltantes."
   ]
  },
  {
   "cell_type": "code",
   "execution_count": 9,
   "metadata": {},
   "outputs": [
    {
     "data": {
      "text/plain": [
       "0    1\n",
       "1    1\n",
       "2    1\n",
       "3    2\n",
       "4    2\n",
       "Name: RIAGENDR, dtype: int64"
      ]
     },
     "execution_count": 9,
     "metadata": {},
     "output_type": "execute_result"
    }
   ],
   "source": [
    "da.RIAGENDR.head()"
   ]
  },
  {
   "cell_type": "code",
   "execution_count": 10,
   "metadata": {},
   "outputs": [
    {
     "data": {
      "text/html": [
       "<div>\n",
       "<style scoped>\n",
       "    .dataframe tbody tr th:only-of-type {\n",
       "        vertical-align: middle;\n",
       "    }\n",
       "\n",
       "    .dataframe tbody tr th {\n",
       "        vertical-align: top;\n",
       "    }\n",
       "\n",
       "    .dataframe thead th {\n",
       "        text-align: right;\n",
       "    }\n",
       "</style>\n",
       "<table border=\"1\" class=\"dataframe\">\n",
       "  <thead>\n",
       "    <tr style=\"text-align: right;\">\n",
       "      <th></th>\n",
       "      <th>1</th>\n",
       "      <th>2</th>\n",
       "    </tr>\n",
       "  </thead>\n",
       "  <tbody>\n",
       "    <tr>\n",
       "      <th>0</th>\n",
       "      <td>1</td>\n",
       "      <td>0</td>\n",
       "    </tr>\n",
       "    <tr>\n",
       "      <th>1</th>\n",
       "      <td>1</td>\n",
       "      <td>0</td>\n",
       "    </tr>\n",
       "    <tr>\n",
       "      <th>2</th>\n",
       "      <td>1</td>\n",
       "      <td>0</td>\n",
       "    </tr>\n",
       "    <tr>\n",
       "      <th>3</th>\n",
       "      <td>0</td>\n",
       "      <td>1</td>\n",
       "    </tr>\n",
       "    <tr>\n",
       "      <th>4</th>\n",
       "      <td>0</td>\n",
       "      <td>1</td>\n",
       "    </tr>\n",
       "  </tbody>\n",
       "</table>\n",
       "</div>"
      ],
      "text/plain": [
       "   1  2\n",
       "0  1  0\n",
       "1  1  0\n",
       "2  1  0\n",
       "3  0  1\n",
       "4  0  1"
      ]
     },
     "execution_count": 10,
     "metadata": {},
     "output_type": "execute_result"
    }
   ],
   "source": [
    "pd.get_dummies(da.RIAGENDR).head()"
   ]
  },
  {
   "cell_type": "code",
   "execution_count": 23,
   "metadata": {},
   "outputs": [],
   "source": [
    "da[\"smq\"] = da.SMQ020.replace({2: 0, 7: np.nan, 9: np.nan})"
   ]
  },
  {
   "cell_type": "markdown",
   "metadata": {},
   "source": [
    "### Odds y log odds\n",
    "\n",
    "La regresion logistica provee un modelo para los *odds* de que un evento suceda. Recuerden que si un evento tiene una probabilidad `p`, entonces los odds de ese evento son `p/(1-p)`. Los odds son una transformacion matematica de la probabilidad a una escala diferente. Por ejemplo, si la probabilidad es de 1/2, los odds son de 1.\n",
    "\n",
    "Para empezar, vamos a ver los odds de uso de alcohol para mujeres y hombres por separado."
   ]
  },
  {
   "cell_type": "code",
   "execution_count": 25,
   "metadata": {},
   "outputs": [
    {
     "data": {
      "text/html": [
       "<div>\n",
       "<style scoped>\n",
       "    .dataframe tbody tr th:only-of-type {\n",
       "        vertical-align: middle;\n",
       "    }\n",
       "\n",
       "    .dataframe tbody tr th {\n",
       "        vertical-align: top;\n",
       "    }\n",
       "\n",
       "    .dataframe thead th {\n",
       "        text-align: right;\n",
       "    }\n",
       "</style>\n",
       "<table border=\"1\" class=\"dataframe\">\n",
       "  <thead>\n",
       "    <tr style=\"text-align: right;\">\n",
       "      <th>smq</th>\n",
       "      <th>0.0</th>\n",
       "      <th>1.0</th>\n",
       "      <th>odds</th>\n",
       "    </tr>\n",
       "    <tr>\n",
       "      <th>RIAGENDRx</th>\n",
       "      <th></th>\n",
       "      <th></th>\n",
       "      <th></th>\n",
       "    </tr>\n",
       "  </thead>\n",
       "  <tbody>\n",
       "    <tr>\n",
       "      <th>Female</th>\n",
       "      <td>0.680197</td>\n",
       "      <td>0.319803</td>\n",
       "      <td>0.470162</td>\n",
       "    </tr>\n",
       "    <tr>\n",
       "      <th>Male</th>\n",
       "      <td>0.467453</td>\n",
       "      <td>0.532547</td>\n",
       "      <td>1.139252</td>\n",
       "    </tr>\n",
       "  </tbody>\n",
       "</table>\n",
       "</div>"
      ],
      "text/plain": [
       "smq             0.0       1.0      odds\n",
       "RIAGENDRx                              \n",
       "Female     0.680197  0.319803  0.470162\n",
       "Male       0.467453  0.532547  1.139252"
      ]
     },
     "execution_count": 25,
     "metadata": {},
     "output_type": "execute_result"
    }
   ],
   "source": [
    "c = pd.crosstab(da.RIAGENDRx, da.smq).apply(lambda x: x/x.sum(), axis=1)\n",
    "c[\"odds\"] = c.loc[:, 1] / c.loc[:, 0]\n",
    "c"
   ]
  },
  {
   "cell_type": "markdown",
   "metadata": {},
   "source": [
    "Vemos que la probabilidad de que una mujer haya fumado es substancialmente mas baja que la probabilidad de que un hombre haya fumado (30% vs 51%). Esto se ve reflejado en los odds para un mujer son mucho menores a 1 (alrededor de 0.47), mientras que los odds de que un hombre fume son de ~1.14.\n",
    "\n",
    "Es comun trabajar con *odds ratios* cuando comparamos dos grupos. Esto simplemente son los odds para un grupo dividido por los odds para el otro grupo. El odd ratio para fumar, comparando hombres a mujeres, es alrededor de 2.4. En otras palabras, un hombre tiene alrededor de 2.4 veces mayores odds de fumar que una mujer (en una polbacion representada por esta data)."
   ]
  },
  {
   "cell_type": "code",
   "execution_count": 26,
   "metadata": {},
   "outputs": [
    {
     "data": {
      "text/plain": [
       "2.423105552613186"
      ]
     },
     "execution_count": 26,
     "metadata": {},
     "output_type": "execute_result"
    }
   ],
   "source": [
    "c.odds.Male / c.odds.Female"
   ]
  },
  {
   "cell_type": "markdown",
   "metadata": {},
   "source": [
    "Es convencional trabajar con odds en la escala logaritmica. Para entender porque se hace esto, primero noten que el punto neutro para una probabilidad es 0.5, lo cual es equivalente a un ods de 1 y un log odds de 0. Poblaciones donde los hombres fuman mas que las mujeres van a tener odds entre 1 e infinito, con el valor exacto dependiendo en la magnitud de la relacion entre las tasas de fumar de hombres y mujeres. Poblaciones donde las mujeres fuman mas que los hombres van a tener odds entre 0 y 1.\n",
    "\n",
    "Vemos que la escala de la estadistica de odds no es simetrica. Usualmente es arbitrario en que orden comparamos dos grupos -- podemo comparar hombres con mujeres o mujeres con hombres. Un odds de 2 (hombres tienen el doble de odds de fumar que las mujeres) es equivalente en fuerza a un odds de 1/2 (las mujeres tienen el doble de odds de fumar que los hombres). Tomar el log de los odds centra la escala en cero, y vuelve simetrica la interpretacion de la escala.\n",
    "\n",
    "Para interpretar los log odds cuando comparamos dos grupos, es importante recordar lo siguiente:\n",
    "\n",
    "* Una probabilidad de 1/2, un odds de 1 y un log odds de 0 son equivalentes.\n",
    "\n",
    "* Un log odds positivo indica que el primer grupo que esta siendo comparado tiene mayores odds (y mayor probabilidad) que el segundo grupo.\n",
    "\n",
    "* Un log odds negativo indica que el segundo grupo siendo comparado tiene mayores odds (y mayor probabilidad) que el primer grupo.\n",
    "\n",
    "* La escala de la estadistica de log odds es simetrica en el sentido que un log odds de, e.i. 2, es equivalente en fuerza que un log odds de -2 (pero con los grupos cambiados en terminos de cual tiene la mayor probabilidad)\n",
    "\n",
    "Si saben que el log odds cuando comparan dos grupos es un valor como por ejemplo 2 y quieren reportar los odds, simplemente exponencien el log odds para obtener el odds. e.i. `exp(2)` es alrededor de 7.4. Sin embargo, noten que no pueden recuperar las probabilidades individuales de un odds ratio.\n",
    "\n",
    "`\n",
    "Abajo mostramos los log odds para el estado de fumar de mujeres y hombres en la data. El hecho que los log odds para las mujeres es negativo refleja que substancialmente menos de 50% de las mujeres tienen un historial de fumar. Los log odds de los hombres estan mas cerca a 0, consistente con que alrededor de la mitad de los hombres tienen un historial de fumar`"
   ]
  },
  {
   "cell_type": "code",
   "execution_count": 27,
   "metadata": {},
   "outputs": [
    {
     "data": {
      "text/html": [
       "<div>\n",
       "<style scoped>\n",
       "    .dataframe tbody tr th:only-of-type {\n",
       "        vertical-align: middle;\n",
       "    }\n",
       "\n",
       "    .dataframe tbody tr th {\n",
       "        vertical-align: top;\n",
       "    }\n",
       "\n",
       "    .dataframe thead th {\n",
       "        text-align: right;\n",
       "    }\n",
       "</style>\n",
       "<table border=\"1\" class=\"dataframe\">\n",
       "  <thead>\n",
       "    <tr style=\"text-align: right;\">\n",
       "      <th>smq</th>\n",
       "      <th>0.0</th>\n",
       "      <th>1.0</th>\n",
       "      <th>odds</th>\n",
       "      <th>logodds</th>\n",
       "    </tr>\n",
       "    <tr>\n",
       "      <th>RIAGENDRx</th>\n",
       "      <th></th>\n",
       "      <th></th>\n",
       "      <th></th>\n",
       "      <th></th>\n",
       "    </tr>\n",
       "  </thead>\n",
       "  <tbody>\n",
       "    <tr>\n",
       "      <th>Female</th>\n",
       "      <td>0.680197</td>\n",
       "      <td>0.319803</td>\n",
       "      <td>0.470162</td>\n",
       "      <td>-0.754679</td>\n",
       "    </tr>\n",
       "    <tr>\n",
       "      <th>Male</th>\n",
       "      <td>0.467453</td>\n",
       "      <td>0.532547</td>\n",
       "      <td>1.139252</td>\n",
       "      <td>0.130371</td>\n",
       "    </tr>\n",
       "  </tbody>\n",
       "</table>\n",
       "</div>"
      ],
      "text/plain": [
       "smq             0.0       1.0      odds   logodds\n",
       "RIAGENDRx                                        \n",
       "Female     0.680197  0.319803  0.470162 -0.754679\n",
       "Male       0.467453  0.532547  1.139252  0.130371"
      ]
     },
     "execution_count": 27,
     "metadata": {},
     "output_type": "execute_result"
    }
   ],
   "source": [
    "c[\"logodds\"] = np.log(c.odds)\n",
    "c"
   ]
  },
  {
   "cell_type": "markdown",
   "metadata": {},
   "source": [
    "### Un modelo de regresion logistica basico\n",
    "\n",
    "Ahora que tenemos un entendimiento claro de estadisticas de log odds, vamos a ajustar un modelo de regresion. La variable dependiente (outcome) de este modelo inicial es el estado de fumar, y el unico covariable es genero. Por tanto, estamos viendo el genero como predictor del estado de fumar. Vamos a ajustar el modelo usando la funcion `GLM`, donde `GLM` significa *Generalized Linear Model*. La regresion logistica es un tipo de GLM, una clase que tambien incluy muchos metodos de regresion como una regresion Poisson, por ejemplo. Como la regresion lineal, la regresion logistica incluye un parametro de intercepto, pero no nos vamos a enfocar en el."
   ]
  },
  {
   "cell_type": "code",
   "execution_count": 28,
   "metadata": {},
   "outputs": [
    {
     "data": {
      "text/html": [
       "<table class=\"simpletable\">\n",
       "<caption>Generalized Linear Model Regression Results</caption>\n",
       "<tr>\n",
       "  <th>Dep. Variable:</th>         <td>smq</td>       <th>  No. Observations:  </th>  <td>  5094</td>  \n",
       "</tr>\n",
       "<tr>\n",
       "  <th>Model:</th>                 <td>GLM</td>       <th>  Df Residuals:      </th>  <td>  5092</td>  \n",
       "</tr>\n",
       "<tr>\n",
       "  <th>Model Family:</th>       <td>Binomial</td>     <th>  Df Model:          </th>  <td>     1</td>  \n",
       "</tr>\n",
       "<tr>\n",
       "  <th>Link Function:</th>        <td>logit</td>      <th>  Scale:             </th> <td>  1.0000</td> \n",
       "</tr>\n",
       "<tr>\n",
       "  <th>Method:</th>               <td>IRLS</td>       <th>  Log-Likelihood:    </th> <td> -3350.6</td> \n",
       "</tr>\n",
       "<tr>\n",
       "  <th>Date:</th>           <td>Mon, 27 Apr 2020</td> <th>  Deviance:          </th> <td>  6701.2</td> \n",
       "</tr>\n",
       "<tr>\n",
       "  <th>Time:</th>               <td>05:17:13</td>     <th>  Pearson chi2:      </th> <td>5.09e+03</td> \n",
       "</tr>\n",
       "<tr>\n",
       "  <th>No. Iterations:</th>         <td>4</td>        <th>  Covariance Type:   </th> <td>nonrobust</td>\n",
       "</tr>\n",
       "</table>\n",
       "<table class=\"simpletable\">\n",
       "<tr>\n",
       "          <td></td>             <th>coef</th>     <th>std err</th>      <th>z</th>      <th>P>|z|</th>  <th>[0.025</th>    <th>0.975]</th>  \n",
       "</tr>\n",
       "<tr>\n",
       "  <th>Intercept</th>         <td>   -0.7547</td> <td>    0.042</td> <td>  -18.071</td> <td> 0.000</td> <td>   -0.837</td> <td>   -0.673</td>\n",
       "</tr>\n",
       "<tr>\n",
       "  <th>RIAGENDRx[T.Male]</th> <td>    0.8851</td> <td>    0.058</td> <td>   15.227</td> <td> 0.000</td> <td>    0.771</td> <td>    0.999</td>\n",
       "</tr>\n",
       "</table>"
      ],
      "text/plain": [
       "<class 'statsmodels.iolib.summary.Summary'>\n",
       "\"\"\"\n",
       "                 Generalized Linear Model Regression Results                  \n",
       "==============================================================================\n",
       "Dep. Variable:                    smq   No. Observations:                 5094\n",
       "Model:                            GLM   Df Residuals:                     5092\n",
       "Model Family:                Binomial   Df Model:                            1\n",
       "Link Function:                  logit   Scale:                          1.0000\n",
       "Method:                          IRLS   Log-Likelihood:                -3350.6\n",
       "Date:                Mon, 27 Apr 2020   Deviance:                       6701.2\n",
       "Time:                        05:17:13   Pearson chi2:                 5.09e+03\n",
       "No. Iterations:                     4   Covariance Type:             nonrobust\n",
       "=====================================================================================\n",
       "                        coef    std err          z      P>|z|      [0.025      0.975]\n",
       "-------------------------------------------------------------------------------------\n",
       "Intercept            -0.7547      0.042    -18.071      0.000      -0.837      -0.673\n",
       "RIAGENDRx[T.Male]     0.8851      0.058     15.227      0.000       0.771       0.999\n",
       "=====================================================================================\n",
       "\"\"\""
      ]
     },
     "execution_count": 28,
     "metadata": {},
     "output_type": "execute_result"
    }
   ],
   "source": [
    "model = sm.GLM.from_formula(\"smq ~ RIAGENDRx\", family=sm.families.Binomial(), data=da)\n",
    "result = model.fit()\n",
    "result.summary()"
   ]
  },
  {
   "cell_type": "markdown",
   "metadata": {},
   "source": [
    "Para ver la conexion entre regresion logistica y la estadistica log odds, noten que el coeficiente para el genero hombre de la regresion logistica es exactamente igual a la diferencia entre los log odds para hommbres y mujeres:"
   ]
  },
  {
   "cell_type": "code",
   "execution_count": 24,
   "metadata": {},
   "outputs": [
    {
     "data": {
      "text/plain": [
       "0.88505000366442177"
      ]
     },
     "execution_count": 24,
     "metadata": {},
     "output_type": "execute_result"
    }
   ],
   "source": [
    "c.logodds.Male - c.logodds.Female"
   ]
  },
  {
   "cell_type": "markdown",
   "metadata": {},
   "source": [
    "Esta relacion siempre se va a mantener cuando realicen una regresion logistica con una covariable binaria.\n",
    "\n",
    "En general, un modelo de regresion logistico va a tener multiples covariables que pueden no ser binarios, pero igual siempre hay una conexion importante entre una regresion logistica y odds ratios. En este contexto mas general, vamos a usar un tipo de odds ratios mas general, que vamos a explorar mas a continuacion.\n",
    "\n",
    "\n",
    "### Agregando covariables adicionales\n",
    "\n",
    "Como con la regresion lineal, podemos incluir multiples covariables en una regresion logistica. Abajo ajustamos una regresion logistica para estado de fumar usando edad (RIDAGEYR) y genero como covariables."
   ]
  },
  {
   "cell_type": "code",
   "execution_count": 29,
   "metadata": {},
   "outputs": [
    {
     "data": {
      "text/html": [
       "<table class=\"simpletable\">\n",
       "<caption>Generalized Linear Model Regression Results</caption>\n",
       "<tr>\n",
       "  <th>Dep. Variable:</th>         <td>smq</td>       <th>  No. Observations:  </th>  <td>  5094</td>  \n",
       "</tr>\n",
       "<tr>\n",
       "  <th>Model:</th>                 <td>GLM</td>       <th>  Df Residuals:      </th>  <td>  5091</td>  \n",
       "</tr>\n",
       "<tr>\n",
       "  <th>Model Family:</th>       <td>Binomial</td>     <th>  Df Model:          </th>  <td>     2</td>  \n",
       "</tr>\n",
       "<tr>\n",
       "  <th>Link Function:</th>        <td>logit</td>      <th>  Scale:             </th> <td>  1.0000</td> \n",
       "</tr>\n",
       "<tr>\n",
       "  <th>Method:</th>               <td>IRLS</td>       <th>  Log-Likelihood:    </th> <td> -3296.6</td> \n",
       "</tr>\n",
       "<tr>\n",
       "  <th>Date:</th>           <td>Mon, 27 Apr 2020</td> <th>  Deviance:          </th> <td>  6593.2</td> \n",
       "</tr>\n",
       "<tr>\n",
       "  <th>Time:</th>               <td>05:18:39</td>     <th>  Pearson chi2:      </th> <td>5.10e+03</td> \n",
       "</tr>\n",
       "<tr>\n",
       "  <th>No. Iterations:</th>         <td>4</td>        <th>  Covariance Type:   </th> <td>nonrobust</td>\n",
       "</tr>\n",
       "</table>\n",
       "<table class=\"simpletable\">\n",
       "<tr>\n",
       "          <td></td>             <th>coef</th>     <th>std err</th>      <th>z</th>      <th>P>|z|</th>  <th>[0.025</th>    <th>0.975]</th>  \n",
       "</tr>\n",
       "<tr>\n",
       "  <th>Intercept</th>         <td>   -1.6166</td> <td>    0.095</td> <td>  -16.985</td> <td> 0.000</td> <td>   -1.803</td> <td>   -1.430</td>\n",
       "</tr>\n",
       "<tr>\n",
       "  <th>RIAGENDRx[T.Male]</th> <td>    0.8920</td> <td>    0.059</td> <td>   15.170</td> <td> 0.000</td> <td>    0.777</td> <td>    1.007</td>\n",
       "</tr>\n",
       "<tr>\n",
       "  <th>RIDAGEYR</th>          <td>    0.0172</td> <td>    0.002</td> <td>   10.289</td> <td> 0.000</td> <td>    0.014</td> <td>    0.021</td>\n",
       "</tr>\n",
       "</table>"
      ],
      "text/plain": [
       "<class 'statsmodels.iolib.summary.Summary'>\n",
       "\"\"\"\n",
       "                 Generalized Linear Model Regression Results                  \n",
       "==============================================================================\n",
       "Dep. Variable:                    smq   No. Observations:                 5094\n",
       "Model:                            GLM   Df Residuals:                     5091\n",
       "Model Family:                Binomial   Df Model:                            2\n",
       "Link Function:                  logit   Scale:                          1.0000\n",
       "Method:                          IRLS   Log-Likelihood:                -3296.6\n",
       "Date:                Mon, 27 Apr 2020   Deviance:                       6593.2\n",
       "Time:                        05:18:39   Pearson chi2:                 5.10e+03\n",
       "No. Iterations:                     4   Covariance Type:             nonrobust\n",
       "=====================================================================================\n",
       "                        coef    std err          z      P>|z|      [0.025      0.975]\n",
       "-------------------------------------------------------------------------------------\n",
       "Intercept            -1.6166      0.095    -16.985      0.000      -1.803      -1.430\n",
       "RIAGENDRx[T.Male]     0.8920      0.059     15.170      0.000       0.777       1.007\n",
       "RIDAGEYR              0.0172      0.002     10.289      0.000       0.014       0.021\n",
       "=====================================================================================\n",
       "\"\"\""
      ]
     },
     "execution_count": 29,
     "metadata": {},
     "output_type": "execute_result"
    }
   ],
   "source": [
    "model = sm.GLM.from_formula(\"smq ~ RIDAGEYR + RIAGENDRx\", family=sm.families.Binomial(), data=da)\n",
    "result = model.fit()\n",
    "result.summary()"
   ]
  },
  {
   "cell_type": "markdown",
   "metadata": {},
   "source": [
    "Agregar edad al modelo nos lleva a un pequenio cambio en el parametro de genero (cambio de 0.885 a 0.892). En general, los coeficientes de regresion pueden cambiar mucho cuando agreguen o eliminen otras variables del modelo. En este caso el cambio fue minimo. Este modelo ajustado sugiere que personas mayores tienen mayor probabilidad de tener un historial de fumar que personas menores. Los log odds para fumar incrementan por 0.017 por cada anio de edad. Este efecto es aditivo, entonces cuando comparamos dos personas cuyas edades difieren por 20 anios, los log odds de que la persona mayor fume van a ser alrededor de 0.34 unidades mas altos que los log odds de que la persona menor fume y los odds de que la persona mayor fume van a ser alrededor de `exp(0.34) = 1.4` veces mas altos que los odds de que una persona menor fume.\n",
    "\n",
    "Como con la regresion lineal, el rol de la edad y genero en la regresion logistica puede ser vistos como aditivos, pero aqui la aditividad esta en la escala de log odds, no de odds o de probabilidades. Si comparamos una mujer de 30 anios con un hombre de 50 anios, los log odds de que el hombre sea fumador son `0.89 + 0.34 = 1.23` unidades mayores que los log odds de que la mujer sea fumadora. El valor de 0.89 en esta ecuacion es el cambio que se puede atribuir al genero, y el valor de 0.34 es el cambio atribuible a la edad. De nuevo, podemos exponenciar para convertir estos efectos de la escala de log odds a la escala de odds. Como `exp(0.89 + 0.34) = exp(0.89)*exp(0.34) = 2.44*1.41` podemos decir que ser hombre esta asociado a un incremento de 2.44 veces en los odds de fumar y 20 anios de fumar esta asociado a un incremento de 1.41 veces mayor en los odds de fumar. Estos dos efectos se multiplican cuando discutimos los odds, asi que un hombre de 50 anios tiene `exp(1.23) = 3.42` mayores odds de fumar que una mujer de 30 anios.\n",
    "\n",
    "\n",
    "El coeficiente de ~0.89 para hombres impacta los log odds condicionales en el sentido que cuando comparamos un hombre con una mujer a una edad fija, el hombre va a tener 0.89 unidades de log odds mas altas de fumar que la mujer. Esta relacion se mantiene entre cualquier edad. En este sentido, es un *coeficiente condicional* porque solamente es interpretable cuando fijamos las otras variables en el modelo. Similarmente, el coeficiente de ~0.02 para edad se mantiene dentro de un genero. Comparando dos mujeres cuya edad es diferente por un anio, la mujer mas grande tiene 0.02 unidades de log odds mas altas de fumar que la mujer joven. Este mismo contraste se mantiene para hombres.\n",
    "\n",
    "\n",
    "### Un modelo de regresion logistica con tres predictores\n",
    "\n",
    "A continuacion ajustamos una regresion logistica, de nuevo para fumar, incluyendo el nivel educativo como predictor, en NHANES esta variable se llama [DMDEDUC2](https://wwwn.cdc.gov/Nchs/Nhanes/2015-2016/DEMO_I.htm#DMDEDUC2), y la vamos a recodificar para que el significado de sus niveles sea mas claro. Vamos a llamar la variable recodificada: `DMDEDUC2x`."
   ]
  },
  {
   "cell_type": "code",
   "execution_count": 30,
   "metadata": {},
   "outputs": [
    {
     "data": {
      "text/html": [
       "<table class=\"simpletable\">\n",
       "<caption>Generalized Linear Model Regression Results</caption>\n",
       "<tr>\n",
       "  <th>Dep. Variable:</th>         <td>smq</td>       <th>  No. Observations:  </th>  <td>  5093</td>  \n",
       "</tr>\n",
       "<tr>\n",
       "  <th>Model:</th>                 <td>GLM</td>       <th>  Df Residuals:      </th>  <td>  5086</td>  \n",
       "</tr>\n",
       "<tr>\n",
       "  <th>Model Family:</th>       <td>Binomial</td>     <th>  Df Model:          </th>  <td>     6</td>  \n",
       "</tr>\n",
       "<tr>\n",
       "  <th>Link Function:</th>        <td>logit</td>      <th>  Scale:             </th> <td>  1.0000</td> \n",
       "</tr>\n",
       "<tr>\n",
       "  <th>Method:</th>               <td>IRLS</td>       <th>  Log-Likelihood:    </th> <td> -3201.2</td> \n",
       "</tr>\n",
       "<tr>\n",
       "  <th>Date:</th>           <td>Mon, 27 Apr 2020</td> <th>  Deviance:          </th> <td>  6402.4</td> \n",
       "</tr>\n",
       "<tr>\n",
       "  <th>Time:</th>               <td>05:19:28</td>     <th>  Pearson chi2:      </th> <td>5.10e+03</td> \n",
       "</tr>\n",
       "<tr>\n",
       "  <th>No. Iterations:</th>         <td>4</td>        <th>  Covariance Type:   </th> <td>nonrobust</td>\n",
       "</tr>\n",
       "</table>\n",
       "<table class=\"simpletable\">\n",
       "<tr>\n",
       "              <td></td>                <th>coef</th>     <th>std err</th>      <th>z</th>      <th>P>|z|</th>  <th>[0.025</th>    <th>0.975]</th>  \n",
       "</tr>\n",
       "<tr>\n",
       "  <th>Intercept</th>                <td>   -2.3060</td> <td>    0.114</td> <td>  -20.174</td> <td> 0.000</td> <td>   -2.530</td> <td>   -2.082</td>\n",
       "</tr>\n",
       "<tr>\n",
       "  <th>RIAGENDRx[T.Male]</th>        <td>    0.9096</td> <td>    0.060</td> <td>   15.118</td> <td> 0.000</td> <td>    0.792</td> <td>    1.028</td>\n",
       "</tr>\n",
       "<tr>\n",
       "  <th>DMDEDUC2x[T.HS]</th>          <td>    0.9434</td> <td>    0.090</td> <td>   10.521</td> <td> 0.000</td> <td>    0.768</td> <td>    1.119</td>\n",
       "</tr>\n",
       "<tr>\n",
       "  <th>DMDEDUC2x[T.SomeCollege]</th> <td>    0.8322</td> <td>    0.084</td> <td>    9.865</td> <td> 0.000</td> <td>    0.667</td> <td>    0.998</td>\n",
       "</tr>\n",
       "<tr>\n",
       "  <th>DMDEDUC2x[T.lt9]</th>         <td>    0.2662</td> <td>    0.109</td> <td>    2.438</td> <td> 0.015</td> <td>    0.052</td> <td>    0.480</td>\n",
       "</tr>\n",
       "<tr>\n",
       "  <th>DMDEDUC2x[T.x9_11]</th>       <td>    1.0986</td> <td>    0.107</td> <td>   10.296</td> <td> 0.000</td> <td>    0.889</td> <td>    1.308</td>\n",
       "</tr>\n",
       "<tr>\n",
       "  <th>RIDAGEYR</th>                 <td>    0.0183</td> <td>    0.002</td> <td>   10.582</td> <td> 0.000</td> <td>    0.015</td> <td>    0.022</td>\n",
       "</tr>\n",
       "</table>"
      ],
      "text/plain": [
       "<class 'statsmodels.iolib.summary.Summary'>\n",
       "\"\"\"\n",
       "                 Generalized Linear Model Regression Results                  \n",
       "==============================================================================\n",
       "Dep. Variable:                    smq   No. Observations:                 5093\n",
       "Model:                            GLM   Df Residuals:                     5086\n",
       "Model Family:                Binomial   Df Model:                            6\n",
       "Link Function:                  logit   Scale:                          1.0000\n",
       "Method:                          IRLS   Log-Likelihood:                -3201.2\n",
       "Date:                Mon, 27 Apr 2020   Deviance:                       6402.4\n",
       "Time:                        05:19:28   Pearson chi2:                 5.10e+03\n",
       "No. Iterations:                     4   Covariance Type:             nonrobust\n",
       "============================================================================================\n",
       "                               coef    std err          z      P>|z|      [0.025      0.975]\n",
       "--------------------------------------------------------------------------------------------\n",
       "Intercept                   -2.3060      0.114    -20.174      0.000      -2.530      -2.082\n",
       "RIAGENDRx[T.Male]            0.9096      0.060     15.118      0.000       0.792       1.028\n",
       "DMDEDUC2x[T.HS]              0.9434      0.090     10.521      0.000       0.768       1.119\n",
       "DMDEDUC2x[T.SomeCollege]     0.8322      0.084      9.865      0.000       0.667       0.998\n",
       "DMDEDUC2x[T.lt9]             0.2662      0.109      2.438      0.015       0.052       0.480\n",
       "DMDEDUC2x[T.x9_11]           1.0986      0.107     10.296      0.000       0.889       1.308\n",
       "RIDAGEYR                     0.0183      0.002     10.582      0.000       0.015       0.022\n",
       "============================================================================================\n",
       "\"\"\""
      ]
     },
     "execution_count": 30,
     "metadata": {},
     "output_type": "execute_result"
    }
   ],
   "source": [
    "# Create a labeled version of the educational attainment variable\n",
    "da[\"DMDEDUC2x\"] = da.DMDEDUC2.replace({1: \"lt9\", 2: \"x9_11\", 3: \"HS\", 4: \"SomeCollege\",\n",
    "                                       5: \"College\", 7: np.nan, 9: np.nan})\n",
    "\n",
    "model = sm.GLM.from_formula(\"smq ~ RIDAGEYR + RIAGENDRx + DMDEDUC2x\", family=sm.families.Binomial(), data=da)\n",
    "result = model.fit()\n",
    "result.summary()"
   ]
  },
  {
   "cell_type": "markdown",
   "metadata": {},
   "source": [
    "Podemos ver que el nivel \"Female\" de la variable genero, y el nivel \"College\" de la variable de educacion son los niveles de referencia ya que no salen en el output de arriba. Hemos discutido las variables de genero y edad arriba, pero la variable de nivel educacional es nueva. Todos los coeficientes que no son de referencia para nivel educacional son positivos, mientras que el coeficiente de `College`, como coeficiente de referencia, es exactamente cero. Por tanto, podemos ver que las personas con un titulo universitaro tienen la tasa mas baja de fumar, seguido por personas con menos de 9 anios de educaciones, etc.\n",
    "\n",
    "Como notamos arriba, es importante recordar que un coeficiente en una regresion logistica es \"condicional\" con que las otras variables se mantengan fijas.\n",
    "\n",
    "\n",
    "### Visualizacion de los modelos ajustados\n",
    "\n",
    "La visualizacion de los modelos de regresion logistica ajustados son mas complejos que visualizar una regresion lineal, pero vale la pena intentar. Podemos empezar graficando la proporcion de la poblacion ajustada que fuma, para varias subpoblaciones definidas por el modelo de regresion. Nos vamos a enfocar en como la tasa de fumar varia con edad, entonces restringimos la poblacion a mujeres graduadas de la universidad.\n",
    "\n",
    "El siguiente plot demuestra la probabilidad log odds (o logit) ajustada para el outcome de fumar como una funcion de edad. La banda gris es una banda de confianza de 95% simultanea, como discutimos arriba en el caso de la regresion lineal."
   ]
  },
  {
   "cell_type": "code",
   "execution_count": 31,
   "metadata": {},
   "outputs": [
    {
     "data": {
      "text/plain": [
       "Text(0,0.5,'Smoking')"
      ]
     },
     "execution_count": 31,
     "metadata": {},
     "output_type": "execute_result"
    },
    {
     "data": {
      "image/png": "[encoded data removed]",
      "text/plain": [
       "<Figure size 432x288 with 1 Axes>"
      ]
     },
     "metadata": {},
     "output_type": "display_data"
    }
   ],
   "source": [
    "values = {\"RIAGENDRx\": \"Female\", \"RIAGENDR\": 1, \"BMXBMI\": 25,\n",
    "          \"DMDEDUC2\": 1, \"RIDRETH1\": 1, \"SMQ020\": 1,\n",
    "          \"DMDEDUC2x\": \"College\", \"BPXSY1\": 120}\n",
    "\n",
    "pr, cb, fv = predict_functional(result, \"RIDAGEYR\",\n",
    "                values=values, ci_method=\"simultaneous\")\n",
    "\n",
    "ax = sns.lineplot(fv, pr, lw=4)\n",
    "ax.fill_between(fv, cb[:, 0], cb[:, 1], color='grey', alpha=0.4)\n",
    "ax.set_xlabel(\"Age\")\n",
    "ax.set_ylabel(\"Smoking\")"
   ]
  },
  {
   "cell_type": "markdown",
   "metadata": {},
   "source": [
    "Podemos mostrar el mismo plot en terminos de probabilidades en vez de log odds. La probabilidad puede ser obtenida de los log odds usando la relacion `p = 1 / (1 + exp(-o))` donde `o` son los log odds. Noten que mientras la edad y los log odds estan linealmente relacionados, edad tiene una relacion curvada con probabilidad. Esto es necesario ya que las probabilidades se mantienen entre 0 y 1, una relacion lineal eventualmente se saldria de este intervalo."
   ]
  },
  {
   "cell_type": "code",
   "execution_count": 28,
   "metadata": {},
   "outputs": [
    {
     "data": {
      "text/plain": [
       "Text(0,0.5,'Smoking')"
      ]
     },
     "execution_count": 28,
     "metadata": {},
     "output_type": "execute_result"
    },
    {
     "data": {
      "image/png": "[encoded data removed]",
      "text/plain": [
       "<Figure size 432x288 with 1 Axes>"
      ]
     },
     "metadata": {},
     "output_type": "display_data"
    }
   ],
   "source": [
    "pr1 = 1 / (1 + np.exp(-pr))\n",
    "cb1 = 1 / (1 + np.exp(-cb))\n",
    "ax = sns.lineplot(fv, pr1, lw=4)\n",
    "ax.fill_between(fv, cb1[:, 0], cb1[:, 1], color='grey', alpha=0.4)\n",
    "ax.set_xlabel(\"Age\", size=15)\n",
    "ax.set_ylabel(\"Smoking\", size=15)"
   ]
  }
 ],
 "metadata": {
  "kernelspec": {
   "display_name": "Python 3",
   "language": "python",
   "name": "python3"
  },
  "language_info": {
   "codemirror_mode": {
    "name": "ipython",
    "version": 3
   },
   "file_extension": ".py",
   "mimetype": "text/x-python",
   "name": "python",
   "nbconvert_exporter": "python",
   "pygments_lexer": "ipython3",
   "version": "3.8.2"
  }
 },
 "nbformat": 4,
 "nbformat_minor": 4
}
