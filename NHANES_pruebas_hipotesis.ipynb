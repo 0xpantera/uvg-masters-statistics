{
 "cells": [
  {
   "cell_type": "markdown",
   "metadata": {},
   "source": [
    "# Pruebas de hipotesis\n",
    "\n",
    "En este notebook vamos a demostrar pruebas de hipotesis formales usando la data de NHANES.\n",
    "\n",
    "\n",
    "Es importante notar que la data de NHANES es data de una \"encuesta compleja\". La data no es independiente ni una muestra representativa de la poblacion target. Analisis apropiado de encuestas complejas debe hacer uso de la informacion adicional sobre como se obtuvo la data. Dado que las encuestas complejas es un tema especializado, vamos a ignorar este aspecto de la data aqui y analizar NHANES como si fuera data independiente y identicamente distribuida (iid) de una muestra de la poblacion."
   ]
  },
  {
   "cell_type": "code",
   "execution_count": 1,
   "metadata": {},
   "outputs": [],
   "source": [
    "import pandas as pd\n",
    "import numpy as np\n",
    "import matplotlib\n",
    "matplotlib.use('Agg') # workaround, there may be a better way\n",
    "import seaborn as sns\n",
    "%matplotlib inline\n",
    "import matplotlib.pyplot as plt\n",
    "import statsmodels.api as sm\n",
    "import scipy.stats.distributions as dist"
   ]
  },
  {
   "cell_type": "code",
   "execution_count": 2,
   "metadata": {},
   "outputs": [],
   "source": [
    "url = \"nhanes_2015_2016.csv\"\n",
    "da = pd.read_csv(url)\n",
    "\n",
    "da[\"SMQ020x\"] = da.SMQ020.replace({1: \"Yes\", \n",
    "                                   2: \"No\", \n",
    "                                   7: np.nan, \n",
    "                                   9: np.nan})"
   ]
  },
  {
   "cell_type": "code",
   "execution_count": 3,
   "metadata": {},
   "outputs": [
    {
     "data": {
      "text/plain": [
       "0    Yes\n",
       "1    Yes\n",
       "2    Yes\n",
       "3     No\n",
       "4     No\n",
       "Name: SMQ020x, dtype: object"
      ]
     },
     "execution_count": 3,
     "metadata": {},
     "output_type": "execute_result"
    }
   ],
   "source": [
    "da[\"SMQ020x\"].head()"
   ]
  },
  {
   "cell_type": "code",
   "execution_count": 4,
   "metadata": {},
   "outputs": [
    {
     "data": {
      "text/plain": [
       "0      Male\n",
       "1      Male\n",
       "2      Male\n",
       "3    Female\n",
       "4    Female\n",
       "Name: RIAGENDRx, dtype: object"
      ]
     },
     "execution_count": 4,
     "metadata": {},
     "output_type": "execute_result"
    }
   ],
   "source": [
    "da[\"RIAGENDRx\"] = da.RIAGENDR.replace({1: \"Male\", 2: \"Female\"})\n",
    "\n",
    "da[\"RIAGENDRx\"].head()"
   ]
  },
  {
   "cell_type": "markdown",
   "metadata": {},
   "source": [
    "### Prueba de hipotesis para una proporcion\n",
    "\n",
    "La prueba de hipotesis mas basica es la de una proporcion para una muestra. Esta prueba se usa si hemos especificado un valor en particular como el valor nulo para la proporcion y deseamos evaluar si la data es compatible con que el parametro real sea igual al valor especificado. Para ilustrarlo, imaginemos que la tasa de _lifetime smoking_ en otro pais es de 40% y queremos evaluar si la tasa de _lifetime smoking_ en los EEUU es diferente a 40%. En las siguientes celdas vamos a realizar una prueba de una muestra (de dos lados) para evaluar si la proporcion poblacional de fumadores es 0.4, y obtener un p-value de 0.43. Esto nos indica que la data de NHANES es compatible con que la proporcion de fumadores en EEUU sea de 40%."
   ]
  },
  {
   "cell_type": "code",
   "execution_count": 5,
   "metadata": {},
   "outputs": [],
   "source": [
    "x = da.SMQ020x.dropna() == \"Yes\""
   ]
  },
  {
   "cell_type": "code",
   "execution_count": 6,
   "metadata": {},
   "outputs": [],
   "source": [
    "p = x.mean()"
   ]
  },
  {
   "cell_type": "code",
   "execution_count": 7,
   "metadata": {},
   "outputs": [
    {
     "data": {
      "text/plain": [
       "0.4050655021834061"
      ]
     },
     "execution_count": 7,
     "metadata": {},
     "output_type": "execute_result"
    }
   ],
   "source": [
    "p"
   ]
  },
  {
   "cell_type": "code",
   "execution_count": 8,
   "metadata": {},
   "outputs": [
    {
     "data": {
      "text/plain": [
       "0.00647467353462031"
      ]
     },
     "execution_count": 8,
     "metadata": {},
     "output_type": "execute_result"
    }
   ],
   "source": [
    "se = np.sqrt(.4 * (1 - .4)/ len(x))\n",
    "se"
   ]
  },
  {
   "cell_type": "code",
   "execution_count": 9,
   "metadata": {},
   "outputs": [
    {
     "data": {
      "text/plain": [
       "0.7823563854332805"
      ]
     },
     "execution_count": 9,
     "metadata": {},
     "output_type": "execute_result"
    }
   ],
   "source": [
    "test_stat = (p - 0.4) / se\n",
    "test_stat"
   ]
  },
  {
   "cell_type": "code",
   "execution_count": 10,
   "metadata": {},
   "outputs": [
    {
     "name": "stdout",
     "output_type": "stream",
     "text": [
      "0.7823563854332805 0.4340051581348052\n"
     ]
    }
   ],
   "source": [
    "pvalue = 2 * dist.norm.cdf(-np.abs(test_stat))\n",
    "print(test_stat, pvalue)"
   ]
  },
  {
   "cell_type": "markdown",
   "metadata": {},
   "source": [
    "Las siguientes celdas realizan la misma prueba de arriba usando la libreria de `Statsmodels`. Los resultados en el primer caso de abajo son un poco diferentes a los resultados obtenidos arriba porque `Statsmodels` usa por default la proporcion muestral en vez de de la proporcion nula cuando calcula el error estandar. Esta diferencia rara vez tiene consecuencias, pero podemos especificar que se debe usar la proporcion nula para calcular el error estandar, y los resultados son exactamente los mismos a los que calculamos arriba. Las primeras dos lineas realizan la prueba usando la aproximacion normal a la distribucion muestral de la estadistica de prueba, y la tercera linea utiliza la distribucion muestral binomial. Podemos ver que los p-values son casi igual en los 3 casos. Esto es esperado cuando el tamanio de la muestra es grannde y la proporcion no esta cerca de 0 o 1."
   ]
  },
  {
   "cell_type": "code",
   "execution_count": 11,
   "metadata": {},
   "outputs": [
    {
     "data": {
      "text/plain": [
       "(0.7807518954896244, 0.43494843171868214)"
      ]
     },
     "execution_count": 11,
     "metadata": {},
     "output_type": "execute_result"
    }
   ],
   "source": [
    "sm.stats.proportions_ztest(x.sum(), len(x), 0.4)"
   ]
  },
  {
   "cell_type": "code",
   "execution_count": 12,
   "metadata": {},
   "outputs": [
    {
     "data": {
      "text/plain": [
       "0.4340360854459431"
      ]
     },
     "execution_count": 12,
     "metadata": {},
     "output_type": "execute_result"
    }
   ],
   "source": [
    "sm.stats.binom_test(x.sum(), len(x), 0.4)"
   ]
  },
  {
   "cell_type": "markdown",
   "metadata": {},
   "source": [
    "### Prueba de hipotesis para dos proporciones\n",
    "\n",
    "Las pruebas comparativas tienden a ser usadas con mas frecuencia que las pruebas comparando una poblacion con un valor fijo. Una prueba de dos proporciones muestrales se usa para evaluar si la proporcion de individuos con alguna caracteristica difiere entre dos sub-poblaciones. Por ejemplo, podemos comparar las tasas de fumar entre mujeres y hombres. Dado que las tasas de fumar varian fuertemente con la edad, podemos hacer esto en la sub poblacion de personas entre 20 y 25 anios. En las celdas de abajo vamos a realizar esta prueba sin usar la libreria de `Statsmodels`, implementando todos los procedimientos de la prueba que vimos durante el curso. Podemos ver que la tasa de fumar para hombres es ~10 puntos porcentuales mayor a la tasa de fumar para mujeres, y esta diferencia es estadisticamente significativa (p-value ~= 0.01)."
   ]
  },
  {
   "cell_type": "code",
   "execution_count": 13,
   "metadata": {},
   "outputs": [
    {
     "data": {
      "text/html": [
       "<div>\n",
       "<style scoped>\n",
       "    .dataframe tbody tr th:only-of-type {\n",
       "        vertical-align: middle;\n",
       "    }\n",
       "\n",
       "    .dataframe tbody tr th {\n",
       "        vertical-align: top;\n",
       "    }\n",
       "\n",
       "    .dataframe thead th {\n",
       "        text-align: right;\n",
       "    }\n",
       "</style>\n",
       "<table border=\"1\" class=\"dataframe\">\n",
       "  <thead>\n",
       "    <tr style=\"text-align: right;\">\n",
       "      <th></th>\n",
       "      <th>SMQ020x</th>\n",
       "      <th>RIDAGEYR</th>\n",
       "      <th>RIAGENDRx</th>\n",
       "    </tr>\n",
       "  </thead>\n",
       "  <tbody>\n",
       "    <tr>\n",
       "      <th>0</th>\n",
       "      <td>Yes</td>\n",
       "      <td>62</td>\n",
       "      <td>Male</td>\n",
       "    </tr>\n",
       "    <tr>\n",
       "      <th>1</th>\n",
       "      <td>Yes</td>\n",
       "      <td>53</td>\n",
       "      <td>Male</td>\n",
       "    </tr>\n",
       "    <tr>\n",
       "      <th>2</th>\n",
       "      <td>Yes</td>\n",
       "      <td>78</td>\n",
       "      <td>Male</td>\n",
       "    </tr>\n",
       "    <tr>\n",
       "      <th>3</th>\n",
       "      <td>No</td>\n",
       "      <td>56</td>\n",
       "      <td>Female</td>\n",
       "    </tr>\n",
       "    <tr>\n",
       "      <th>4</th>\n",
       "      <td>No</td>\n",
       "      <td>42</td>\n",
       "      <td>Female</td>\n",
       "    </tr>\n",
       "  </tbody>\n",
       "</table>\n",
       "</div>"
      ],
      "text/plain": [
       "  SMQ020x  RIDAGEYR RIAGENDRx\n",
       "0     Yes        62      Male\n",
       "1     Yes        53      Male\n",
       "2     Yes        78      Male\n",
       "3      No        56    Female\n",
       "4      No        42    Female"
      ]
     },
     "execution_count": 13,
     "metadata": {},
     "output_type": "execute_result"
    }
   ],
   "source": [
    "dx = da[[\"SMQ020x\", \"RIDAGEYR\", \"RIAGENDRx\"]].dropna()\n",
    "\n",
    "dx.head()"
   ]
  },
  {
   "cell_type": "code",
   "execution_count": 14,
   "metadata": {},
   "outputs": [
    {
     "name": "stdout",
     "output_type": "stream",
     "text": [
      "              Smoke     N\n",
      "RIAGENDRx                \n",
      "Female     0.304845  2972\n",
      "Male       0.513258  2753\n"
     ]
    }
   ],
   "source": [
    "p = (dx.groupby(\"RIAGENDRx\")[\"SMQ020x\"]\n",
    "     .agg([lambda z: np.mean(z == \"Yes\"), \"size\"]))\n",
    "\n",
    "p.columns = [\"Smoke\", \"N\"]\n",
    "print(p)"
   ]
  },
  {
   "cell_type": "markdown",
   "metadata": {},
   "source": [
    "Esencialmente las mismas pruebas que arriba se pueden realizar convirtiendo el \"yes\"/\"no\" a numeros y realizando un t-test de dos muestras, como abajo:"
   ]
  },
  {
   "cell_type": "code",
   "execution_count": 15,
   "metadata": {},
   "outputs": [],
   "source": [
    "p_comb = (dx.SMQ020x == \"Yes\").mean()\n",
    "va = p_comb * (1 - p_comb)\n",
    "\n",
    "se = np.sqrt(va * (1 / p.N.Female + 1 / p.N.Male))"
   ]
  },
  {
   "cell_type": "code",
   "execution_count": 16,
   "metadata": {},
   "outputs": [
    {
     "data": {
      "text/plain": [
       "(0.4050655021834061, 0.2409874411243111, 0.01298546309757376)"
      ]
     },
     "execution_count": 16,
     "metadata": {},
     "output_type": "execute_result"
    }
   ],
   "source": [
    "(p_comb, va, se)"
   ]
  },
  {
   "cell_type": "code",
   "execution_count": 17,
   "metadata": {},
   "outputs": [
    {
     "data": {
      "text/plain": [
       "(-16.049719603652488, 5.742288777302776e-58)"
      ]
     },
     "execution_count": 17,
     "metadata": {},
     "output_type": "execute_result"
    }
   ],
   "source": [
    "test_stat = (p.Smoke.Female - p.Smoke.Male) / se\n",
    "p_value = 2 * dist.norm.cdf(-np.abs(test_stat))\n",
    "(test_stat, p_value)"
   ]
  },
  {
   "cell_type": "code",
   "execution_count": 19,
   "metadata": {},
   "outputs": [
    {
     "data": {
      "text/plain": [
       "3     0\n",
       "4     0\n",
       "5     0\n",
       "7     0\n",
       "12    1\n",
       "Name: SMQ020x, dtype: int64"
      ]
     },
     "execution_count": 19,
     "metadata": {},
     "output_type": "execute_result"
    }
   ],
   "source": [
    "dx_females = (dx.loc[dx.RIAGENDRx == \"Female\", \"SMQ020x\"]\n",
    "              .replace({\"Yes\": 1, \"No\": 0}))\n",
    "\n",
    "dx_females.head()"
   ]
  },
  {
   "cell_type": "code",
   "execution_count": 20,
   "metadata": {},
   "outputs": [
    {
     "data": {
      "text/plain": [
       "0    1\n",
       "1    1\n",
       "2    1\n",
       "6    1\n",
       "8    0\n",
       "Name: SMQ020x, dtype: int64"
      ]
     },
     "execution_count": 20,
     "metadata": {},
     "output_type": "execute_result"
    }
   ],
   "source": [
    "dx_males = (dx.loc[dx.RIAGENDRx == \"Male\", \"SMQ020x\"]\n",
    "            .replace({\"Yes\": 1, \"No\": 0}))\n",
    "\n",
    "dx_males.head()"
   ]
  },
  {
   "cell_type": "code",
   "execution_count": 21,
   "metadata": {},
   "outputs": [
    {
     "data": {
      "text/plain": [
       "(-16.42058555898443, 3.032088786691117e-59, 5723.0)"
      ]
     },
     "execution_count": 21,
     "metadata": {},
     "output_type": "execute_result"
    }
   ],
   "source": [
    "sm.stats.ttest_ind(dx_females, dx_males)"
   ]
  },
  {
   "cell_type": "markdown",
   "metadata": {},
   "source": [
    "### Prueba de hipotesis comparando dos medias\n",
    "\n",
    "Pruebas de medias son similares a las pruebas de proporciones. Igual que con las proporciones, para comparar medias hay pruebas de una y dos muestras, z-tests y t-tests, de un lado y de dos lados. Igual que con las pruebas de proporciones, las pruebas de una muestra no se usan muy seguido, pero realizamos una abajo. Comparamos systolic blood pressure con el valor fijo de 120 (que es el limite bajo para \"pre-hipertension\") y encontramos que la media es significativamente diferente de 120 (la estimacion de la media es 126)."
   ]
  },
  {
   "cell_type": "code",
   "execution_count": 23,
   "metadata": {},
   "outputs": [
    {
     "data": {
      "text/html": [
       "<div>\n",
       "<style scoped>\n",
       "    .dataframe tbody tr th:only-of-type {\n",
       "        vertical-align: middle;\n",
       "    }\n",
       "\n",
       "    .dataframe tbody tr th {\n",
       "        vertical-align: top;\n",
       "    }\n",
       "\n",
       "    .dataframe thead th {\n",
       "        text-align: right;\n",
       "    }\n",
       "</style>\n",
       "<table border=\"1\" class=\"dataframe\">\n",
       "  <thead>\n",
       "    <tr style=\"text-align: right;\">\n",
       "      <th></th>\n",
       "      <th>BPXSY1</th>\n",
       "      <th>RIDAGEYR</th>\n",
       "      <th>RIAGENDRx</th>\n",
       "    </tr>\n",
       "  </thead>\n",
       "  <tbody>\n",
       "    <tr>\n",
       "      <th>0</th>\n",
       "      <td>128.0</td>\n",
       "      <td>62</td>\n",
       "      <td>Male</td>\n",
       "    </tr>\n",
       "    <tr>\n",
       "      <th>1</th>\n",
       "      <td>146.0</td>\n",
       "      <td>53</td>\n",
       "      <td>Male</td>\n",
       "    </tr>\n",
       "    <tr>\n",
       "      <th>2</th>\n",
       "      <td>138.0</td>\n",
       "      <td>78</td>\n",
       "      <td>Male</td>\n",
       "    </tr>\n",
       "    <tr>\n",
       "      <th>3</th>\n",
       "      <td>132.0</td>\n",
       "      <td>56</td>\n",
       "      <td>Female</td>\n",
       "    </tr>\n",
       "    <tr>\n",
       "      <th>4</th>\n",
       "      <td>100.0</td>\n",
       "      <td>42</td>\n",
       "      <td>Female</td>\n",
       "    </tr>\n",
       "  </tbody>\n",
       "</table>\n",
       "</div>"
      ],
      "text/plain": [
       "   BPXSY1  RIDAGEYR RIAGENDRx\n",
       "0   128.0        62      Male\n",
       "1   146.0        53      Male\n",
       "2   138.0        78      Male\n",
       "3   132.0        56    Female\n",
       "4   100.0        42    Female"
      ]
     },
     "execution_count": 23,
     "metadata": {},
     "output_type": "execute_result"
    }
   ],
   "source": [
    "dx = da[[\"BPXSY1\", \"RIDAGEYR\", \"RIAGENDRx\"]].dropna()\n",
    "dx.head()"
   ]
  },
  {
   "cell_type": "code",
   "execution_count": 24,
   "metadata": {},
   "outputs": [
    {
     "data": {
      "text/html": [
       "<div>\n",
       "<style scoped>\n",
       "    .dataframe tbody tr th:only-of-type {\n",
       "        vertical-align: middle;\n",
       "    }\n",
       "\n",
       "    .dataframe tbody tr th {\n",
       "        vertical-align: top;\n",
       "    }\n",
       "\n",
       "    .dataframe thead th {\n",
       "        text-align: right;\n",
       "    }\n",
       "</style>\n",
       "<table border=\"1\" class=\"dataframe\">\n",
       "  <thead>\n",
       "    <tr style=\"text-align: right;\">\n",
       "      <th></th>\n",
       "      <th>BPXSY1</th>\n",
       "      <th>RIDAGEYR</th>\n",
       "      <th>RIAGENDRx</th>\n",
       "    </tr>\n",
       "  </thead>\n",
       "  <tbody>\n",
       "    <tr>\n",
       "      <th>10</th>\n",
       "      <td>144.0</td>\n",
       "      <td>46</td>\n",
       "      <td>Male</td>\n",
       "    </tr>\n",
       "    <tr>\n",
       "      <th>11</th>\n",
       "      <td>116.0</td>\n",
       "      <td>45</td>\n",
       "      <td>Male</td>\n",
       "    </tr>\n",
       "    <tr>\n",
       "      <th>20</th>\n",
       "      <td>110.0</td>\n",
       "      <td>49</td>\n",
       "      <td>Male</td>\n",
       "    </tr>\n",
       "    <tr>\n",
       "      <th>42</th>\n",
       "      <td>128.0</td>\n",
       "      <td>42</td>\n",
       "      <td>Male</td>\n",
       "    </tr>\n",
       "    <tr>\n",
       "      <th>51</th>\n",
       "      <td>118.0</td>\n",
       "      <td>50</td>\n",
       "      <td>Male</td>\n",
       "    </tr>\n",
       "  </tbody>\n",
       "</table>\n",
       "</div>"
      ],
      "text/plain": [
       "    BPXSY1  RIDAGEYR RIAGENDRx\n",
       "10   144.0        46      Male\n",
       "11   116.0        45      Male\n",
       "20   110.0        49      Male\n",
       "42   128.0        42      Male\n",
       "51   118.0        50      Male"
      ]
     },
     "execution_count": 24,
     "metadata": {},
     "output_type": "execute_result"
    }
   ],
   "source": [
    "dx = dx.loc[(dx.RIDAGEYR >= 40) & \n",
    "            (dx.RIDAGEYR <= 50) & \n",
    "            (dx.RIAGENDRx == \"Male\"), :]\n",
    "dx.head()"
   ]
  },
  {
   "cell_type": "code",
   "execution_count": 25,
   "metadata": {},
   "outputs": [
    {
     "name": "stdout",
     "output_type": "stream",
     "text": [
      "125.86698337292161\n"
     ]
    }
   ],
   "source": [
    "print(dx.BPXSY1.mean())"
   ]
  },
  {
   "cell_type": "code",
   "execution_count": 26,
   "metadata": {},
   "outputs": [
    {
     "data": {
      "text/plain": [
       "(7.469764137102597, 8.033869113167905e-14)"
      ]
     },
     "execution_count": 26,
     "metadata": {},
     "output_type": "execute_result"
    }
   ],
   "source": [
    "sm.stats.ztest(dx.BPXSY1, value=120)"
   ]
  },
  {
   "cell_type": "markdown",
   "metadata": {},
   "source": [
    "En las celdas de abajo, realizamos una prueba formal de la hipotesis nula que la presion arterial media para mujeres entre 50 y 60 anios es igual a la presion arterial media para hombres entre 50 y 60 anios. Los resultados indican que mientras que la presion arterial media de los hombres esta un poco mas arriba que la de las mujeres (129 mm/Hg versus 128 mm/Hg), esta diferencia no es estadisticamente significativa.\n",
    "\n",
    "Hay diferentes variaciones de pruebas t-test de dos muestras. Dos variaciones que se usan con frecuencia son el t-test realizado con una distribucion t y el t-test realizado usando la aproximacion normal a la distribucion de referencia del estadistico de prueba, a menudo llamado un z-test. Abajo vemos los resultados de estos dos enfoques. Cuando el tamanio de la muestra es grande, la diferencia entre un t-test y un z-test es bastante pequenia."
   ]
  },
  {
   "cell_type": "code",
   "execution_count": 27,
   "metadata": {},
   "outputs": [
    {
     "data": {
      "text/html": [
       "<div>\n",
       "<style scoped>\n",
       "    .dataframe tbody tr th:only-of-type {\n",
       "        vertical-align: middle;\n",
       "    }\n",
       "\n",
       "    .dataframe tbody tr th {\n",
       "        vertical-align: top;\n",
       "    }\n",
       "\n",
       "    .dataframe thead th {\n",
       "        text-align: right;\n",
       "    }\n",
       "</style>\n",
       "<table border=\"1\" class=\"dataframe\">\n",
       "  <thead>\n",
       "    <tr style=\"text-align: right;\">\n",
       "      <th></th>\n",
       "      <th>BPXSY1</th>\n",
       "      <th>RIDAGEYR</th>\n",
       "      <th>RIAGENDRx</th>\n",
       "    </tr>\n",
       "  </thead>\n",
       "  <tbody>\n",
       "    <tr>\n",
       "      <th>1</th>\n",
       "      <td>146.0</td>\n",
       "      <td>53</td>\n",
       "      <td>Male</td>\n",
       "    </tr>\n",
       "    <tr>\n",
       "      <th>3</th>\n",
       "      <td>132.0</td>\n",
       "      <td>56</td>\n",
       "      <td>Female</td>\n",
       "    </tr>\n",
       "    <tr>\n",
       "      <th>9</th>\n",
       "      <td>178.0</td>\n",
       "      <td>56</td>\n",
       "      <td>Male</td>\n",
       "    </tr>\n",
       "    <tr>\n",
       "      <th>15</th>\n",
       "      <td>134.0</td>\n",
       "      <td>57</td>\n",
       "      <td>Female</td>\n",
       "    </tr>\n",
       "    <tr>\n",
       "      <th>19</th>\n",
       "      <td>136.0</td>\n",
       "      <td>54</td>\n",
       "      <td>Female</td>\n",
       "    </tr>\n",
       "  </tbody>\n",
       "</table>\n",
       "</div>"
      ],
      "text/plain": [
       "    BPXSY1  RIDAGEYR RIAGENDRx\n",
       "1    146.0        53      Male\n",
       "3    132.0        56    Female\n",
       "9    178.0        56      Male\n",
       "15   134.0        57    Female\n",
       "19   136.0        54    Female"
      ]
     },
     "execution_count": 27,
     "metadata": {},
     "output_type": "execute_result"
    }
   ],
   "source": [
    "dx = da[[\"BPXSY1\", \"RIDAGEYR\", \"RIAGENDRx\"]].dropna()\n",
    "dx = dx.loc[(dx.RIDAGEYR >= 50) & (dx.RIDAGEYR <= 60), :]\n",
    "dx.head()"
   ]
  },
  {
   "cell_type": "code",
   "execution_count": 28,
   "metadata": {},
   "outputs": [
    {
     "name": "stdout",
     "output_type": "stream",
     "text": [
      "127.92561983471074 129.23829787234044\n"
     ]
    }
   ],
   "source": [
    "bpx_female = dx.loc[dx.RIAGENDRx==\"Female\", \"BPXSY1\"]\n",
    "bpx_male = dx.loc[dx.RIAGENDRx==\"Male\", \"BPXSY1\"]\n",
    "print(bpx_female.mean(), bpx_male.mean())"
   ]
  },
  {
   "cell_type": "code",
   "execution_count": 29,
   "metadata": {},
   "outputs": [
    {
     "name": "stdout",
     "output_type": "stream",
     "text": [
      "(-1.105435895556249, 0.2689707570859362)\n"
     ]
    }
   ],
   "source": [
    "print(sm.stats.ztest(bpx_female, bpx_male))"
   ]
  },
  {
   "cell_type": "code",
   "execution_count": 30,
   "metadata": {},
   "outputs": [
    {
     "name": "stdout",
     "output_type": "stream",
     "text": [
      "(-1.105435895556249, 0.26925004137768577, 952.0)\n"
     ]
    }
   ],
   "source": [
    "print(sm.stats.ttest_ind(bpx_female, bpx_male))"
   ]
  },
  {
   "cell_type": "code",
   "execution_count": null,
   "metadata": {},
   "outputs": [],
   "source": []
  }
 ],
 "metadata": {
  "kernelspec": {
   "display_name": "Python 3",
   "language": "python",
   "name": "python3"
  },
  "language_info": {
   "codemirror_mode": {
    "name": "ipython",
    "version": 3
   },
   "file_extension": ".py",
   "mimetype": "text/x-python",
   "name": "python",
   "nbconvert_exporter": "python",
   "pygments_lexer": "ipython3",
   "version": "3.8.2"
  }
 },
 "nbformat": 4,
 "nbformat_minor": 4
}
