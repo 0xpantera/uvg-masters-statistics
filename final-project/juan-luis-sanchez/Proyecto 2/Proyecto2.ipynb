{
 "cells": [
  {
   "cell_type": "markdown",
   "metadata": {},
   "source": [
    "<div align=\"center\">\n",
    "  <img src=\"uvg.jpg\"  height=\"200\" width=\"200\">\n",
    "</div>\n",
    "\n",
    "\n",
    "<textarea id=\"w3mission\" rows=\"4\" cols=\"50\" style=\"border: none\" >\n",
    "    Juan Luis Sanchez Garcia\n",
    "    Data Analytics\n",
    "</textarea>\n",
    "\n",
    "\n",
    "\n"
   ]
  },
  {
   "cell_type": "markdown",
   "metadata": {},
   "source": [
    "<div style=\"text-align: center\"> <h1> Proyecto 2 - Modelos de regresión </h1> </div>\n",
    "\n",
    "El dataset a utlizar es [Nobel Laureates](https://www.kaggle.com/deepakdeepu8978/nobel-laureates-1901present)\n",
    "\n",
    "\n",
    "\n"
   ]
  },
  {
   "cell_type": "markdown",
   "metadata": {},
   "source": [
    "## Parte 1: Pregunta de investigación "
   ]
  },
  {
   "cell_type": "markdown",
   "metadata": {},
   "source": [
    "Hay alguna implicación entre la longevidad de una persona y los anios que le toma obtener un premio Nobel?"
   ]
  },
  {
   "cell_type": "markdown",
   "metadata": {},
   "source": [
    "## Parte 2: Análisis de daatos exploratorio"
   ]
  },
  {
   "cell_type": "code",
   "execution_count": 133,
   "metadata": {},
   "outputs": [],
   "source": [
    "%matplotlib inline\n",
    "import matplotlib.pyplot as plt\n",
    "import seaborn as sns\n",
    "import pandas as pd\n",
    "import numpy as np\n",
    "import scipy.stats as stats\n",
    "import statsmodels.api as sm\n"
   ]
  },
  {
   "cell_type": "markdown",
   "metadata": {},
   "source": [
    "Cargamos la data para el análisis"
   ]
  },
  {
   "cell_type": "code",
   "execution_count": 134,
   "metadata": {},
   "outputs": [],
   "source": [
    "da = pd.read_csv(\"nobel_prize_by_winner.csv\",encoding = \"ISO-8859-1\")\n"
   ]
  },
  {
   "cell_type": "markdown",
   "metadata": {},
   "source": [
    "## Contexto\n",
    "\n",
    "The Nobel Prize is a set of annual international awards bestowed in several categories by Swedish and Norwegian institutions in recognition of academic, cultural, or scientific advances. The will of the Swedish chemist, engineer and industrialist Alfred Nobel established the five Nobel prizes in 1895.\n",
    "\n",
    "A person or organization awarded the Nobel Prize is called Nobel Laureate. The word \"laureate\" refers to being signified by the laurel wreath. In ancient Greece, laurel wreaths were awarded to victors as a sign of honor."
   ]
  },
  {
   "cell_type": "code",
   "execution_count": 33,
   "metadata": {},
   "outputs": [
    {
     "data": {
      "text/html": [
       "<div>\n",
       "<style scoped>\n",
       "    .dataframe tbody tr th:only-of-type {\n",
       "        vertical-align: middle;\n",
       "    }\n",
       "\n",
       "    .dataframe tbody tr th {\n",
       "        vertical-align: top;\n",
       "    }\n",
       "\n",
       "    .dataframe thead th {\n",
       "        text-align: right;\n",
       "    }\n",
       "</style>\n",
       "<table border=\"1\" class=\"dataframe\">\n",
       "  <thead>\n",
       "    <tr style=\"text-align: right;\">\n",
       "      <th></th>\n",
       "      <th>id</th>\n",
       "      <th>firstname</th>\n",
       "      <th>surname</th>\n",
       "      <th>born</th>\n",
       "      <th>died</th>\n",
       "      <th>bornCountry</th>\n",
       "      <th>bornCountryCode</th>\n",
       "      <th>bornCity</th>\n",
       "      <th>diedCountry</th>\n",
       "      <th>diedCountryCode</th>\n",
       "      <th>diedCity</th>\n",
       "      <th>gender</th>\n",
       "      <th>year</th>\n",
       "      <th>category</th>\n",
       "      <th>overallMotivation</th>\n",
       "      <th>share</th>\n",
       "      <th>motivation</th>\n",
       "      <th>name</th>\n",
       "      <th>city</th>\n",
       "      <th>country</th>\n",
       "    </tr>\n",
       "  </thead>\n",
       "  <tbody>\n",
       "    <tr>\n",
       "      <th>0</th>\n",
       "      <td>846</td>\n",
       "      <td>Elinor</td>\n",
       "      <td>Ostrom</td>\n",
       "      <td>8/7/1933</td>\n",
       "      <td>6/12/2012</td>\n",
       "      <td>USA</td>\n",
       "      <td>US</td>\n",
       "      <td>Los Angeles, CA</td>\n",
       "      <td>USA</td>\n",
       "      <td>US</td>\n",
       "      <td>Bloomington, IN</td>\n",
       "      <td>female</td>\n",
       "      <td>2009.0</td>\n",
       "      <td>economics</td>\n",
       "      <td>NaN</td>\n",
       "      <td>2.0</td>\n",
       "      <td>\"for her analysis of economic governance, espe...</td>\n",
       "      <td>Indiana University</td>\n",
       "      <td>Bloomington, IN</td>\n",
       "      <td>USA</td>\n",
       "    </tr>\n",
       "    <tr>\n",
       "      <th>1</th>\n",
       "      <td>846</td>\n",
       "      <td>Elinor</td>\n",
       "      <td>Ostrom</td>\n",
       "      <td>8/7/1933</td>\n",
       "      <td>6/12/2012</td>\n",
       "      <td>USA</td>\n",
       "      <td>US</td>\n",
       "      <td>Los Angeles, CA</td>\n",
       "      <td>USA</td>\n",
       "      <td>US</td>\n",
       "      <td>Bloomington, IN</td>\n",
       "      <td>female</td>\n",
       "      <td>2009.0</td>\n",
       "      <td>economics</td>\n",
       "      <td>NaN</td>\n",
       "      <td>2.0</td>\n",
       "      <td>\"for her analysis of economic governance, espe...</td>\n",
       "      <td>Arizona State University</td>\n",
       "      <td>Tempe, AZ</td>\n",
       "      <td>USA</td>\n",
       "    </tr>\n",
       "    <tr>\n",
       "      <th>2</th>\n",
       "      <td>783</td>\n",
       "      <td>Wangari Muta</td>\n",
       "      <td>Maathai</td>\n",
       "      <td>4/1/1940</td>\n",
       "      <td>9/25/2011</td>\n",
       "      <td>Kenya</td>\n",
       "      <td>KE</td>\n",
       "      <td>Nyeri</td>\n",
       "      <td>Kenya</td>\n",
       "      <td>KE</td>\n",
       "      <td>Nairobi</td>\n",
       "      <td>female</td>\n",
       "      <td>2004.0</td>\n",
       "      <td>peace</td>\n",
       "      <td>NaN</td>\n",
       "      <td>1.0</td>\n",
       "      <td>\"for her contribution to sustainable developme...</td>\n",
       "      <td>NaN</td>\n",
       "      <td>NaN</td>\n",
       "      <td>NaN</td>\n",
       "    </tr>\n",
       "    <tr>\n",
       "      <th>3</th>\n",
       "      <td>230</td>\n",
       "      <td>Dorothy Crowfoot</td>\n",
       "      <td>Hodgkin</td>\n",
       "      <td>5/12/1910</td>\n",
       "      <td>7/29/1994</td>\n",
       "      <td>Egypt</td>\n",
       "      <td>EG</td>\n",
       "      <td>Cairo</td>\n",
       "      <td>United Kingdom</td>\n",
       "      <td>GB</td>\n",
       "      <td>Shipston-on-Stour</td>\n",
       "      <td>female</td>\n",
       "      <td>1964.0</td>\n",
       "      <td>chemistry</td>\n",
       "      <td>NaN</td>\n",
       "      <td>1.0</td>\n",
       "      <td>\"for her determinations by X-ray techniques of...</td>\n",
       "      <td>University of Oxford, Royal Society</td>\n",
       "      <td>Oxford</td>\n",
       "      <td>United Kingdom</td>\n",
       "    </tr>\n",
       "    <tr>\n",
       "      <th>4</th>\n",
       "      <td>918</td>\n",
       "      <td>Youyou</td>\n",
       "      <td>Tu</td>\n",
       "      <td>12/30/1930</td>\n",
       "      <td>0000-00-00</td>\n",
       "      <td>China</td>\n",
       "      <td>CN</td>\n",
       "      <td>Zhejiang Ningbo</td>\n",
       "      <td>NaN</td>\n",
       "      <td>NaN</td>\n",
       "      <td>NaN</td>\n",
       "      <td>female</td>\n",
       "      <td>2015.0</td>\n",
       "      <td>medicine</td>\n",
       "      <td>NaN</td>\n",
       "      <td>2.0</td>\n",
       "      <td>\"for her discoveries concerning a novel therap...</td>\n",
       "      <td>China Academy of Traditional Chinese Medicine</td>\n",
       "      <td>Beijing</td>\n",
       "      <td>China</td>\n",
       "    </tr>\n",
       "  </tbody>\n",
       "</table>\n",
       "</div>"
      ],
      "text/plain": [
       "    id         firstname  surname        born        died bornCountry  \\\n",
       "0  846            Elinor   Ostrom    8/7/1933   6/12/2012         USA   \n",
       "1  846            Elinor   Ostrom    8/7/1933   6/12/2012         USA   \n",
       "2  783      Wangari Muta  Maathai    4/1/1940   9/25/2011       Kenya   \n",
       "3  230  Dorothy Crowfoot  Hodgkin   5/12/1910   7/29/1994       Egypt   \n",
       "4  918            Youyou       Tu  12/30/1930  0000-00-00       China   \n",
       "\n",
       "  bornCountryCode         bornCity     diedCountry diedCountryCode  \\\n",
       "0              US  Los Angeles, CA             USA              US   \n",
       "1              US  Los Angeles, CA             USA              US   \n",
       "2              KE            Nyeri           Kenya              KE   \n",
       "3              EG            Cairo  United Kingdom              GB   \n",
       "4              CN  Zhejiang Ningbo             NaN             NaN   \n",
       "\n",
       "            diedCity  gender    year   category overallMotivation  share  \\\n",
       "0    Bloomington, IN  female  2009.0  economics               NaN    2.0   \n",
       "1    Bloomington, IN  female  2009.0  economics               NaN    2.0   \n",
       "2            Nairobi  female  2004.0      peace               NaN    1.0   \n",
       "3  Shipston-on-Stour  female  1964.0  chemistry               NaN    1.0   \n",
       "4                NaN  female  2015.0   medicine               NaN    2.0   \n",
       "\n",
       "                                          motivation  \\\n",
       "0  \"for her analysis of economic governance, espe...   \n",
       "1  \"for her analysis of economic governance, espe...   \n",
       "2  \"for her contribution to sustainable developme...   \n",
       "3  \"for her determinations by X-ray techniques of...   \n",
       "4  \"for her discoveries concerning a novel therap...   \n",
       "\n",
       "                                            name             city  \\\n",
       "0                             Indiana University  Bloomington, IN   \n",
       "1                       Arizona State University        Tempe, AZ   \n",
       "2                                            NaN              NaN   \n",
       "3            University of Oxford, Royal Society           Oxford   \n",
       "4  China Academy of Traditional Chinese Medicine          Beijing   \n",
       "\n",
       "          country  \n",
       "0             USA  \n",
       "1             USA  \n",
       "2             NaN  \n",
       "3  United Kingdom  \n",
       "4           China  "
      ]
     },
     "execution_count": 33,
     "metadata": {},
     "output_type": "execute_result"
    }
   ],
   "source": [
    "da.head()"
   ]
  },
  {
   "cell_type": "markdown",
   "metadata": {},
   "source": [
    "Utilizaremos las siguientes columnas\n",
    "\n",
    "| firstname | surname  | born  |  died  |  bornCountry | bornCountryCode | bornCity  | diedCountry  |  diedCountryCode  |  diedCity | gender | year | category | city | country |\n",
    "|---|---|---|---|---|---|---|---|---|---|---|---|---|---|---|\n"
   ]
  },
  {
   "cell_type": "code",
   "execution_count": 135,
   "metadata": {},
   "outputs": [],
   "source": [
    "da = da[[\"firstname\",\"surname\",\"born\",\n",
    "                   \"died\",\"bornCountry\",\"bornCountryCode\",\n",
    "                   \"bornCity\",\"diedCountry\",\"diedCountryCode\",\"diedCity\",\"gender\",\"year\",\"category\",\n",
    "                   \"city\",\"country\"]]\n"
   ]
  },
  {
   "cell_type": "markdown",
   "metadata": {},
   "source": [
    "Eliminamos los nulos para analizar los premios nobel otorgados a personas y no a instituciones"
   ]
  },
  {
   "cell_type": "code",
   "execution_count": 136,
   "metadata": {},
   "outputs": [
    {
     "data": {
      "text/html": [
       "<div>\n",
       "<style scoped>\n",
       "    .dataframe tbody tr th:only-of-type {\n",
       "        vertical-align: middle;\n",
       "    }\n",
       "\n",
       "    .dataframe tbody tr th {\n",
       "        vertical-align: top;\n",
       "    }\n",
       "\n",
       "    .dataframe thead th {\n",
       "        text-align: right;\n",
       "    }\n",
       "</style>\n",
       "<table border=\"1\" class=\"dataframe\">\n",
       "  <thead>\n",
       "    <tr style=\"text-align: right;\">\n",
       "      <th></th>\n",
       "      <th>firstname</th>\n",
       "      <th>surname</th>\n",
       "      <th>born</th>\n",
       "      <th>died</th>\n",
       "      <th>bornCountry</th>\n",
       "      <th>bornCountryCode</th>\n",
       "      <th>bornCity</th>\n",
       "      <th>diedCountry</th>\n",
       "      <th>diedCountryCode</th>\n",
       "      <th>diedCity</th>\n",
       "      <th>gender</th>\n",
       "      <th>year</th>\n",
       "      <th>category</th>\n",
       "      <th>city</th>\n",
       "      <th>country</th>\n",
       "    </tr>\n",
       "  </thead>\n",
       "  <tbody>\n",
       "    <tr>\n",
       "      <th>0</th>\n",
       "      <td>Elinor</td>\n",
       "      <td>Ostrom</td>\n",
       "      <td>8/7/1933</td>\n",
       "      <td>6/12/2012</td>\n",
       "      <td>USA</td>\n",
       "      <td>US</td>\n",
       "      <td>Los Angeles, CA</td>\n",
       "      <td>USA</td>\n",
       "      <td>US</td>\n",
       "      <td>Bloomington, IN</td>\n",
       "      <td>female</td>\n",
       "      <td>2009.0</td>\n",
       "      <td>economics</td>\n",
       "      <td>Bloomington, IN</td>\n",
       "      <td>USA</td>\n",
       "    </tr>\n",
       "    <tr>\n",
       "      <th>1</th>\n",
       "      <td>Elinor</td>\n",
       "      <td>Ostrom</td>\n",
       "      <td>8/7/1933</td>\n",
       "      <td>6/12/2012</td>\n",
       "      <td>USA</td>\n",
       "      <td>US</td>\n",
       "      <td>Los Angeles, CA</td>\n",
       "      <td>USA</td>\n",
       "      <td>US</td>\n",
       "      <td>Bloomington, IN</td>\n",
       "      <td>female</td>\n",
       "      <td>2009.0</td>\n",
       "      <td>economics</td>\n",
       "      <td>Tempe, AZ</td>\n",
       "      <td>USA</td>\n",
       "    </tr>\n",
       "    <tr>\n",
       "      <th>3</th>\n",
       "      <td>Dorothy Crowfoot</td>\n",
       "      <td>Hodgkin</td>\n",
       "      <td>5/12/1910</td>\n",
       "      <td>7/29/1994</td>\n",
       "      <td>Egypt</td>\n",
       "      <td>EG</td>\n",
       "      <td>Cairo</td>\n",
       "      <td>United Kingdom</td>\n",
       "      <td>GB</td>\n",
       "      <td>Shipston-on-Stour</td>\n",
       "      <td>female</td>\n",
       "      <td>1964.0</td>\n",
       "      <td>chemistry</td>\n",
       "      <td>Oxford</td>\n",
       "      <td>United Kingdom</td>\n",
       "    </tr>\n",
       "    <tr>\n",
       "      <th>5</th>\n",
       "      <td>Barbara</td>\n",
       "      <td>McClintock</td>\n",
       "      <td>6/16/1902</td>\n",
       "      <td>9/2/1992</td>\n",
       "      <td>USA</td>\n",
       "      <td>US</td>\n",
       "      <td>Hartford, CT</td>\n",
       "      <td>USA</td>\n",
       "      <td>US</td>\n",
       "      <td>Huntington, NY</td>\n",
       "      <td>female</td>\n",
       "      <td>1983.0</td>\n",
       "      <td>medicine</td>\n",
       "      <td>Cold Spring Harbor, NY</td>\n",
       "      <td>USA</td>\n",
       "    </tr>\n",
       "    <tr>\n",
       "      <th>16</th>\n",
       "      <td>Rosalyn</td>\n",
       "      <td>Yalow</td>\n",
       "      <td>7/19/1921</td>\n",
       "      <td>5/30/2011</td>\n",
       "      <td>USA</td>\n",
       "      <td>US</td>\n",
       "      <td>New York, NY</td>\n",
       "      <td>USA</td>\n",
       "      <td>US</td>\n",
       "      <td>New York, NY</td>\n",
       "      <td>female</td>\n",
       "      <td>1977.0</td>\n",
       "      <td>medicine</td>\n",
       "      <td>Bronx, NY</td>\n",
       "      <td>USA</td>\n",
       "    </tr>\n",
       "  </tbody>\n",
       "</table>\n",
       "</div>"
      ],
      "text/plain": [
       "           firstname     surname       born       died bornCountry  \\\n",
       "0             Elinor      Ostrom   8/7/1933  6/12/2012         USA   \n",
       "1             Elinor      Ostrom   8/7/1933  6/12/2012         USA   \n",
       "3   Dorothy Crowfoot     Hodgkin  5/12/1910  7/29/1994       Egypt   \n",
       "5            Barbara  McClintock  6/16/1902   9/2/1992         USA   \n",
       "16           Rosalyn       Yalow  7/19/1921  5/30/2011         USA   \n",
       "\n",
       "   bornCountryCode         bornCity     diedCountry diedCountryCode  \\\n",
       "0               US  Los Angeles, CA             USA              US   \n",
       "1               US  Los Angeles, CA             USA              US   \n",
       "3               EG            Cairo  United Kingdom              GB   \n",
       "5               US     Hartford, CT             USA              US   \n",
       "16              US     New York, NY             USA              US   \n",
       "\n",
       "             diedCity  gender    year   category                    city  \\\n",
       "0     Bloomington, IN  female  2009.0  economics         Bloomington, IN   \n",
       "1     Bloomington, IN  female  2009.0  economics               Tempe, AZ   \n",
       "3   Shipston-on-Stour  female  1964.0  chemistry                  Oxford   \n",
       "5      Huntington, NY  female  1983.0   medicine  Cold Spring Harbor, NY   \n",
       "16       New York, NY  female  1977.0   medicine               Bronx, NY   \n",
       "\n",
       "           country  \n",
       "0              USA  \n",
       "1              USA  \n",
       "3   United Kingdom  \n",
       "5              USA  \n",
       "16             USA  "
      ]
     },
     "execution_count": 136,
     "metadata": {},
     "output_type": "execute_result"
    }
   ],
   "source": [
    "da = da.dropna()\n",
    "da.head()"
   ]
  },
  {
   "cell_type": "markdown",
   "metadata": {},
   "source": [
    "Con la funcion `to_datetime` de pandas convertimos `da['born']`  y  `da['died']` al formato de fecha para posteriormente obtener `year` con la funcion `dt`\n",
    "\n",
    " | birthYear | diedYear| \n",
    " |---|---|\n",
    " | Extraido de born  |  Extraido de died | "
   ]
  },
  {
   "cell_type": "code",
   "execution_count": 137,
   "metadata": {},
   "outputs": [],
   "source": [
    "da['birthYear'] =  pd.to_datetime(da['born']).dt.year\n",
    "da['diedYear'] =  pd.to_datetime(da['died'],errors='coerce').dt.year"
   ]
  },
  {
   "cell_type": "markdown",
   "metadata": {},
   "source": [
    "\n",
    "\n",
    " | yearsToPrize | longevidad | \n",
    " |---|---|\n",
    " | year - birthYear  |  diedYear - birthYear | "
   ]
  },
  {
   "cell_type": "code",
   "execution_count": 138,
   "metadata": {},
   "outputs": [],
   "source": [
    "da[\"yearsToPrize\"]=da[\"year\"]-da[\"birthYear\"]\n",
    "da[\"longevidad\"]=da[\"diedYear\"]-da[\"birthYear\"]"
   ]
  },
  {
   "cell_type": "markdown",
   "metadata": {},
   "source": [
    "Limpiaremos la data ya que tenemos fechas de defuncion posteriores al `2020` "
   ]
  },
  {
   "cell_type": "code",
   "execution_count": 139,
   "metadata": {},
   "outputs": [],
   "source": [
    "da.drop(da[ da['diedYear'] > 2020 ].index , inplace=True)"
   ]
  },
  {
   "cell_type": "markdown",
   "metadata": {},
   "source": [
    "Describimos el parámetro de años que le toma a una persona alcanzar un premio nobel con una media de 57.3 y una mediana de 56, la persona que alcanzo un premio nobel mas joven fue a los 25 anios y la que alcanzo el premio nobel mas entredo en anios fue de 90 anios, este análisis excluye a las personas a las que se le otorgo un premio nobel post mortem"
   ]
  },
  {
   "cell_type": "code",
   "execution_count": 140,
   "metadata": {},
   "outputs": [
    {
     "data": {
      "text/plain": [
       "count    422.0\n",
       "mean      57.3\n",
       "std       12.6\n",
       "min       25.0\n",
       "25%       48.0\n",
       "50%       56.0\n",
       "75%       66.0\n",
       "max       90.0\n",
       "Name: yearsToPrize, dtype: float64"
      ]
     },
     "execution_count": 140,
     "metadata": {},
     "output_type": "execute_result"
    }
   ],
   "source": [
    "da.yearsToPrize.dropna().describe().round(1)"
   ]
  },
  {
   "cell_type": "markdown",
   "metadata": {},
   "source": [
    "<div style=\"text-align: center\"> <h4> Cantidad de años para alcanzar un premio nobel </h4> </div>\n",
    "\n",
    "La distribución de los años que le toma a una persona alcanzar un premio nobel es aproximadamente en forma de campana con un centro de 56 anios, con un rango de 65 anios (25-90), sin valores atípicos aparentes.\n"
   ]
  },
  {
   "cell_type": "code",
   "execution_count": 141,
   "metadata": {},
   "outputs": [
    {
     "data": {
      "text/plain": [
       "<matplotlib.axes._subplots.AxesSubplot at 0x123109700>"
      ]
     },
     "execution_count": 141,
     "metadata": {},
     "output_type": "execute_result"
    },
    {
     "data": {
      "image/png": "[encoded data removed]",
      "text/plain": [
       "<Figure size 432x288 with 1 Axes>"
      ]
     },
     "metadata": {
      "needs_background": "light"
     },
     "output_type": "display_data"
    }
   ],
   "source": [
    "sns.distplot(da.yearsToPrize.dropna())"
   ]
  },
  {
   "cell_type": "markdown",
   "metadata": {},
   "source": [
    "Describimos la longevidad de las personas que alcanzaron un premio nobel teniendo como media 84.1 y como mediana 83 anios, teniendo un maximo de 182 anios el que vivio mas y 47 el que vivio menos  "
   ]
  },
  {
   "cell_type": "code",
   "execution_count": 142,
   "metadata": {},
   "outputs": [
    {
     "data": {
      "text/plain": [
       "count    421.0\n",
       "mean      84.1\n",
       "std       18.3\n",
       "min       47.0\n",
       "25%       75.0\n",
       "50%       83.0\n",
       "75%       89.0\n",
       "max      182.0\n",
       "Name: longevidad, dtype: float64"
      ]
     },
     "execution_count": 142,
     "metadata": {},
     "output_type": "execute_result"
    }
   ],
   "source": [
    "da.longevidad.dropna().describe().round(1)"
   ]
  },
  {
   "cell_type": "markdown",
   "metadata": {},
   "source": [
    "<div style=\"text-align: center\"> <h4> Longevidad </h4> </div>\n",
    "\n",
    "La distribución de longevidad tiene una forma sesgada por los valores atípicos, con un centro en 83, y un rango de (47-182)"
   ]
  },
  {
   "cell_type": "code",
   "execution_count": 143,
   "metadata": {},
   "outputs": [
    {
     "data": {
      "text/plain": [
       "<matplotlib.axes._subplots.AxesSubplot at 0x120986520>"
      ]
     },
     "execution_count": 143,
     "metadata": {},
     "output_type": "execute_result"
    },
    {
     "data": {
      "image/png": "[encoded data removed]",
      "text/plain": [
       "<Figure size 432x288 with 1 Axes>"
      ]
     },
     "metadata": {
      "needs_background": "light"
     },
     "output_type": "display_data"
    }
   ],
   "source": [
    "sns.distplot(da.longevidad.dropna())"
   ]
  },
  {
   "cell_type": "markdown",
   "metadata": {},
   "source": [
    "En el boxplot categoria y anios para alcanzar un premio nobel vemos que el valor central para la mayoria de categorias esta entre 50 y 60 a excepción de `economics` y `peace`"
   ]
  },
  {
   "cell_type": "code",
   "execution_count": 144,
   "metadata": {},
   "outputs": [
    {
     "data": {
      "text/plain": [
       "<matplotlib.axes._subplots.AxesSubplot at 0x120af80a0>"
      ]
     },
     "execution_count": 144,
     "metadata": {},
     "output_type": "execute_result"
    },
    {
     "data": {
      "image/png": "[encoded data removed]",
      "text/plain": [
       "<Figure size 864x360 with 1 Axes>"
      ]
     },
     "metadata": {
      "needs_background": "light"
     },
     "output_type": "display_data"
    }
   ],
   "source": [
    "plt.figure(figsize=(12, 5))  \n",
    "sns.boxplot(x=\"category\", y=\"yearsToPrize\" , data=da) "
   ]
  },
  {
   "cell_type": "markdown",
   "metadata": {},
   "source": [
    "También podemos ver que al agregarle la variable género se siguen presentando los valores centrales entre 50 y 60 para los hombres y no así para las mujeres."
   ]
  },
  {
   "cell_type": "code",
   "execution_count": 145,
   "metadata": {},
   "outputs": [
    {
     "data": {
      "text/plain": [
       "<matplotlib.axes._subplots.AxesSubplot at 0x120c02c10>"
      ]
     },
     "execution_count": 145,
     "metadata": {},
     "output_type": "execute_result"
    },
    {
     "data": {
      "image/png": "[encoded data removed]",
      "text/plain": [
       "<Figure size 864x360 with 1 Axes>"
      ]
     },
     "metadata": {
      "needs_background": "light"
     },
     "output_type": "display_data"
    }
   ],
   "source": [
    "plt.figure(figsize=(12, 5))  \n",
    "sns.boxplot(x=\"category\", y=\"yearsToPrize\" , hue=\"gender\", data=da)  "
   ]
  },
  {
   "cell_type": "markdown",
   "metadata": {},
   "source": [
    "QQ-plot para ver si la data sigue una distribución normal y como podemos observar se apega bastante a una distribución normal como también lo apreciamos en la gráfica del histograma"
   ]
  },
  {
   "cell_type": "code",
   "execution_count": 146,
   "metadata": {},
   "outputs": [
    {
     "data": {
      "image/png": "[encoded data removed]",
      "text/plain": [
       "<Figure size 432x288 with 1 Axes>"
      ]
     },
     "metadata": {
      "needs_background": "light"
     },
     "output_type": "display_data"
    }
   ],
   "source": [
    "stats.probplot(da.yearsToPrize.dropna(), dist=\"norm\", plot=plt)\n",
    "plt.title(\"Normal Q-Q plot\")\n",
    "plt.show()"
   ]
  },
  {
   "cell_type": "markdown",
   "metadata": {},
   "source": [
    "Correlación entre la Longevidad y cantidad años que le tomo obtener el premio novel desde su nacimiento, eliminando los valores de longevidad mayores a 100, ya que asumiremos que son datos erroneos debido a que el promedio de vida históricamente en los últimos 200 anios no es tan grande."
   ]
  },
  {
   "cell_type": "code",
   "execution_count": 147,
   "metadata": {},
   "outputs": [
    {
     "data": {
      "image/png": "[encoded data removed]",
      "text/plain": [
       "<Figure size 720x720 with 3 Axes>"
      ]
     },
     "metadata": {
      "needs_background": "light"
     },
     "output_type": "display_data"
    }
   ],
   "source": [
    "da = da[da['longevidad']< 100]\n",
    "# Plot the data\n",
    "plt.figure(figsize=(10,10))\n",
    "plt.subplot(2,2,2)\n",
    "plt.scatter(x = da['longevidad'], y = da['yearsToPrize'])\n",
    "plt.title(\"Joint Distribution of Longevidad y yearsToPrize\")\n",
    "\n",
    "# Plot the Marginal X Distribution\n",
    "plt.subplot(2,2,4)\n",
    "plt.hist(x = da['longevidad'], bins = 15)\n",
    "plt.title(\"Marginal Distribution of longevidad\")\n",
    "\n",
    "\n",
    "# Plot the Marginal Y Distribution\n",
    "plt.subplot(2,2,1)\n",
    "plt.hist(x = da['yearsToPrize'], orientation = \"horizontal\", bins = 15)\n",
    "plt.title(\"Marginal Distribution of yearsToPrize\")\n",
    "\n",
    "# Show the plots\n",
    "plt.show()\n"
   ]
  },
  {
   "cell_type": "markdown",
   "metadata": {},
   "source": [
    "Tenemos un coeficiente de correlación de 0.35 entre la longevidad y los anios para alcanzar un premio nobel, por lo que podemos decir que la correlación entre ambas variables es positiva débil."
   ]
  },
  {
   "cell_type": "code",
   "execution_count": 158,
   "metadata": {},
   "outputs": [
    {
     "data": {
      "text/html": [
       "<div>\n",
       "<style scoped>\n",
       "    .dataframe tbody tr th:only-of-type {\n",
       "        vertical-align: middle;\n",
       "    }\n",
       "\n",
       "    .dataframe tbody tr th {\n",
       "        vertical-align: top;\n",
       "    }\n",
       "\n",
       "    .dataframe thead th {\n",
       "        text-align: right;\n",
       "    }\n",
       "</style>\n",
       "<table border=\"1\" class=\"dataframe\">\n",
       "  <thead>\n",
       "    <tr style=\"text-align: right;\">\n",
       "      <th></th>\n",
       "      <th>longevidad</th>\n",
       "      <th>yearsToPrize</th>\n",
       "    </tr>\n",
       "  </thead>\n",
       "  <tbody>\n",
       "    <tr>\n",
       "      <th>longevidad</th>\n",
       "      <td>1.000000</td>\n",
       "      <td>0.345389</td>\n",
       "    </tr>\n",
       "    <tr>\n",
       "      <th>yearsToPrize</th>\n",
       "      <td>0.345389</td>\n",
       "      <td>1.000000</td>\n",
       "    </tr>\n",
       "  </tbody>\n",
       "</table>\n",
       "</div>"
      ],
      "text/plain": [
       "              longevidad  yearsToPrize\n",
       "longevidad      1.000000      0.345389\n",
       "yearsToPrize    0.345389      1.000000"
      ]
     },
     "execution_count": 158,
     "metadata": {},
     "output_type": "execute_result"
    }
   ],
   "source": [
    "da[['longevidad','yearsToPrize']].corr()\n"
   ]
  },
  {
   "cell_type": "markdown",
   "metadata": {},
   "source": [
    "## Parte 3: Análisis de daatos exploratorio"
   ]
  },
  {
   "cell_type": "markdown",
   "metadata": {},
   "source": [
    "## Variables para el Modelado:\n",
    "\n",
    "1. Variable dependiente\n",
    "    1. `Longevidad`\n",
    "2. Variables independientes\n",
    "    1. `yearsToPrize` (Anios que le toman conseguir un premio Nobel)\n",
    "    \n",
    "    \n",
    "`Razonamiento exclusión de variables`\n",
    "\n",
    "Nuestra pregunta de investigación esta enfocada en saber si existe alguna implicación entre la longevidad de una persona y los anios que le toman obtener un premio Nobel, por lo cual las otras variables no se tomaran en cuenta.\n",
    "\n",
    "\n",
    "`Razonamiento inclusión de variables`\n",
    "\n",
    "Igualmente que en la exclusión de variables nuestra pregunta de investigación se enfoca en la longevidad y yearsToPrize por lo que son las únicas dos variables necesarias para el modelo.\n"
   ]
  },
  {
   "cell_type": "markdown",
   "metadata": {},
   "source": [
    "## Gráficas:\n"
   ]
  },
  {
   "cell_type": "code",
   "execution_count": 150,
   "metadata": {},
   "outputs": [
    {
     "data": {
      "text/html": [
       "<table class=\"simpletable\">\n",
       "<caption>OLS Regression Results</caption>\n",
       "<tr>\n",
       "  <th>Dep. Variable:</th>       <td>longevidad</td>    <th>  R-squared:         </th> <td>   0.119</td>\n",
       "</tr>\n",
       "<tr>\n",
       "  <th>Model:</th>                   <td>OLS</td>       <th>  Adj. R-squared:    </th> <td>   0.117</td>\n",
       "</tr>\n",
       "<tr>\n",
       "  <th>Method:</th>             <td>Least Squares</td>  <th>  F-statistic:       </th> <td>   54.32</td>\n",
       "</tr>\n",
       "<tr>\n",
       "  <th>Date:</th>             <td>Sun, 17 May 2020</td> <th>  Prob (F-statistic):</th> <td>9.84e-13</td>\n",
       "</tr>\n",
       "<tr>\n",
       "  <th>Time:</th>                 <td>19:28:07</td>     <th>  Log-Likelihood:    </th> <td> -1470.9</td>\n",
       "</tr>\n",
       "<tr>\n",
       "  <th>No. Observations:</th>      <td>   403</td>      <th>  AIC:               </th> <td>   2946.</td>\n",
       "</tr>\n",
       "<tr>\n",
       "  <th>Df Residuals:</th>          <td>   401</td>      <th>  BIC:               </th> <td>   2954.</td>\n",
       "</tr>\n",
       "<tr>\n",
       "  <th>Df Model:</th>              <td>     1</td>      <th>                     </th>     <td> </td>   \n",
       "</tr>\n",
       "<tr>\n",
       "  <th>Covariance Type:</th>      <td>nonrobust</td>    <th>                     </th>     <td> </td>   \n",
       "</tr>\n",
       "</table>\n",
       "<table class=\"simpletable\">\n",
       "<tr>\n",
       "        <td></td>          <th>coef</th>     <th>std err</th>      <th>t</th>      <th>P>|t|</th>  <th>[0.025</th>    <th>0.975]</th>  \n",
       "</tr>\n",
       "<tr>\n",
       "  <th>Intercept</th>    <td>   65.4906</td> <td>    2.158</td> <td>   30.351</td> <td> 0.000</td> <td>   61.249</td> <td>   69.733</td>\n",
       "</tr>\n",
       "<tr>\n",
       "  <th>yearsToPrize</th> <td>    0.2710</td> <td>    0.037</td> <td>    7.370</td> <td> 0.000</td> <td>    0.199</td> <td>    0.343</td>\n",
       "</tr>\n",
       "</table>\n",
       "<table class=\"simpletable\">\n",
       "<tr>\n",
       "  <th>Omnibus:</th>       <td> 7.616</td> <th>  Durbin-Watson:     </th> <td>   1.768</td>\n",
       "</tr>\n",
       "<tr>\n",
       "  <th>Prob(Omnibus):</th> <td> 0.022</td> <th>  Jarque-Bera (JB):  </th> <td>   7.139</td>\n",
       "</tr>\n",
       "<tr>\n",
       "  <th>Skew:</th>          <td>-0.276</td> <th>  Prob(JB):          </th> <td>  0.0282</td>\n",
       "</tr>\n",
       "<tr>\n",
       "  <th>Kurtosis:</th>      <td> 2.652</td> <th>  Cond. No.          </th> <td>    272.</td>\n",
       "</tr>\n",
       "</table><br/><br/>Warnings:<br/>[1] Standard Errors assume that the covariance matrix of the errors is correctly specified."
      ],
      "text/plain": [
       "<class 'statsmodels.iolib.summary.Summary'>\n",
       "\"\"\"\n",
       "                            OLS Regression Results                            \n",
       "==============================================================================\n",
       "Dep. Variable:             longevidad   R-squared:                       0.119\n",
       "Model:                            OLS   Adj. R-squared:                  0.117\n",
       "Method:                 Least Squares   F-statistic:                     54.32\n",
       "Date:                Sun, 17 May 2020   Prob (F-statistic):           9.84e-13\n",
       "Time:                        19:28:07   Log-Likelihood:                -1470.9\n",
       "No. Observations:                 403   AIC:                             2946.\n",
       "Df Residuals:                     401   BIC:                             2954.\n",
       "Df Model:                           1                                         \n",
       "Covariance Type:            nonrobust                                         \n",
       "================================================================================\n",
       "                   coef    std err          t      P>|t|      [0.025      0.975]\n",
       "--------------------------------------------------------------------------------\n",
       "Intercept       65.4906      2.158     30.351      0.000      61.249      69.733\n",
       "yearsToPrize     0.2710      0.037      7.370      0.000       0.199       0.343\n",
       "==============================================================================\n",
       "Omnibus:                        7.616   Durbin-Watson:                   1.768\n",
       "Prob(Omnibus):                  0.022   Jarque-Bera (JB):                7.139\n",
       "Skew:                          -0.276   Prob(JB):                       0.0282\n",
       "Kurtosis:                       2.652   Cond. No.                         272.\n",
       "==============================================================================\n",
       "\n",
       "Warnings:\n",
       "[1] Standard Errors assume that the covariance matrix of the errors is correctly specified.\n",
       "\"\"\""
      ]
     },
     "execution_count": 150,
     "metadata": {},
     "output_type": "execute_result"
    }
   ],
   "source": [
    "model = sm.OLS.from_formula(\"longevidad ~ yearsToPrize\", data=da)\n",
    "result = model.fit()\n",
    "result.summary()"
   ]
  },
  {
   "cell_type": "markdown",
   "metadata": {},
   "source": [
    "En esta grafica se demuestra la relacion entre la longegevidad y yearsToPrize para mujeres"
   ]
  },
  {
   "cell_type": "code",
   "execution_count": 159,
   "metadata": {},
   "outputs": [
    {
     "name": "stderr",
     "output_type": "stream",
     "text": [
      "/Users/jlsanchez/opt/anaconda3/envs/uvg/lib/python3.8/site-packages/statsmodels/sandbox/predict_functional.py:169: ValueWarning: 'bornCity', 'bornCountryCode', 'diedCountry', 'city', 'born', 'surname', 'year', 'category', 'firstname', 'diedCity', 'birthYear', 'diedCountryCode', 'country', 'bornCountry', 'diedYear', 'died' in data frame but not in summaries or values.\n",
      "  warnings.warn(\"%s in data frame but not in summaries or values.\"\n"
     ]
    },
    {
     "data": {
      "image/png": "[encoded data removed]",
      "text/plain": [
       "<Figure size 432x288 with 1 Axes>"
      ]
     },
     "metadata": {
      "needs_background": "light"
     },
     "output_type": "display_data"
    }
   ],
   "source": [
    "from statsmodels.sandbox.predict_functional import predict_functional\n",
    "\n",
    "# Fix certain variables at reference values.  Not all of these\n",
    "# variables are used here, but we provide them with a value anyway\n",
    "# to prevent a warning message from appearing.\n",
    "values = {\"gender\": \"famale\"}\n",
    "\n",
    "# The returned values are the predicted values (pr), the confidence bands (cb),\n",
    "# and the function values (fv).\n",
    "pr, cb, fv = predict_functional(result, \"yearsToPrize\",\n",
    "                values=values, ci_method=\"simultaneous\")\n",
    "\n",
    "ax = sns.lineplot(fv, pr, lw=4)\n",
    "ax.fill_between(fv, cb[:, 0], cb[:, 1], color='grey', alpha=0.4)\n",
    "ax.set_xlabel(\"yearsToPrize\")\n",
    "_ = ax.set_ylabel(\"longevidad\")"
   ]
  },
  {
   "cell_type": "markdown",
   "metadata": {},
   "source": [
    "## Interpretación de coeficientes:\n"
   ]
  },
  {
   "cell_type": "code",
   "execution_count": 160,
   "metadata": {},
   "outputs": [
    {
     "data": {
      "text/html": [
       "<table class=\"simpletable\">\n",
       "<caption>OLS Regression Results</caption>\n",
       "<tr>\n",
       "  <th>Dep. Variable:</th>       <td>longevidad</td>    <th>  R-squared:         </th> <td>   0.119</td>\n",
       "</tr>\n",
       "<tr>\n",
       "  <th>Model:</th>                   <td>OLS</td>       <th>  Adj. R-squared:    </th> <td>   0.117</td>\n",
       "</tr>\n",
       "<tr>\n",
       "  <th>Method:</th>             <td>Least Squares</td>  <th>  F-statistic:       </th> <td>   54.32</td>\n",
       "</tr>\n",
       "<tr>\n",
       "  <th>Date:</th>             <td>Sun, 17 May 2020</td> <th>  Prob (F-statistic):</th> <td>9.84e-13</td>\n",
       "</tr>\n",
       "<tr>\n",
       "  <th>Time:</th>                 <td>19:41:38</td>     <th>  Log-Likelihood:    </th> <td> -1470.9</td>\n",
       "</tr>\n",
       "<tr>\n",
       "  <th>No. Observations:</th>      <td>   403</td>      <th>  AIC:               </th> <td>   2946.</td>\n",
       "</tr>\n",
       "<tr>\n",
       "  <th>Df Residuals:</th>          <td>   401</td>      <th>  BIC:               </th> <td>   2954.</td>\n",
       "</tr>\n",
       "<tr>\n",
       "  <th>Df Model:</th>              <td>     1</td>      <th>                     </th>     <td> </td>   \n",
       "</tr>\n",
       "<tr>\n",
       "  <th>Covariance Type:</th>      <td>nonrobust</td>    <th>                     </th>     <td> </td>   \n",
       "</tr>\n",
       "</table>\n",
       "<table class=\"simpletable\">\n",
       "<tr>\n",
       "        <td></td>          <th>coef</th>     <th>std err</th>      <th>t</th>      <th>P>|t|</th>  <th>[0.025</th>    <th>0.975]</th>  \n",
       "</tr>\n",
       "<tr>\n",
       "  <th>Intercept</th>    <td>   65.4906</td> <td>    2.158</td> <td>   30.351</td> <td> 0.000</td> <td>   61.249</td> <td>   69.733</td>\n",
       "</tr>\n",
       "<tr>\n",
       "  <th>yearsToPrize</th> <td>    0.2710</td> <td>    0.037</td> <td>    7.370</td> <td> 0.000</td> <td>    0.199</td> <td>    0.343</td>\n",
       "</tr>\n",
       "</table>\n",
       "<table class=\"simpletable\">\n",
       "<tr>\n",
       "  <th>Omnibus:</th>       <td> 7.616</td> <th>  Durbin-Watson:     </th> <td>   1.768</td>\n",
       "</tr>\n",
       "<tr>\n",
       "  <th>Prob(Omnibus):</th> <td> 0.022</td> <th>  Jarque-Bera (JB):  </th> <td>   7.139</td>\n",
       "</tr>\n",
       "<tr>\n",
       "  <th>Skew:</th>          <td>-0.276</td> <th>  Prob(JB):          </th> <td>  0.0282</td>\n",
       "</tr>\n",
       "<tr>\n",
       "  <th>Kurtosis:</th>      <td> 2.652</td> <th>  Cond. No.          </th> <td>    272.</td>\n",
       "</tr>\n",
       "</table><br/><br/>Warnings:<br/>[1] Standard Errors assume that the covariance matrix of the errors is correctly specified."
      ],
      "text/plain": [
       "<class 'statsmodels.iolib.summary.Summary'>\n",
       "\"\"\"\n",
       "                            OLS Regression Results                            \n",
       "==============================================================================\n",
       "Dep. Variable:             longevidad   R-squared:                       0.119\n",
       "Model:                            OLS   Adj. R-squared:                  0.117\n",
       "Method:                 Least Squares   F-statistic:                     54.32\n",
       "Date:                Sun, 17 May 2020   Prob (F-statistic):           9.84e-13\n",
       "Time:                        19:41:38   Log-Likelihood:                -1470.9\n",
       "No. Observations:                 403   AIC:                             2946.\n",
       "Df Residuals:                     401   BIC:                             2954.\n",
       "Df Model:                           1                                         \n",
       "Covariance Type:            nonrobust                                         \n",
       "================================================================================\n",
       "                   coef    std err          t      P>|t|      [0.025      0.975]\n",
       "--------------------------------------------------------------------------------\n",
       "Intercept       65.4906      2.158     30.351      0.000      61.249      69.733\n",
       "yearsToPrize     0.2710      0.037      7.370      0.000       0.199       0.343\n",
       "==============================================================================\n",
       "Omnibus:                        7.616   Durbin-Watson:                   1.768\n",
       "Prob(Omnibus):                  0.022   Jarque-Bera (JB):                7.139\n",
       "Skew:                          -0.276   Prob(JB):                       0.0282\n",
       "Kurtosis:                       2.652   Cond. No.                         272.\n",
       "==============================================================================\n",
       "\n",
       "Warnings:\n",
       "[1] Standard Errors assume that the covariance matrix of the errors is correctly specified.\n",
       "\"\"\""
      ]
     },
     "execution_count": 160,
     "metadata": {},
     "output_type": "execute_result"
    }
   ],
   "source": [
    "model = sm.OLS.from_formula(\"longevidad ~ yearsToPrize \", data=da)\n",
    "result = model.fit()\n",
    "result.summary()"
   ]
  },
  {
   "cell_type": "markdown",
   "metadata": {},
   "source": [
    "1. Según el parámetro `R-squared` podemos deducir que solamente el 12% de la variabilidad de la longevidad puede ser explicada por los anios para alcanzar un premio (`yearsToPrize`)\n",
    "\n",
    "2.  Con 95% de confianza, el cambio promedio poblacional en la longevidad para un incremento de una anio en yearsToPrize está estimado entre 0.2 anios y 0.35 anios más.\n"
   ]
  },
  {
   "cell_type": "markdown",
   "metadata": {},
   "source": [
    "<div style=\"text-align: center\"> <h4> Línea de mejor ajuste </h4> </div>\n",
    "\n"
   ]
  },
  {
   "cell_type": "markdown",
   "metadata": {},
   "source": [
    "$$ \\hat{y} = b_{o} + b_{1}x$$ \n",
    "\n",
    "\n",
    "$$ longevidadpredecida = 65.5 + 0.27x$$ \n"
   ]
  },
  {
   "cell_type": "markdown",
   "metadata": {},
   "source": [
    "## Parte 4: Predicción"
   ]
  },
  {
   "cell_type": "markdown",
   "metadata": {},
   "source": [
    "Cuál sería la longevidad predecida para una persona que obtuvo un premio nobel 20 anios despues de nacer?"
   ]
  },
  {
   "cell_type": "code",
   "execution_count": 163,
   "metadata": {},
   "outputs": [
    {
     "data": {
      "text/plain": [
       "70.9"
      ]
     },
     "execution_count": 163,
     "metadata": {},
     "output_type": "execute_result"
    }
   ],
   "source": [
    "longevidadpredecida = 65.5 + 0.27*(20)\n",
    "longevidadpredecida"
   ]
  },
  {
   "cell_type": "markdown",
   "metadata": {},
   "source": [
    "`Interpretación`\n",
    "La longevidad de una persona que obtuvo un premio nobel a los 20 anios es de 70.9 anios aproximadamente, esto nos dice que la estimación de la longevidad media para aquellos quee obtienen un premio Nobel a los 20 anios es de 70.9 anios"
   ]
  },
  {
   "cell_type": "markdown",
   "metadata": {},
   "source": [
    "## Parte 5: Conclusión"
   ]
  },
  {
   "cell_type": "markdown",
   "metadata": {},
   "source": [
    "En conclusión este modelo hace una predicción lineal entre la longevidad y yearsToPrize y el modelo se apega mas a los valores centrales en la distribución ya que si hacemos una predicción para una persona que obtiene un premio a los 80 anios la predicción de longevidad ya no sería tan real, probablemente el problema es que realmente tenemos un tope de edad por lo que el modelo se vuelve irreal con predicciones con valores de yearsToPrize muy altos\n"
   ]
  },
  {
   "cell_type": "code",
   "execution_count": null,
   "metadata": {},
   "outputs": [],
   "source": []
  }
 ],
 "metadata": {
  "kernelspec": {
   "display_name": "Python 3",
   "language": "python",
   "name": "python3"
  },
  "language_info": {
   "codemirror_mode": {
    "name": "ipython",
    "version": 3
   },
   "file_extension": ".py",
   "mimetype": "text/x-python",
   "name": "python",
   "nbconvert_exporter": "python",
   "pygments_lexer": "ipython3",
   "version": "3.8.2"
  }
 },
 "nbformat": 4,
 "nbformat_minor": 4
}
