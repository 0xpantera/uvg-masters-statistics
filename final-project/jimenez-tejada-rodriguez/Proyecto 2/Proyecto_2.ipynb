{
 "cells": [
  {
   "cell_type": "markdown",
   "metadata": {},
   "source": [
    "***\n",
    "<center> <img src=\"https://res.cloudinary.com/webuvg/image/upload/f_auto,q_auto,w_165,c_scale,fl_lossy,dpr_2.63/v1548082900/WEB/Nosotros/Imagen%20Institucional/Logotipo%20UVG/Logotipo%20UVG/logotipo-uvg_thumb2x.jpg\"> <left/> <br>\n",
    "\n",
    "# <center> **Proyecto # 2**  <br> *Modelos de Regresión* \n",
    "## <center> **Integrantes:** <br> Juan Carlos Jiménez - 13068 <br> Andres Tejeda - 201564 <br> Diego Rodriguez - 13111 <br>\n",
    "\n",
    "***   \n"
   ]
  },
  {
   "cell_type": "markdown",
   "metadata": {},
   "source": [
    "# Objetivo:\n",
    "\n",
    "<p style='text-align: justify;'> En el presente proyecto buscará realizar un modelo de regresión lineal múltiple para predecir una variable dentro de un set de datos, que resuelva una pregunta de investigación. Siendo además su ojetivo principal reforzar los conceptos adquiridos en el segundo modulo del curso Manegerial Statistics de la maestria Bussines in Data Analytics, utilizando la plataforma de Jupyter Lab, el lenguaje de programacion Python y sus distintas librerias. </p>\n",
    "\n",
    "<br>    \n",
    "\n",
    "***"
   ]
  },
  {
   "cell_type": "markdown",
   "metadata": {},
   "source": [
    "# <center> **Importación de Datos**\n",
    "\n",
    "\n",
    "***"
   ]
  },
  {
   "cell_type": "code",
   "execution_count": 80,
   "metadata": {},
   "outputs": [],
   "source": [
    "%matplotlib inline\n",
    "import matplotlib.pyplot as plt\n",
    "import seaborn as sns\n",
    "import pandas as pd\n",
    "import statsmodels.api as sm\n",
    "import scipy.stats as stats\n",
    "import numpy as np\n",
    "\n",
    "from statsmodels.sandbox.predict_functional import predict_functional as pf"
   ]
  },
  {
   "cell_type": "code",
   "execution_count": 81,
   "metadata": {},
   "outputs": [
    {
     "data": {
      "text/html": [
       "<div>\n",
       "<style scoped>\n",
       "    .dataframe tbody tr th:only-of-type {\n",
       "        vertical-align: middle;\n",
       "    }\n",
       "\n",
       "    .dataframe tbody tr th {\n",
       "        vertical-align: top;\n",
       "    }\n",
       "\n",
       "    .dataframe thead th {\n",
       "        text-align: right;\n",
       "    }\n",
       "</style>\n",
       "<table border=\"1\" class=\"dataframe\">\n",
       "  <thead>\n",
       "    <tr style=\"text-align: right;\">\n",
       "      <th></th>\n",
       "      <th>Density</th>\n",
       "      <th>bodyfat</th>\n",
       "      <th>Age</th>\n",
       "      <th>Weight</th>\n",
       "      <th>Height</th>\n",
       "      <th>Neck</th>\n",
       "      <th>Chest</th>\n",
       "      <th>Abdomen</th>\n",
       "      <th>Hip</th>\n",
       "      <th>Thigh</th>\n",
       "      <th>Knee</th>\n",
       "      <th>Ankle</th>\n",
       "      <th>Biceps</th>\n",
       "      <th>Forearm</th>\n",
       "      <th>Wrist</th>\n",
       "    </tr>\n",
       "  </thead>\n",
       "  <tbody>\n",
       "    <tr>\n",
       "      <th>0</th>\n",
       "      <td>1.0708</td>\n",
       "      <td>12.3</td>\n",
       "      <td>23</td>\n",
       "      <td>154.25</td>\n",
       "      <td>67.75</td>\n",
       "      <td>36.2</td>\n",
       "      <td>93.1</td>\n",
       "      <td>85.2</td>\n",
       "      <td>94.5</td>\n",
       "      <td>59.0</td>\n",
       "      <td>37.3</td>\n",
       "      <td>21.9</td>\n",
       "      <td>32.0</td>\n",
       "      <td>27.4</td>\n",
       "      <td>17.1</td>\n",
       "    </tr>\n",
       "    <tr>\n",
       "      <th>1</th>\n",
       "      <td>1.0853</td>\n",
       "      <td>6.1</td>\n",
       "      <td>22</td>\n",
       "      <td>173.25</td>\n",
       "      <td>72.25</td>\n",
       "      <td>38.5</td>\n",
       "      <td>93.6</td>\n",
       "      <td>83.0</td>\n",
       "      <td>98.7</td>\n",
       "      <td>58.7</td>\n",
       "      <td>37.3</td>\n",
       "      <td>23.4</td>\n",
       "      <td>30.5</td>\n",
       "      <td>28.9</td>\n",
       "      <td>18.2</td>\n",
       "    </tr>\n",
       "    <tr>\n",
       "      <th>2</th>\n",
       "      <td>1.0414</td>\n",
       "      <td>25.3</td>\n",
       "      <td>22</td>\n",
       "      <td>154.00</td>\n",
       "      <td>66.25</td>\n",
       "      <td>34.0</td>\n",
       "      <td>95.8</td>\n",
       "      <td>87.9</td>\n",
       "      <td>99.2</td>\n",
       "      <td>59.6</td>\n",
       "      <td>38.9</td>\n",
       "      <td>24.0</td>\n",
       "      <td>28.8</td>\n",
       "      <td>25.2</td>\n",
       "      <td>16.6</td>\n",
       "    </tr>\n",
       "    <tr>\n",
       "      <th>3</th>\n",
       "      <td>1.0751</td>\n",
       "      <td>10.4</td>\n",
       "      <td>26</td>\n",
       "      <td>184.75</td>\n",
       "      <td>72.25</td>\n",
       "      <td>37.4</td>\n",
       "      <td>101.8</td>\n",
       "      <td>86.4</td>\n",
       "      <td>101.2</td>\n",
       "      <td>60.1</td>\n",
       "      <td>37.3</td>\n",
       "      <td>22.8</td>\n",
       "      <td>32.4</td>\n",
       "      <td>29.4</td>\n",
       "      <td>18.2</td>\n",
       "    </tr>\n",
       "    <tr>\n",
       "      <th>4</th>\n",
       "      <td>1.0340</td>\n",
       "      <td>28.7</td>\n",
       "      <td>24</td>\n",
       "      <td>184.25</td>\n",
       "      <td>71.25</td>\n",
       "      <td>34.4</td>\n",
       "      <td>97.3</td>\n",
       "      <td>100.0</td>\n",
       "      <td>101.9</td>\n",
       "      <td>63.2</td>\n",
       "      <td>42.2</td>\n",
       "      <td>24.0</td>\n",
       "      <td>32.2</td>\n",
       "      <td>27.7</td>\n",
       "      <td>17.7</td>\n",
       "    </tr>\n",
       "  </tbody>\n",
       "</table>\n",
       "</div>"
      ],
      "text/plain": [
       "   Density  bodyfat  Age  Weight  Height  Neck  Chest  Abdomen    Hip  Thigh  \\\n",
       "0   1.0708     12.3   23  154.25   67.75  36.2   93.1     85.2   94.5   59.0   \n",
       "1   1.0853      6.1   22  173.25   72.25  38.5   93.6     83.0   98.7   58.7   \n",
       "2   1.0414     25.3   22  154.00   66.25  34.0   95.8     87.9   99.2   59.6   \n",
       "3   1.0751     10.4   26  184.75   72.25  37.4  101.8     86.4  101.2   60.1   \n",
       "4   1.0340     28.7   24  184.25   71.25  34.4   97.3    100.0  101.9   63.2   \n",
       "\n",
       "   Knee  Ankle  Biceps  Forearm  Wrist  \n",
       "0  37.3   21.9    32.0     27.4   17.1  \n",
       "1  37.3   23.4    30.5     28.9   18.2  \n",
       "2  38.9   24.0    28.8     25.2   16.6  \n",
       "3  37.3   22.8    32.4     29.4   18.2  \n",
       "4  42.2   24.0    32.2     27.7   17.7  "
      ]
     },
     "execution_count": 81,
     "metadata": {},
     "output_type": "execute_result"
    }
   ],
   "source": [
    "# Cargamos la información \n",
    "da = pd.read_csv(\"Bodyfat.csv\")\n",
    "da.head()"
   ]
  },
  {
   "cell_type": "code",
   "execution_count": 82,
   "metadata": {},
   "outputs": [],
   "source": [
    "# Generación de rangos para la variables\n",
    "da[\"Agegrp\"] = pd.cut(da.Age, [21, 31, 41, 51, 61, 71, 81])\n",
    "da[\"Weightgrp\"] = pd.cut(da.Weight, [100, 150, 200, 250, 400]) \n",
    "da[\"Heightgrp\"] = pd.cut(da.Height, [60, 65, 70, 75, 80]) \n",
    "da[\"bodyfatgrp\"] = pd.cut(da.bodyfat, [10, 13, 21, 25, 32, 100]) "
   ]
  },
  {
   "cell_type": "markdown",
   "metadata": {},
   "source": [
    "***\n",
    "# Introducción:\n",
    "\n",
    "<p style='text-align: justify;'> En la comunidad científica y médica existen diferentes formas de poder determinar si el estado actual de una persona es saludable. Existen exámenes que determinan el porcentaje de grasa corporal de una persona a través del uso de la tecnología, no obstante, estos son de alto costo. Debido a esto, se ha desarrollado diversos estudios para verificar si es posible calcular de manera precisa el porcentaje de grasa corporal de una persona haciendo uso de sus mediciones biométricas. Sin embargo, en algunos casos podría complicarse debido a que dichas medidas deben realizarse a cabo en lugares especificos de la anatomía humana. A partir de ello surge la interrogante si es posible obtener una aproximación suficientemente cercana al valor real del porcentaje de grasa en el curpo, a partir de mediciones básicas tales como; la altura, peso y edad del individuo. </P>\n",
    "\n",
    "\n",
    "<br>\n",
    "\n",
    "\n",
    "+ ###  Pregunta de investigacion:\n",
    "\n",
    "    ¿Es posible determinar con precisión si una persona padece de obesidad únicamente con los predictores de peso, altura y edad?\n",
    "\n",
    "    **Nota:** Se abordará la pregunta de investigación utilizando el siguiente [set de datos](http://staff.pubhealth.ku.dk/~tag/Teaching/share/data/Bodyfat.html)\n",
    "    \n",
    "<br>\n",
    "\n",
    "***\n"
   ]
  },
  {
   "cell_type": "markdown",
   "metadata": {},
   "source": [
    "# <center> **Análisis Exploratorio de Datos**\n",
    "\n",
    "\n",
    "***"
   ]
  },
  {
   "cell_type": "markdown",
   "metadata": {},
   "source": [
    "## Distribución de la población a partir de su edad:\n",
    "***"
   ]
  },
  {
   "cell_type": "code",
   "execution_count": 83,
   "metadata": {},
   "outputs": [
    {
     "data": {
      "text/plain": [
       "count    251.000000\n",
       "mean      44.888446\n",
       "std       12.627094\n",
       "min       22.000000\n",
       "25%       35.500000\n",
       "50%       43.000000\n",
       "75%       54.000000\n",
       "max       81.000000\n",
       "Name: Age, dtype: float64"
      ]
     },
     "execution_count": 83,
     "metadata": {},
     "output_type": "execute_result"
    }
   ],
   "source": [
    "da['Age'].describe()"
   ]
  },
  {
   "cell_type": "code",
   "execution_count": 84,
   "metadata": {},
   "outputs": [
    {
     "name": "stdout",
     "output_type": "stream",
     "text": [
      "La Mediana es 43.0 años\n"
     ]
    }
   ],
   "source": [
    "mediana_edad = float(da['Age'].dropna().median())\n",
    "print(\"La Mediana es \" + str(mediana_edad) + \" años\")"
   ]
  },
  {
   "cell_type": "code",
   "execution_count": 85,
   "metadata": {},
   "outputs": [
    {
     "name": "stdout",
     "output_type": "stream",
     "text": [
      "La Moda es 40.0 años\n"
     ]
    }
   ],
   "source": [
    "moda_edad = float(da['Age'].dropna().mode())\n",
    "print(\"La Moda es \" + str(moda_edad) + \" años\" )"
   ]
  },
  {
   "cell_type": "code",
   "execution_count": 86,
   "metadata": {},
   "outputs": [
    {
     "data": {
      "text/plain": [
       "Text(0.5, 1.0, 'Histograma Distribución de Edad')"
      ]
     },
     "execution_count": 86,
     "metadata": {},
     "output_type": "execute_result"
    },
    {
     "data": {
      "image/png": "[encoded data removed]",
      "text/plain": [
       "<Figure size 432x288 with 1 Axes>"
      ]
     },
     "metadata": {
      "needs_background": "light"
     },
     "output_type": "display_data"
    }
   ],
   "source": [
    "sns.distplot(da.Age.dropna()).set_title(\"Histograma Distribución de Edad\")"
   ]
  },
  {
   "cell_type": "markdown",
   "metadata": {},
   "source": [
    "#### Inferencia:\n",
    "<p style='text-align: justify;'> A partir de los graficos generados anteriormente, se puede inferir que la distribución de edades de la población tiene un comportamiento aproximadamente normal, con un leve sesgo hacia la derecha. Siendo la población muestral en su totalidad es de 251 sujetos, distribuidos entre edades de 22 a 81 años. </p>\n",
    "\n",
    "<br>"
   ]
  },
  {
   "cell_type": "markdown",
   "metadata": {},
   "source": [
    "## Distribución de la población a partir de su altura:\n",
    "***"
   ]
  },
  {
   "cell_type": "code",
   "execution_count": 87,
   "metadata": {},
   "outputs": [
    {
     "data": {
      "text/plain": [
       "count    251.000000\n",
       "mean      70.310757\n",
       "std        2.614296\n",
       "min       64.000000\n",
       "25%       68.250000\n",
       "50%       70.000000\n",
       "75%       72.250000\n",
       "max       77.750000\n",
       "Name: Height, dtype: float64"
      ]
     },
     "execution_count": 87,
     "metadata": {},
     "output_type": "execute_result"
    }
   ],
   "source": [
    "da['Height'].describe()"
   ]
  },
  {
   "cell_type": "code",
   "execution_count": 88,
   "metadata": {},
   "outputs": [
    {
     "name": "stdout",
     "output_type": "stream",
     "text": [
      "La Mediana es 70.0 Pulgadas\n"
     ]
    }
   ],
   "source": [
    "mediana_altura = float(da['Height'].dropna().median())\n",
    "print(\"La Mediana es \" + str(mediana_altura) + \" Pulgadas\")"
   ]
  },
  {
   "cell_type": "code",
   "execution_count": 89,
   "metadata": {},
   "outputs": [
    {
     "name": "stdout",
     "output_type": "stream",
     "text": [
      "La Moda es 71.5 Pulgadas\n"
     ]
    }
   ],
   "source": [
    "moda_altura = float(da['Height'].dropna().mode())\n",
    "print(\"La Moda es \" + str(moda_altura) + \" Pulgadas\" )"
   ]
  },
  {
   "cell_type": "code",
   "execution_count": 90,
   "metadata": {},
   "outputs": [
    {
     "data": {
      "text/plain": [
       "Text(0.5, 1.0, 'Histograma Distribución de Altura')"
      ]
     },
     "execution_count": 90,
     "metadata": {},
     "output_type": "execute_result"
    },
    {
     "data": {
      "image/png": "[encoded data removed]",
      "text/plain": [
       "<Figure size 432x288 with 1 Axes>"
      ]
     },
     "metadata": {
      "needs_background": "light"
     },
     "output_type": "display_data"
    }
   ],
   "source": [
    "sns.distplot(da.Height.dropna()).set_title(\"Histograma Distribución de Altura\")"
   ]
  },
  {
   "cell_type": "markdown",
   "metadata": {},
   "source": [
    "#### Inferencia:\n",
    "<p style='text-align: justify;'> A partir de los graficos generados anteriormente, se puede inferir que la distribución de alturas de la población tiene un comportamiento aproximadamente normal, con un leve sesgo hacia la izquierda. Los 251 sujetos de la población muestral estan contenidos en un rango de altura entre 64 y 77.8 pulgadas. </p>\n",
    "\n",
    "<br>"
   ]
  },
  {
   "cell_type": "markdown",
   "metadata": {},
   "source": [
    "## Distribución de la población a partir de su peso:\n",
    "***"
   ]
  },
  {
   "cell_type": "code",
   "execution_count": 91,
   "metadata": {},
   "outputs": [
    {
     "data": {
      "text/plain": [
       "count    251.000000\n",
       "mean     178.820518\n",
       "std       29.401480\n",
       "min      118.500000\n",
       "25%      158.750000\n",
       "50%      176.250000\n",
       "75%      196.875000\n",
       "max      363.150000\n",
       "Name: Weight, dtype: float64"
      ]
     },
     "execution_count": 91,
     "metadata": {},
     "output_type": "execute_result"
    }
   ],
   "source": [
    "da['Weight'].describe()"
   ]
  },
  {
   "cell_type": "code",
   "execution_count": 92,
   "metadata": {},
   "outputs": [
    {
     "name": "stdout",
     "output_type": "stream",
     "text": [
      "La Mediana es 176.25 Libras\n"
     ]
    }
   ],
   "source": [
    "mediana_peso = float(da['Weight'].dropna().median())\n",
    "print(\"La Mediana es \" + str(mediana_peso) + \" Libras\")"
   ]
  },
  {
   "cell_type": "code",
   "execution_count": 93,
   "metadata": {},
   "outputs": [
    {
     "name": "stdout",
     "output_type": "stream",
     "text": [
      "La Moda es 170.75 Libras\n"
     ]
    }
   ],
   "source": [
    "moda_peso = da['Weight'].dropna().mode()\n",
    "print(\"La Moda es \" + str(moda_peso [4]) + \" Libras\" )"
   ]
  },
  {
   "cell_type": "code",
   "execution_count": 94,
   "metadata": {},
   "outputs": [
    {
     "data": {
      "text/plain": [
       "Text(0.5, 1.0, 'Histograma Distribución de Peso')"
      ]
     },
     "execution_count": 94,
     "metadata": {},
     "output_type": "execute_result"
    },
    {
     "data": {
      "image/png": "[encoded data removed]",
      "text/plain": [
       "<Figure size 432x288 with 1 Axes>"
      ]
     },
     "metadata": {
      "needs_background": "light"
     },
     "output_type": "display_data"
    }
   ],
   "source": [
    "sns.distplot(da.Weight.dropna()).set_title(\"Histograma Distribución de Peso\")"
   ]
  },
  {
   "cell_type": "markdown",
   "metadata": {},
   "source": [
    "#### Inferencia:\n",
    "<p style='text-align: justify;'> A partir de los graficos generados anteriormente, se puede inferir que la distribución del peso de la población tiene un comportamiento aproximadamente normal, con un leve sesgo hacia la derecha. Los 251 sujetos de la población muestral estan contenidos en un rango de peso entre 118.5 y 363.2 libras.  </p>\n",
    "\n",
    "<br>"
   ]
  },
  {
   "cell_type": "markdown",
   "metadata": {},
   "source": [
    "## Visualización relacional entre variables dependientes e independientes:\n",
    "***"
   ]
  },
  {
   "cell_type": "markdown",
   "metadata": {},
   "source": [
    "<br>\n",
    "\n",
    "<p style='text-align: justify;'> Se escogió utilizar los rangos de edad como pivote para simplificar la visualización y así poder validar que exista la misma tendencia en cualquier rango de edad, buscando comprobar a su vez si existe una relación directa entre la grasa corporal y el aumento de la edad. </p>"
   ]
  },
  {
   "cell_type": "code",
   "execution_count": 95,
   "metadata": {},
   "outputs": [
    {
     "data": {
      "text/plain": [
       "Text(0.5, 1.0, 'Boxplot - Porcentaje Grasa Corporal vs Rango de Edad')"
      ]
     },
     "execution_count": 95,
     "metadata": {},
     "output_type": "execute_result"
    },
    {
     "data": {
      "image/png": "[encoded data removed]",
      "text/plain": [
       "<Figure size 1080x576 with 1 Axes>"
      ]
     },
     "metadata": {
      "needs_background": "light"
     },
     "output_type": "display_data"
    }
   ],
   "source": [
    "plt.figure(figsize=(15, 8)) \n",
    "sns.boxplot(x=\"Agegrp\", y=\"bodyfat\", data=da).set_title(\"Boxplot - Porcentaje Grasa Corporal vs Rango de Edad\")"
   ]
  },
  {
   "cell_type": "markdown",
   "metadata": {},
   "source": [
    "\n",
    "#### Inferencia:\n",
    "\n",
    "<p style='text-align: justify;'> A partir del grafico anterior podemos inferir que existe una tendencia de relación positiva entre el porcentaje de grasa comporal (PGC) y la edad del individuo. Lo que nos indica que a medida que avanza la edad de un individuo la tendencia a tener un porcentaje de grasa corporal aumenta. En este sentido existen varios factores que pueden impactar a esta situación, como la perdida de masa muscular en edades avanzadas ya que disminuye en gran porcentaje la actividad fisica que realiza el individuo. Además podemos observar que no importando el rango de edad la dispersión de PGC se mantiene en proporción. </p>\n",
    "\n",
    "<br>"
   ]
  },
  {
   "cell_type": "code",
   "execution_count": 96,
   "metadata": {},
   "outputs": [
    {
     "data": {
      "image/png": "[encoded data removed]",
      "text/plain": [
       "<Figure size 1304x216 with 6 Axes>"
      ]
     },
     "metadata": {
      "needs_background": "light"
     },
     "output_type": "display_data"
    }
   ],
   "source": [
    "_ = sns.FacetGrid(da, col=\"Agegrp\").map(plt.scatter, \"Weight\", \"bodyfat\", alpha=0.5).add_legend()"
   ]
  },
  {
   "cell_type": "markdown",
   "metadata": {},
   "source": [
    "#### Inferencia:\n",
    "\n",
    "<p style='text-align: justify;'> A simple vista se observa que existe una tendencia de relación positiva con pendiente marcada en relación al porcentaje de grasa comporal y el peso del individuo, distribuido por rangos de edad. Es obvio que entre un individuo posea más peso, su porcentaje de grasa corporal sea alto a tal grado de la obesidad. Sin embargo debemos tomar en consideración que no se aplica siempre, especificamente en casos en los cuales la persona tiene una actividad fisica activa y con ella gana gran cantidad de masa corporal lo que implica un incremento de su peso. </p>\n",
    "\n",
    "<br>"
   ]
  },
  {
   "cell_type": "code",
   "execution_count": 97,
   "metadata": {},
   "outputs": [
    {
     "data": {
      "image/png": "[encoded data removed]",
      "text/plain": [
       "<Figure size 1304x216 with 6 Axes>"
      ]
     },
     "metadata": {
      "needs_background": "light"
     },
     "output_type": "display_data"
    }
   ],
   "source": [
    "_ = sns.FacetGrid(da, col=\"Agegrp\").map(plt.scatter, \"Height\", \"bodyfat\", alpha=0.5).add_legend()"
   ]
  },
  {
   "cell_type": "markdown",
   "metadata": {},
   "source": [
    "#### Inferencia:\n",
    "\n",
    "<p style='text-align: justify;'>  A diferencia de la distribución anterior no se identifica un relación directa entre la altura y el porcenjate de grasa corporal en un individuo. Lo que parece acertado puesto que no importando la estatura del individuo, existe la posibilidad que padezca de obesidad o se encuentre en su peso ideal es la misma, no excluyendo cualquier otro estado fisico. </p>\n",
    "\n",
    "<br>\n"
   ]
  },
  {
   "cell_type": "markdown",
   "metadata": {},
   "source": [
    "## Distribución marginal del porcentaje de grasa corporal:\n",
    "***"
   ]
  },
  {
   "cell_type": "code",
   "execution_count": 98,
   "metadata": {},
   "outputs": [
    {
     "data": {
      "text/plain": [
       "Text(0.5, 1.0, 'Histograma Distribución del PSG')"
      ]
     },
     "execution_count": 98,
     "metadata": {},
     "output_type": "execute_result"
    },
    {
     "data": {
      "image/png": "[encoded data removed]",
      "text/plain": [
       "<Figure size 432x288 with 1 Axes>"
      ]
     },
     "metadata": {
      "needs_background": "light"
     },
     "output_type": "display_data"
    }
   ],
   "source": [
    "sns.distplot(da.bodyfat.dropna()).set_title(\"Histograma Distribución del PSG\")"
   ]
  },
  {
   "cell_type": "code",
   "execution_count": 99,
   "metadata": {},
   "outputs": [
    {
     "data": {
      "image/png": "[encoded data removed]",
      "text/plain": [
       "<Figure size 432x288 with 1 Axes>"
      ]
     },
     "metadata": {
      "needs_background": "light"
     },
     "output_type": "display_data"
    }
   ],
   "source": [
    "stats.probplot(da['bodyfat'], dist=\"norm\", plot=plt)\n",
    "plt.title(\"Normal Q-Q plot\")\n",
    "plt.show()"
   ]
  },
  {
   "cell_type": "markdown",
   "metadata": {},
   "source": [
    "#### Inferencia:\n",
    "\n",
    "<p style='text-align: justify;'>  A partir del histograma anterior podemos observar que la distribucion para el porcentaje de grasa corporal es aproximadamente normal, y además lo podemos comprobar a partir de la Q-Q Plot puesto que los datos se ajustan muy bien a la regresion lineal aplicada.\n",
    "    \n",
    "<br>\n"
   ]
  },
  {
   "cell_type": "markdown",
   "metadata": {},
   "source": [
    "*** \n",
    "# <center> **Modelado de Predicción**\n",
    "\n",
    "\n",
    "***"
   ]
  },
  {
   "cell_type": "markdown",
   "metadata": {},
   "source": [
    "<br>\n",
    "\n",
    "#### Descripción:\n",
    "\n",
    "<p style='text-align: justify;'> Para responder parte la pregunta de investigación es necesario desarrollar el modelo para poder predecir el porcentaje de grasa corporal (variable dependiente), esto será posible a través de las siguientes variables independientes: </p>\n",
    "\n",
    "   - Edad\n",
    "   - Altura\n",
    "   - Peso\n",
    "\n",
    "<p style='text-align: justify;'> Estas variables fueron seleccionadas debido a que son las medidas o datos personales que una persona común puede obtener con mayor facilidad. No requieren de identificar puntos específicos de la anatomía humana para poder llevar a cabo una medición biométrica. Este mismo criterio fue utilizado para el razonamiento de exclusión de las demás variables del set de datos. El primer paso será realizar un modelo para cada variable independiente para verificar la relación entre cada una el porcentaje de grasa corporal. Por referencia, se obtendrá el valor de la desviación estándar del porcentaje de grasa corporal de la población muestral. </p>"
   ]
  },
  {
   "cell_type": "code",
   "execution_count": 100,
   "metadata": {},
   "outputs": [
    {
     "name": "stdout",
     "output_type": "stream",
     "text": [
      "La desviación estandar para el PGC es 8.340070986732968\n"
     ]
    }
   ],
   "source": [
    "std_dev = da['bodyfat'].std()\n",
    "print(\"La desviación estandar para el PGC es \" + str(std_dev))"
   ]
  },
  {
   "cell_type": "markdown",
   "metadata": {},
   "source": [
    "<br>\n",
    "\n",
    "## Modelo de regresión lineal respecto a la Edad:\n",
    "***"
   ]
  },
  {
   "cell_type": "code",
   "execution_count": 101,
   "metadata": {},
   "outputs": [
    {
     "data": {
      "text/html": [
       "<table class=\"simpletable\">\n",
       "<caption>OLS Regression Results</caption>\n",
       "<tr>\n",
       "  <th>Dep. Variable:</th>         <td>bodyfat</td>     <th>  R-squared:         </th> <td>   0.086</td>\n",
       "</tr>\n",
       "<tr>\n",
       "  <th>Model:</th>                   <td>OLS</td>       <th>  Adj. R-squared:    </th> <td>   0.082</td>\n",
       "</tr>\n",
       "<tr>\n",
       "  <th>Method:</th>             <td>Least Squares</td>  <th>  F-statistic:       </th> <td>   23.47</td>\n",
       "</tr>\n",
       "<tr>\n",
       "  <th>Date:</th>             <td>Sun, 17 May 2020</td> <th>  Prob (F-statistic):</th> <td>2.23e-06</td>\n",
       "</tr>\n",
       "<tr>\n",
       "  <th>Time:</th>                 <td>23:00:09</td>     <th>  Log-Likelihood:    </th> <td> -876.74</td>\n",
       "</tr>\n",
       "<tr>\n",
       "  <th>No. Observations:</th>      <td>   251</td>      <th>  AIC:               </th> <td>   1757.</td>\n",
       "</tr>\n",
       "<tr>\n",
       "  <th>Df Residuals:</th>          <td>   249</td>      <th>  BIC:               </th> <td>   1765.</td>\n",
       "</tr>\n",
       "<tr>\n",
       "  <th>Df Model:</th>              <td>     1</td>      <th>                     </th>     <td> </td>   \n",
       "</tr>\n",
       "<tr>\n",
       "  <th>Covariance Type:</th>      <td>nonrobust</td>    <th>                     </th>     <td> </td>   \n",
       "</tr>\n",
       "</table>\n",
       "<table class=\"simpletable\">\n",
       "<tr>\n",
       "      <td></td>         <th>coef</th>     <th>std err</th>      <th>t</th>      <th>P>|t|</th>  <th>[0.025</th>    <th>0.975]</th>  \n",
       "</tr>\n",
       "<tr>\n",
       "  <th>Intercept</th> <td>   10.3939</td> <td>    1.866</td> <td>    5.571</td> <td> 0.000</td> <td>    6.720</td> <td>   14.068</td>\n",
       "</tr>\n",
       "<tr>\n",
       "  <th>Age</th>       <td>    0.1939</td> <td>    0.040</td> <td>    4.845</td> <td> 0.000</td> <td>    0.115</td> <td>    0.273</td>\n",
       "</tr>\n",
       "</table>\n",
       "<table class=\"simpletable\">\n",
       "<tr>\n",
       "  <th>Omnibus:</th>       <td> 1.496</td> <th>  Durbin-Watson:     </th> <td>   1.564</td>\n",
       "</tr>\n",
       "<tr>\n",
       "  <th>Prob(Omnibus):</th> <td> 0.473</td> <th>  Jarque-Bera (JB):  </th> <td>   1.586</td>\n",
       "</tr>\n",
       "<tr>\n",
       "  <th>Skew:</th>          <td> 0.158</td> <th>  Prob(JB):          </th> <td>   0.452</td>\n",
       "</tr>\n",
       "<tr>\n",
       "  <th>Kurtosis:</th>      <td> 2.773</td> <th>  Cond. No.          </th> <td>    173.</td>\n",
       "</tr>\n",
       "</table><br/><br/>Warnings:<br/>[1] Standard Errors assume that the covariance matrix of the errors is correctly specified."
      ],
      "text/plain": [
       "<class 'statsmodels.iolib.summary.Summary'>\n",
       "\"\"\"\n",
       "                            OLS Regression Results                            \n",
       "==============================================================================\n",
       "Dep. Variable:                bodyfat   R-squared:                       0.086\n",
       "Model:                            OLS   Adj. R-squared:                  0.082\n",
       "Method:                 Least Squares   F-statistic:                     23.47\n",
       "Date:                Sun, 17 May 2020   Prob (F-statistic):           2.23e-06\n",
       "Time:                        23:00:09   Log-Likelihood:                -876.74\n",
       "No. Observations:                 251   AIC:                             1757.\n",
       "Df Residuals:                     249   BIC:                             1765.\n",
       "Df Model:                           1                                         \n",
       "Covariance Type:            nonrobust                                         \n",
       "==============================================================================\n",
       "                 coef    std err          t      P>|t|      [0.025      0.975]\n",
       "------------------------------------------------------------------------------\n",
       "Intercept     10.3939      1.866      5.571      0.000       6.720      14.068\n",
       "Age            0.1939      0.040      4.845      0.000       0.115       0.273\n",
       "==============================================================================\n",
       "Omnibus:                        1.496   Durbin-Watson:                   1.564\n",
       "Prob(Omnibus):                  0.473   Jarque-Bera (JB):                1.586\n",
       "Skew:                           0.158   Prob(JB):                        0.452\n",
       "Kurtosis:                       2.773   Cond. No.                         173.\n",
       "==============================================================================\n",
       "\n",
       "Warnings:\n",
       "[1] Standard Errors assume that the covariance matrix of the errors is correctly specified.\n",
       "\"\"\""
      ]
     },
     "execution_count": 101,
     "metadata": {},
     "output_type": "execute_result"
    }
   ],
   "source": [
    "model = sm.OLS.from_formula(\"bodyfat ~ Age\", data=da)\n",
    "result = model.fit()\n",
    "result.summary()"
   ]
  },
  {
   "cell_type": "markdown",
   "metadata": {},
   "source": [
    "<br>\n",
    "\n",
    "#### Inferencia:\n",
    "\n",
    "<p style='text-align: justify;'> Este modelo ajustado implica que cuando comparamos dos personas con un año de diferencia, el sujeto con un año más de vida tendrá, en promedio, 0.19 unidades más de porcentaje de grasa corporal. Tomando en cuenta que el grupo de personas está dentro de las edades de 22 a 81 años. Esto significaría que el sujeto con menor edad tendrá una diferencia de 11.21 unidades con el sujeto de mayor edad en el grupo únicamente por su diferencia de años. Este cambio es significativo debido a que es mayor a la desviación estándar de la muestra estudiada. También se evalúa la correlación entre las dos variables y su R-cuadrado es del 0.086. Esto significa que solo el 8.6% de la variabilidad del porcentaje de grasa corporal es explicada por la edad. </p>"
   ]
  },
  {
   "cell_type": "markdown",
   "metadata": {},
   "source": [
    "<br>\n",
    "\n",
    "## Modelo de regresión lineal respecto al Peso:\n",
    "***"
   ]
  },
  {
   "cell_type": "code",
   "execution_count": 102,
   "metadata": {},
   "outputs": [
    {
     "data": {
      "text/html": [
       "<table class=\"simpletable\">\n",
       "<caption>OLS Regression Results</caption>\n",
       "<tr>\n",
       "  <th>Dep. Variable:</th>         <td>bodyfat</td>     <th>  R-squared:         </th> <td>   0.373</td>\n",
       "</tr>\n",
       "<tr>\n",
       "  <th>Model:</th>                   <td>OLS</td>       <th>  Adj. R-squared:    </th> <td>   0.371</td>\n",
       "</tr>\n",
       "<tr>\n",
       "  <th>Method:</th>             <td>Least Squares</td>  <th>  F-statistic:       </th> <td>   148.2</td>\n",
       "</tr>\n",
       "<tr>\n",
       "  <th>Date:</th>             <td>Sun, 17 May 2020</td> <th>  Prob (F-statistic):</th> <td>4.60e-27</td>\n",
       "</tr>\n",
       "<tr>\n",
       "  <th>Time:</th>                 <td>23:00:10</td>     <th>  Log-Likelihood:    </th> <td> -829.43</td>\n",
       "</tr>\n",
       "<tr>\n",
       "  <th>No. Observations:</th>      <td>   251</td>      <th>  AIC:               </th> <td>   1663.</td>\n",
       "</tr>\n",
       "<tr>\n",
       "  <th>Df Residuals:</th>          <td>   249</td>      <th>  BIC:               </th> <td>   1670.</td>\n",
       "</tr>\n",
       "<tr>\n",
       "  <th>Df Model:</th>              <td>     1</td>      <th>                     </th>     <td> </td>   \n",
       "</tr>\n",
       "<tr>\n",
       "  <th>Covariance Type:</th>      <td>nonrobust</td>    <th>                     </th>     <td> </td>   \n",
       "</tr>\n",
       "</table>\n",
       "<table class=\"simpletable\">\n",
       "<tr>\n",
       "      <td></td>         <th>coef</th>     <th>std err</th>      <th>t</th>      <th>P>|t|</th>  <th>[0.025</th>    <th>0.975]</th>  \n",
       "</tr>\n",
       "<tr>\n",
       "  <th>Intercept</th> <td>  -11.8889</td> <td>    2.579</td> <td>   -4.610</td> <td> 0.000</td> <td>  -16.969</td> <td>   -6.809</td>\n",
       "</tr>\n",
       "<tr>\n",
       "  <th>Weight</th>    <td>    0.1733</td> <td>    0.014</td> <td>   12.174</td> <td> 0.000</td> <td>    0.145</td> <td>    0.201</td>\n",
       "</tr>\n",
       "</table>\n",
       "<table class=\"simpletable\">\n",
       "<tr>\n",
       "  <th>Omnibus:</th>       <td> 0.065</td> <th>  Durbin-Watson:     </th> <td>   1.610</td>\n",
       "</tr>\n",
       "<tr>\n",
       "  <th>Prob(Omnibus):</th> <td> 0.968</td> <th>  Jarque-Bera (JB):  </th> <td>   0.109</td>\n",
       "</tr>\n",
       "<tr>\n",
       "  <th>Skew:</th>          <td> 0.038</td> <th>  Prob(JB):          </th> <td>   0.947</td>\n",
       "</tr>\n",
       "<tr>\n",
       "  <th>Kurtosis:</th>      <td> 2.933</td> <th>  Cond. No.          </th> <td>1.12e+03</td>\n",
       "</tr>\n",
       "</table><br/><br/>Warnings:<br/>[1] Standard Errors assume that the covariance matrix of the errors is correctly specified.<br/>[2] The condition number is large, 1.12e+03. This might indicate that there are<br/>strong multicollinearity or other numerical problems."
      ],
      "text/plain": [
       "<class 'statsmodels.iolib.summary.Summary'>\n",
       "\"\"\"\n",
       "                            OLS Regression Results                            \n",
       "==============================================================================\n",
       "Dep. Variable:                bodyfat   R-squared:                       0.373\n",
       "Model:                            OLS   Adj. R-squared:                  0.371\n",
       "Method:                 Least Squares   F-statistic:                     148.2\n",
       "Date:                Sun, 17 May 2020   Prob (F-statistic):           4.60e-27\n",
       "Time:                        23:00:10   Log-Likelihood:                -829.43\n",
       "No. Observations:                 251   AIC:                             1663.\n",
       "Df Residuals:                     249   BIC:                             1670.\n",
       "Df Model:                           1                                         \n",
       "Covariance Type:            nonrobust                                         \n",
       "==============================================================================\n",
       "                 coef    std err          t      P>|t|      [0.025      0.975]\n",
       "------------------------------------------------------------------------------\n",
       "Intercept    -11.8889      2.579     -4.610      0.000     -16.969      -6.809\n",
       "Weight         0.1733      0.014     12.174      0.000       0.145       0.201\n",
       "==============================================================================\n",
       "Omnibus:                        0.065   Durbin-Watson:                   1.610\n",
       "Prob(Omnibus):                  0.968   Jarque-Bera (JB):                0.109\n",
       "Skew:                           0.038   Prob(JB):                        0.947\n",
       "Kurtosis:                       2.933   Cond. No.                     1.12e+03\n",
       "==============================================================================\n",
       "\n",
       "Warnings:\n",
       "[1] Standard Errors assume that the covariance matrix of the errors is correctly specified.\n",
       "[2] The condition number is large, 1.12e+03. This might indicate that there are\n",
       "strong multicollinearity or other numerical problems.\n",
       "\"\"\""
      ]
     },
     "execution_count": 102,
     "metadata": {},
     "output_type": "execute_result"
    }
   ],
   "source": [
    "model = sm.OLS.from_formula(\"bodyfat ~ Weight\", data=da)\n",
    "result = model.fit()\n",
    "result.summary()"
   ]
  },
  {
   "cell_type": "markdown",
   "metadata": {},
   "source": [
    "<br>\n",
    "\n",
    "#### Inferencia:\n",
    "\n",
    "<p style='text-align: justify;'> Este modelo ajustado implica que cuando comparamos dos personas con una libra de diferencia, el sujeto con una libra más de peso tendrá, en promedio, 0.17 unidades más de porcentaje de grasa corporal. Tomando en cuenta que el grupo de personas está dentro de los pesos de 118 y 363 libras. Esto significaría que el sujeto con menor peso tendrá una diferencia de 41.65 unidades con el sujeto de mayor peso en el grupo únicamente por su diferencia de peso. Esto se interpreta como un cambio muy significativo al ser múltiples veces la desviación estándar de la muestra. También se evalúa la correlación entre las dos variables y su R-cuadrado es del 0.373. Esto significa que el 37.3% de la variabilidad del porcentaje de grasa corporal es explicada por el peso. </p>"
   ]
  },
  {
   "cell_type": "markdown",
   "metadata": {},
   "source": [
    "<br>\n",
    "\n",
    "## Modelo de regresión lineal respecto a la Altura:\n",
    "***"
   ]
  },
  {
   "cell_type": "code",
   "execution_count": 103,
   "metadata": {},
   "outputs": [
    {
     "data": {
      "text/html": [
       "<table class=\"simpletable\">\n",
       "<caption>OLS Regression Results</caption>\n",
       "<tr>\n",
       "  <th>Dep. Variable:</th>         <td>bodyfat</td>     <th>  R-squared:         </th> <td>   0.001</td>\n",
       "</tr>\n",
       "<tr>\n",
       "  <th>Model:</th>                   <td>OLS</td>       <th>  Adj. R-squared:    </th> <td>  -0.003</td>\n",
       "</tr>\n",
       "<tr>\n",
       "  <th>Method:</th>             <td>Least Squares</td>  <th>  F-statistic:       </th> <td>  0.1362</td>\n",
       "</tr>\n",
       "<tr>\n",
       "  <th>Date:</th>             <td>Sun, 17 May 2020</td> <th>  Prob (F-statistic):</th>  <td> 0.712</td> \n",
       "</tr>\n",
       "<tr>\n",
       "  <th>Time:</th>                 <td>23:00:10</td>     <th>  Log-Likelihood:    </th> <td> -887.97</td>\n",
       "</tr>\n",
       "<tr>\n",
       "  <th>No. Observations:</th>      <td>   251</td>      <th>  AIC:               </th> <td>   1780.</td>\n",
       "</tr>\n",
       "<tr>\n",
       "  <th>Df Residuals:</th>          <td>   249</td>      <th>  BIC:               </th> <td>   1787.</td>\n",
       "</tr>\n",
       "<tr>\n",
       "  <th>Df Model:</th>              <td>     1</td>      <th>                     </th>     <td> </td>   \n",
       "</tr>\n",
       "<tr>\n",
       "  <th>Covariance Type:</th>      <td>nonrobust</td>    <th>                     </th>     <td> </td>   \n",
       "</tr>\n",
       "</table>\n",
       "<table class=\"simpletable\">\n",
       "<tr>\n",
       "      <td></td>         <th>coef</th>     <th>std err</th>      <th>t</th>      <th>P>|t|</th>  <th>[0.025</th>    <th>0.975]</th>  \n",
       "</tr>\n",
       "<tr>\n",
       "  <th>Intercept</th> <td>   24.3412</td> <td>   14.221</td> <td>    1.712</td> <td> 0.088</td> <td>   -3.667</td> <td>   52.349</td>\n",
       "</tr>\n",
       "<tr>\n",
       "  <th>Height</th>    <td>   -0.0746</td> <td>    0.202</td> <td>   -0.369</td> <td> 0.712</td> <td>   -0.473</td> <td>    0.323</td>\n",
       "</tr>\n",
       "</table>\n",
       "<table class=\"simpletable\">\n",
       "<tr>\n",
       "  <th>Omnibus:</th>       <td> 2.244</td> <th>  Durbin-Watson:     </th> <td>   1.463</td>\n",
       "</tr>\n",
       "<tr>\n",
       "  <th>Prob(Omnibus):</th> <td> 0.326</td> <th>  Jarque-Bera (JB):  </th> <td>   2.059</td>\n",
       "</tr>\n",
       "<tr>\n",
       "  <th>Skew:</th>          <td> 0.134</td> <th>  Prob(JB):          </th> <td>   0.357</td>\n",
       "</tr>\n",
       "<tr>\n",
       "  <th>Kurtosis:</th>      <td> 2.646</td> <th>  Cond. No.          </th> <td>1.90e+03</td>\n",
       "</tr>\n",
       "</table><br/><br/>Warnings:<br/>[1] Standard Errors assume that the covariance matrix of the errors is correctly specified.<br/>[2] The condition number is large, 1.9e+03. This might indicate that there are<br/>strong multicollinearity or other numerical problems."
      ],
      "text/plain": [
       "<class 'statsmodels.iolib.summary.Summary'>\n",
       "\"\"\"\n",
       "                            OLS Regression Results                            \n",
       "==============================================================================\n",
       "Dep. Variable:                bodyfat   R-squared:                       0.001\n",
       "Model:                            OLS   Adj. R-squared:                 -0.003\n",
       "Method:                 Least Squares   F-statistic:                    0.1362\n",
       "Date:                Sun, 17 May 2020   Prob (F-statistic):              0.712\n",
       "Time:                        23:00:10   Log-Likelihood:                -887.97\n",
       "No. Observations:                 251   AIC:                             1780.\n",
       "Df Residuals:                     249   BIC:                             1787.\n",
       "Df Model:                           1                                         \n",
       "Covariance Type:            nonrobust                                         \n",
       "==============================================================================\n",
       "                 coef    std err          t      P>|t|      [0.025      0.975]\n",
       "------------------------------------------------------------------------------\n",
       "Intercept     24.3412     14.221      1.712      0.088      -3.667      52.349\n",
       "Height        -0.0746      0.202     -0.369      0.712      -0.473       0.323\n",
       "==============================================================================\n",
       "Omnibus:                        2.244   Durbin-Watson:                   1.463\n",
       "Prob(Omnibus):                  0.326   Jarque-Bera (JB):                2.059\n",
       "Skew:                           0.134   Prob(JB):                        0.357\n",
       "Kurtosis:                       2.646   Cond. No.                     1.90e+03\n",
       "==============================================================================\n",
       "\n",
       "Warnings:\n",
       "[1] Standard Errors assume that the covariance matrix of the errors is correctly specified.\n",
       "[2] The condition number is large, 1.9e+03. This might indicate that there are\n",
       "strong multicollinearity or other numerical problems.\n",
       "\"\"\""
      ]
     },
     "execution_count": 103,
     "metadata": {},
     "output_type": "execute_result"
    }
   ],
   "source": [
    "model = sm.OLS.from_formula(\"bodyfat ~ Height\", data=da)\n",
    "result = model.fit()\n",
    "result.summary()"
   ]
  },
  {
   "cell_type": "markdown",
   "metadata": {},
   "source": [
    "<br>\n",
    "\n",
    "#### Inferencia:\n",
    "\n",
    "<p style='text-align: justify;'> Por último, este modelo ajustado implica que cuando comparamos dos personas con una pulgada de diferencia, el sujeto con una pulgada más de altura tendrá, en promedio, 0.07 unidades menos de porcentaje de grasa corporal. Tomando en cuenta que el grupo de personas está dentro de los pesos de 64 y 77 libras. Esto significaría que el sujeto con mayor altura tendrá una diferencia de 0.91 unidades con el sujeto de menor altura en el grupo únicamente por su diferencia de altura. Esto se interpreta como un cambio no significativo en comparación con la desviación estándar de la muestra del porcentaje de grasa corporal. También se evalúa la correlación entre las dos variables y su R-cuadrado es del 0.001. Esto significa que el 0.1% de la variabilidad del porcentaje de grasa corporal es explicada por la altura. </p>\n"
   ]
  },
  {
   "cell_type": "markdown",
   "metadata": {},
   "source": [
    "<br>\n",
    "\n",
    "## Modelo de regresión respecto al Peso, Altura y Edad:\n",
    "***"
   ]
  },
  {
   "cell_type": "code",
   "execution_count": 104,
   "metadata": {},
   "outputs": [
    {
     "data": {
      "text/html": [
       "<table class=\"simpletable\">\n",
       "<caption>OLS Regression Results</caption>\n",
       "<tr>\n",
       "  <th>Dep. Variable:</th>         <td>bodyfat</td>     <th>  R-squared:         </th> <td>   0.553</td>\n",
       "</tr>\n",
       "<tr>\n",
       "  <th>Model:</th>                   <td>OLS</td>       <th>  Adj. R-squared:    </th> <td>   0.547</td>\n",
       "</tr>\n",
       "<tr>\n",
       "  <th>Method:</th>             <td>Least Squares</td>  <th>  F-statistic:       </th> <td>   101.7</td>\n",
       "</tr>\n",
       "<tr>\n",
       "  <th>Date:</th>             <td>Sun, 17 May 2020</td> <th>  Prob (F-statistic):</th> <td>6.80e-43</td>\n",
       "</tr>\n",
       "<tr>\n",
       "  <th>Time:</th>                 <td>23:00:11</td>     <th>  Log-Likelihood:    </th> <td> -787.10</td>\n",
       "</tr>\n",
       "<tr>\n",
       "  <th>No. Observations:</th>      <td>   251</td>      <th>  AIC:               </th> <td>   1582.</td>\n",
       "</tr>\n",
       "<tr>\n",
       "  <th>Df Residuals:</th>          <td>   247</td>      <th>  BIC:               </th> <td>   1596.</td>\n",
       "</tr>\n",
       "<tr>\n",
       "  <th>Df Model:</th>              <td>     3</td>      <th>                     </th>     <td> </td>   \n",
       "</tr>\n",
       "<tr>\n",
       "  <th>Covariance Type:</th>      <td>nonrobust</td>    <th>                     </th>     <td> </td>   \n",
       "</tr>\n",
       "</table>\n",
       "<table class=\"simpletable\">\n",
       "<tr>\n",
       "      <td></td>         <th>coef</th>     <th>std err</th>      <th>t</th>      <th>P>|t|</th>  <th>[0.025</th>    <th>0.975]</th>  \n",
       "</tr>\n",
       "<tr>\n",
       "  <th>Intercept</th> <td>   52.4151</td> <td>   10.792</td> <td>    4.857</td> <td> 0.000</td> <td>   31.159</td> <td>   73.671</td>\n",
       "</tr>\n",
       "<tr>\n",
       "  <th>Age</th>       <td>    0.1428</td> <td>    0.029</td> <td>    4.886</td> <td> 0.000</td> <td>    0.085</td> <td>    0.200</td>\n",
       "</tr>\n",
       "<tr>\n",
       "  <th>Weight</th>    <td>    0.2233</td> <td>    0.014</td> <td>   16.004</td> <td> 0.000</td> <td>    0.196</td> <td>    0.251</td>\n",
       "</tr>\n",
       "<tr>\n",
       "  <th>Height</th>    <td>   -1.1329</td> <td>    0.162</td> <td>   -7.000</td> <td> 0.000</td> <td>   -1.452</td> <td>   -0.814</td>\n",
       "</tr>\n",
       "</table>\n",
       "<table class=\"simpletable\">\n",
       "<tr>\n",
       "  <th>Omnibus:</th>       <td> 2.310</td> <th>  Durbin-Watson:     </th> <td>   1.792</td>\n",
       "</tr>\n",
       "<tr>\n",
       "  <th>Prob(Omnibus):</th> <td> 0.315</td> <th>  Jarque-Bera (JB):  </th> <td>   1.971</td>\n",
       "</tr>\n",
       "<tr>\n",
       "  <th>Skew:</th>          <td>-0.169</td> <th>  Prob(JB):          </th> <td>   0.373</td>\n",
       "</tr>\n",
       "<tr>\n",
       "  <th>Kurtosis:</th>      <td> 3.272</td> <th>  Cond. No.          </th> <td>6.07e+03</td>\n",
       "</tr>\n",
       "</table><br/><br/>Warnings:<br/>[1] Standard Errors assume that the covariance matrix of the errors is correctly specified.<br/>[2] The condition number is large, 6.07e+03. This might indicate that there are<br/>strong multicollinearity or other numerical problems."
      ],
      "text/plain": [
       "<class 'statsmodels.iolib.summary.Summary'>\n",
       "\"\"\"\n",
       "                            OLS Regression Results                            \n",
       "==============================================================================\n",
       "Dep. Variable:                bodyfat   R-squared:                       0.553\n",
       "Model:                            OLS   Adj. R-squared:                  0.547\n",
       "Method:                 Least Squares   F-statistic:                     101.7\n",
       "Date:                Sun, 17 May 2020   Prob (F-statistic):           6.80e-43\n",
       "Time:                        23:00:11   Log-Likelihood:                -787.10\n",
       "No. Observations:                 251   AIC:                             1582.\n",
       "Df Residuals:                     247   BIC:                             1596.\n",
       "Df Model:                           3                                         \n",
       "Covariance Type:            nonrobust                                         \n",
       "==============================================================================\n",
       "                 coef    std err          t      P>|t|      [0.025      0.975]\n",
       "------------------------------------------------------------------------------\n",
       "Intercept     52.4151     10.792      4.857      0.000      31.159      73.671\n",
       "Age            0.1428      0.029      4.886      0.000       0.085       0.200\n",
       "Weight         0.2233      0.014     16.004      0.000       0.196       0.251\n",
       "Height        -1.1329      0.162     -7.000      0.000      -1.452      -0.814\n",
       "==============================================================================\n",
       "Omnibus:                        2.310   Durbin-Watson:                   1.792\n",
       "Prob(Omnibus):                  0.315   Jarque-Bera (JB):                1.971\n",
       "Skew:                          -0.169   Prob(JB):                        0.373\n",
       "Kurtosis:                       3.272   Cond. No.                     6.07e+03\n",
       "==============================================================================\n",
       "\n",
       "Warnings:\n",
       "[1] Standard Errors assume that the covariance matrix of the errors is correctly specified.\n",
       "[2] The condition number is large, 6.07e+03. This might indicate that there are\n",
       "strong multicollinearity or other numerical problems.\n",
       "\"\"\""
      ]
     },
     "execution_count": 104,
     "metadata": {},
     "output_type": "execute_result"
    }
   ],
   "source": [
    "model = sm.OLS.from_formula(\"bodyfat ~ Age + Weight + Height\", data=da)\n",
    "result = model.fit()\n",
    "result.summary()"
   ]
  },
  {
   "cell_type": "markdown",
   "metadata": {},
   "source": [
    "<br>\n",
    "\n",
    "#### Inferencia:\n",
    "\n",
    "<p style='text-align: justify;'> Para este modelo ajustado multivariable, se pueden implicar lo siguiente de cada uno de los coeficientes: </p>\n",
    "\n",
    " - **Coeficiente 1:** Por cada año de edad más que tenga un sujeto con respecto a otro, se tendrá, en promedio, 0.14 unidades más de porcentaje de grasa.\n",
    " - **Coeficiente 2:** Por cada libra de más que tenga un sujeto con respecto a otro, se tendrá, en promedio, 0.22 unidades más de porcentaje de grasa.\n",
    " - **Coeficiente 3:** Por cada pulgada de más que tenga un sujeto con respecto a otro, se tendrá, en promedio, 1.13 unidades menos de porcentaje de grasa.\n",
    "\n",
    "<p style='text-align: justify;'> Agregando a esto, la correlación entre el conjunto de las variables independientes y el porcentaje de grasa corporal es de 0.553. Lo que quiere decir que el 55.3% de la variabilidad del porcentaje de grasa está dado por el peso, altura y edad. </p>\n",
    "\n",
    "El modelo terminaria teniendo la siguiente forma:\n",
    "\n",
    "\\begin{align}\n",
    "y = 52.41 + 0.14(edad) + 0.22 (peso) - 1.13(altura)\n",
    "\\end{align}\n",
    "\n",
    "<br>\n"
   ]
  },
  {
   "cell_type": "markdown",
   "metadata": {},
   "source": [
    "<br>\n",
    "\n",
    "## Grafico de Modelo:\n",
    "***\n"
   ]
  },
  {
   "cell_type": "markdown",
   "metadata": {},
   "source": []
  },
  {
   "cell_type": "code",
   "execution_count": 106,
   "metadata": {},
   "outputs": [
    {
     "name": "stderr",
     "output_type": "stream",
     "text": [
      "C:\\Users\\Juanca\\anaconda3\\lib\\site-packages\\statsmodels\\sandbox\\predict_functional.py:171: ValueWarning: 'Wrist', 'Neck', 'Ankle', 'Forearm', 'Knee', 'Heightgrp', 'Density', 'Biceps', 'Weightgrp', 'Abdomen', 'Agegrp', 'Thigh', 'Chest', 'bodyfatgrp', 'Hip' in data frame but not in summaries or values.\n",
      "  ValueWarning)\n"
     ]
    },
    {
     "data": {
      "text/plain": [
       "Text(0, 0.5, 'Bodyfat percentage')"
      ]
     },
     "execution_count": 106,
     "metadata": {},
     "output_type": "execute_result"
    },
    {
     "data": {
      "image/png": "[encoded data removed]",
      "text/plain": [
       "<Figure size 432x288 with 1 Axes>"
      ]
     },
     "metadata": {
      "needs_background": "light"
     },
     "output_type": "display_data"
    }
   ],
   "source": [
    "values = {\"Weight\": 176, \"Height\": 72.3}\n",
    "\n",
    "pr, cb, fv = pf(result, \"Age\",\n",
    "                values=values, ci_method=\"simultaneous\")\n",
    "\n",
    "ax = sns.lineplot(fv, pr, lw=4)\n",
    "ax.fill_between(fv, cb[:, 0], cb[:, 1], color='grey', alpha=0.4)\n",
    "ax.set_xlabel(\"Age\")\n",
    "ax.set_ylabel(\"Bodyfat percentage\")"
   ]
  },
  {
   "cell_type": "markdown",
   "metadata": {},
   "source": [
    "\n",
    "*** \n",
    "# <center> **Predicción**\n",
    "\n",
    "\n",
    "***"
   ]
  },
  {
   "cell_type": "markdown",
   "metadata": {},
   "source": [
    "<br>\n",
    "\n",
    "Para realizar la predicción se utilizara datos reales de *Andres Tejeda*  tomados de en consulta nutricional:\n",
    "\n",
    " - **Altura =** 70.07 pulgadas.\n",
    " - **Peso =** 167.33 lbs.\n",
    " - **Edad =** 25 años.\n",
    " \n",
    "El porcentaje de grasa corporal calculado por la nutricionista en dicha consulta fue de 11.7 %, calculado a partir de otras variables como el diametro de la cintura y el abdomen. El valor resultante de la predicción para una persona de 25 años sera un valor en el intervalo 11.8 a 14.5, hacienco uso de la gráfica modelada anteriormente.   \n",
    "\n"
   ]
  },
  {
   "cell_type": "code",
   "execution_count": 114,
   "metadata": {},
   "outputs": [
    {
     "name": "stdout",
     "output_type": "stream",
     "text": [
      "El valor PGC calculado es de 13.543500000000009\n"
     ]
    }
   ],
   "source": [
    "y = 52.41 + (0.14 * (25)) + (0.22 * (167.33)) - (1.13 * (70.07))\n",
    "print(\"El valor PGC calculado es de \" + str(y))"
   ]
  },
  {
   "cell_type": "code",
   "execution_count": 120,
   "metadata": {},
   "outputs": [
    {
     "name": "stdout",
     "output_type": "stream",
     "text": [
      "El % de error es de 15.726495726495726 %\n"
     ]
    }
   ],
   "source": [
    "Porcentaje_error =  ((- 11.7 + 13.54)/11.7) * 100\n",
    "print(\"El % de error es de \" + str(Porcentaje_error) + ' %')"
   ]
  },
  {
   "cell_type": "markdown",
   "metadata": {},
   "source": [
    "***\n",
    "# **Conclusiones**:\n",
    "\n",
    " + Por si solas, las variables independientes no tienen la correlación suficiente con el porcentaje de grasa corporal, por lo que sus predicciones no son tan precisas.\n",
    " + Se observa que el peso y la edad si tienen relaciones positivas con respecto al porcentaje de grasa corporal de una persona.\n",
    " + El resultado de la predicción estuvo 1.84 unidades por arriba del valor real del porcentaje de grasa corporal del sujeto, esto significa que tiene un porcentaje de error de **15.72%**\n",
    " + Respondiendo la pregunta de investigación; se puede comprobar que es un modelo base robusto capaz de realizar una estimación aproximada de la real, se buscaría mejorar su precisin incorporando variables como los diametros de cintura y abdomen.\n",
    "\n",
    "***\n",
    "***"
   ]
  },
  {
   "cell_type": "code",
   "execution_count": null,
   "metadata": {},
   "outputs": [],
   "source": []
  }
 ],
 "metadata": {
  "kernelspec": {
   "display_name": "Python 3",
   "language": "python",
   "name": "python3"
  },
  "language_info": {
   "codemirror_mode": {
    "name": "ipython",
    "version": 3
   },
   "file_extension": ".py",
   "mimetype": "text/x-python",
   "name": "python",
   "nbconvert_exporter": "python",
   "pygments_lexer": "ipython3",
   "version": "3.8.2"
  }
 },
 "nbformat": 4,
 "nbformat_minor": 4
}
