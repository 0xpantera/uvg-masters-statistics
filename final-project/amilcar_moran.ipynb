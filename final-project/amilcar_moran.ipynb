{
 "cells": [
  {
   "cell_type": "markdown",
   "metadata": {},
   "source": [
    "# Red Wine\n",
    "\n",
    "Para el siguiente proyecto se útiliza un data set de calidad de vinos [Wine Quality](https://www.kaggle.com/atharvachute/wine-quality-dataset). La data set contiene propiedades fisicoquímicas relacionadas con el vino tinto."
   ]
  },
  {
   "cell_type": "markdown",
   "metadata": {},
   "source": [
    "## Pregunta de investigación\n",
    "\n",
    "¿Son las variables de parámetro gustativo útiles para predecir la nota de calidad del vino tinto?"
   ]
  },
  {
   "cell_type": "code",
   "execution_count": 1,
   "metadata": {},
   "outputs": [],
   "source": [
    "import matplotlib.pyplot as plt\n",
    "import seaborn as sns\n",
    "import pandas as pd\n",
    "import statsmodels.api as sm\n",
    "import numpy as np"
   ]
  },
  {
   "cell_type": "code",
   "execution_count": 2,
   "metadata": {},
   "outputs": [],
   "source": [
    "# Read the Wine quality data\n",
    "da = pd.read_csv(\"../data/winequality_red.csv\")\n",
    "da.rename(columns = {'volatile acidity': 'volatile_acidity'}, inplace = True)\n",
    "\n",
    "# Drop unused columns\n",
    "cols = [\"volatile_acidity\", \"alcohol\", \"pH\", \"quality\"]\n",
    "da = da[cols]"
   ]
  },
  {
   "cell_type": "markdown",
   "metadata": {},
   "source": [
    "## Análisis de datos exploratorios\n",
    "\n",
    "Al analizar la data, la variable alcohol según los expertos catadores depende mucho del gusto personal, por lo que quiero cuestinar primeramente la siguiente interrogante: ¿Existe una relación significativa (positiva) entre la calidad del vino tino y el grado de alcohol?\n",
    "\n",
    "Al observar la gráfica podemos deducir que existe una relación lineal moderada positiva, por lo que en nuestro módelo analizaremos la variable del alcohol, juntamente con las variables que expliquen un parámetro gustativo. "
   ]
  },
  {
   "cell_type": "code",
   "execution_count": 63,
   "metadata": {},
   "outputs": [
    {
     "data": {
      "text/plain": [
       "<matplotlib.axes._subplots.AxesSubplot at 0x1d777871c10>"
      ]
     },
     "execution_count": 63,
     "metadata": {},
     "output_type": "execute_result"
    },
    {
     "data": {
      "image/png": "[encoded data removed]",
      "text/plain": [
       "<Figure size 432x288 with 1 Axes>"
      ]
     },
     "metadata": {
      "needs_background": "light"
     },
     "output_type": "display_data"
    }
   ],
   "source": [
    "sns.regplot(x=\"alcohol\", y=\"quality\", data=da, color=\"red\", fit_reg=True, scatter_kws={\"alpha\": 0.2})"
   ]
  },
  {
   "cell_type": "code",
   "execution_count": 59,
   "metadata": {},
   "outputs": [
    {
     "data": {
      "text/plain": [
       "array([[1.        , 0.47616632],\n",
       "       [0.47616632, 1.        ]])"
      ]
     },
     "execution_count": 59,
     "metadata": {},
     "output_type": "execute_result"
    }
   ],
   "source": [
    "np.corrcoef(da.quality,da.alcohol"
   ]
  },
  {
   "cell_type": "markdown",
   "metadata": {},
   "source": [
    "En el siguiente histograma podemos observar que la variable _`quality`_, es una distribución normal, centrada y con la mayoria de puntuaciones al rededor de 5 y 6."
   ]
  },
  {
   "cell_type": "code",
   "execution_count": 3,
   "metadata": {},
   "outputs": [
    {
     "data": {
      "text/plain": [
       "<function matplotlib.pyplot.show(*args, **kw)>"
      ]
     },
     "execution_count": 3,
     "metadata": {},
     "output_type": "execute_result"
    },
    {
     "data": {
      "image/png": "[encoded data removed]",
      "text/plain": [
       "<Figure size 432x288 with 1 Axes>"
      ]
     },
     "metadata": {
      "needs_background": "light"
     },
     "output_type": "display_data"
    }
   ],
   "source": [
    "plt.hist(x = da.quality, bins='auto', color='red')\n",
    "plt.title('Wine Quality')\n",
    "plt.show"
   ]
  },
  {
   "cell_type": "markdown",
   "metadata": {},
   "source": [
    "A continuación se expone la estadistica descriptiva de las variables que utilizaremos en el modelado, que nos ayudarán a enterder las variables objeto de estudio, su explicación se detalla más adelante en la sección de modelado."
   ]
  },
  {
   "cell_type": "code",
   "execution_count": 43,
   "metadata": {
    "scrolled": true
   },
   "outputs": [
    {
     "data": {
      "text/html": [
       "<div>\n",
       "<style scoped>\n",
       "    .dataframe tbody tr th:only-of-type {\n",
       "        vertical-align: middle;\n",
       "    }\n",
       "\n",
       "    .dataframe tbody tr th {\n",
       "        vertical-align: top;\n",
       "    }\n",
       "\n",
       "    .dataframe thead th {\n",
       "        text-align: right;\n",
       "    }\n",
       "</style>\n",
       "<table border=\"1\" class=\"dataframe\">\n",
       "  <thead>\n",
       "    <tr style=\"text-align: right;\">\n",
       "      <th></th>\n",
       "      <th>volatile_acidity</th>\n",
       "      <th>alcohol</th>\n",
       "      <th>pH</th>\n",
       "      <th>quality</th>\n",
       "    </tr>\n",
       "  </thead>\n",
       "  <tbody>\n",
       "    <tr>\n",
       "      <th>count</th>\n",
       "      <td>1599.000000</td>\n",
       "      <td>1599.000000</td>\n",
       "      <td>1599.000000</td>\n",
       "      <td>1599.000000</td>\n",
       "    </tr>\n",
       "    <tr>\n",
       "      <th>mean</th>\n",
       "      <td>0.527821</td>\n",
       "      <td>10.422983</td>\n",
       "      <td>3.311113</td>\n",
       "      <td>5.636023</td>\n",
       "    </tr>\n",
       "    <tr>\n",
       "      <th>std</th>\n",
       "      <td>0.179060</td>\n",
       "      <td>1.065668</td>\n",
       "      <td>0.154386</td>\n",
       "      <td>0.807569</td>\n",
       "    </tr>\n",
       "    <tr>\n",
       "      <th>min</th>\n",
       "      <td>0.120000</td>\n",
       "      <td>8.400000</td>\n",
       "      <td>2.740000</td>\n",
       "      <td>3.000000</td>\n",
       "    </tr>\n",
       "    <tr>\n",
       "      <th>25%</th>\n",
       "      <td>0.390000</td>\n",
       "      <td>9.500000</td>\n",
       "      <td>3.210000</td>\n",
       "      <td>5.000000</td>\n",
       "    </tr>\n",
       "    <tr>\n",
       "      <th>50%</th>\n",
       "      <td>0.520000</td>\n",
       "      <td>10.200000</td>\n",
       "      <td>3.310000</td>\n",
       "      <td>6.000000</td>\n",
       "    </tr>\n",
       "    <tr>\n",
       "      <th>75%</th>\n",
       "      <td>0.640000</td>\n",
       "      <td>11.100000</td>\n",
       "      <td>3.400000</td>\n",
       "      <td>6.000000</td>\n",
       "    </tr>\n",
       "    <tr>\n",
       "      <th>max</th>\n",
       "      <td>1.580000</td>\n",
       "      <td>14.900000</td>\n",
       "      <td>4.010000</td>\n",
       "      <td>8.000000</td>\n",
       "    </tr>\n",
       "  </tbody>\n",
       "</table>\n",
       "</div>"
      ],
      "text/plain": [
       "       volatile_acidity      alcohol           pH      quality\n",
       "count       1599.000000  1599.000000  1599.000000  1599.000000\n",
       "mean           0.527821    10.422983     3.311113     5.636023\n",
       "std            0.179060     1.065668     0.154386     0.807569\n",
       "min            0.120000     8.400000     2.740000     3.000000\n",
       "25%            0.390000     9.500000     3.210000     5.000000\n",
       "50%            0.520000    10.200000     3.310000     6.000000\n",
       "75%            0.640000    11.100000     3.400000     6.000000\n",
       "max            1.580000    14.900000     4.010000     8.000000"
      ]
     },
     "execution_count": 43,
     "metadata": {},
     "output_type": "execute_result"
    }
   ],
   "source": [
    "da.describe()"
   ]
  },
  {
   "cell_type": "markdown",
   "metadata": {},
   "source": [
    "## Modelado\n",
    "Para el proyecto se utilizó una regresión lineal multiple, ya que la variable independiente _`quality`_, no era binaria. Las variables utilizadas en el modelo son las siguientes:\n",
    "\n",
    "* _**Variable dependiente**:_ _`quality`_, esta es la variable resultado, define a calidad del vino en una escala de 1 a 10 por un catador, generalmente la nota se define considerando varios párametros, **\"los visuales\"**, por ejemplo: el color la densidad y el hierro y tambien **\"los gustativos\"**, por ejemplo: el grado de alcohólico, pH, Acidez Volátil.\n"
   ]
  },
  {
   "cell_type": "markdown",
   "metadata": {},
   "source": [
    "* _**Variables independientes**:_ las variables que se eligieron para este modelo son parámetros **\"gustativos\"** , son variables que influyen la varible _`quality`_, las variables que se tomaron en consideración son las siguientes:\n"
   ]
  },
  {
   "cell_type": "markdown",
   "metadata": {},
   "source": [
    "1. _`alcohol`_: Es una variable que determina el grado de alcohol, según [Joanna Vallejo](https://sommelieralacarta.com/6-par%C3%A1metros-que-miden-la-calidad-de-un-vino-2a8602eb19f5), los vinos tintos tiene de 12 a 16 grados de alcohol, y el grado de alcohol dependende la fermentación, el tipo de uvas y el clima, por ejemplo: en climas calidos, las uvas generan más azucar, por lo tanto más alcohol, lo contrario sucede en climas frios."
   ]
  },
  {
   "cell_type": "markdown",
   "metadata": {},
   "source": [
    "2. _`pH`_: Es una variable que determina el grado de acidez del vino, la fuerza relativa de esos ácidos. Es una medida logaritmica negativa de base 10, que se considera en una escala de 0 hasta 14, tomándose el 7 como neutro, siendo los valores más cercanos a 0 los que indican más acides y los valores más cercanos a 14 los que indican que es más alcalina o básica."
   ]
  },
  {
   "cell_type": "markdown",
   "metadata": {},
   "source": [
    "3. _`volatile acidity`_: Esta variable dotan al vino de la acidez necesaria para su mejor conservación, si los ácidos aumenta en cata se perciben en nariz y boca como avinagrados. La acidez volátil se expresa en g/L y normalmente estará según [Quercuslab](https://quercuslab.es/blog/determinacion-acidez-volatil-en-vinos/) entre 0,20 y 0,70 según el tipo de vino y proceso de elaboración."
   ]
  },
  {
   "cell_type": "markdown",
   "metadata": {},
   "source": [
    "_**Razonamiento de la elección de valiables**:_\n",
    "Las variables que se eliguieron fueron debido a la relación que tenían para explicar párametros gustativos del vino tinto, relacionado a la sensación del sabor que estas variables proporcionan, y se excluyeron las variables que influyeran en los parámetros visuales, por ejemplo: _`density`_, o parametros más asociados a cualidades de conservación y que no afecta el sentido gustativo, por ejemplo: _`sulphates`_."
   ]
  },
  {
   "cell_type": "markdown",
   "metadata": {},
   "source": [
    "_**Interpretación de los coeficientes**:_\n",
    "\n",
    "1. R-cuadrado es **0.323**, significa que el modelo explica el 32,3% de la varianza de la variable _`quality`_ . Casi un tercio de la justificación de la calidad del vino tinto es explicada por parametros gustativos del vino (alcohol, pH ya acidez volátil).\n",
    "\n",
    "2. Significación de t:  _`P>|t|`_: Las variables de parametros gustativos sí explican la justificación de la calidad media del vino tinto, ya que la significación es menor de 0,05. \n",
    "\n",
    "3. De los coeficiente de las variables de parámetros gustativos, la que más explica la nota de calidad de los vinos tintos es _`volatile acidity`_, **1.28** porque está más alejada a 0, y _`alcohol`_, **0.32** es la que menos explica la relación con la nota de calidad de los vinos, porque está más cerca a 0.  "
   ]
  },
  {
   "cell_type": "code",
   "execution_count": 37,
   "metadata": {},
   "outputs": [
    {
     "data": {
      "text/html": [
       "<table class=\"simpletable\">\n",
       "<caption>OLS Regression Results</caption>\n",
       "<tr>\n",
       "  <th>Dep. Variable:</th>         <td>quality</td>     <th>  R-squared:         </th> <td>   0.323</td> \n",
       "</tr>\n",
       "<tr>\n",
       "  <th>Model:</th>                   <td>OLS</td>       <th>  Adj. R-squared:    </th> <td>   0.321</td> \n",
       "</tr>\n",
       "<tr>\n",
       "  <th>Method:</th>             <td>Least Squares</td>  <th>  F-statistic:       </th> <td>   253.3</td> \n",
       "</tr>\n",
       "<tr>\n",
       "  <th>Date:</th>             <td>Sun, 10 May 2020</td> <th>  Prob (F-statistic):</th> <td>1.99e-134</td>\n",
       "</tr>\n",
       "<tr>\n",
       "  <th>Time:</th>                 <td>21:38:32</td>     <th>  Log-Likelihood:    </th> <td> -1615.1</td> \n",
       "</tr>\n",
       "<tr>\n",
       "  <th>No. Observations:</th>      <td>  1599</td>      <th>  AIC:               </th> <td>   3238.</td> \n",
       "</tr>\n",
       "<tr>\n",
       "  <th>Df Residuals:</th>          <td>  1595</td>      <th>  BIC:               </th> <td>   3260.</td> \n",
       "</tr>\n",
       "<tr>\n",
       "  <th>Df Model:</th>              <td>     3</td>      <th>                     </th>     <td> </td>    \n",
       "</tr>\n",
       "<tr>\n",
       "  <th>Covariance Type:</th>      <td>nonrobust</td>    <th>                     </th>     <td> </td>    \n",
       "</tr>\n",
       "</table>\n",
       "<table class=\"simpletable\">\n",
       "<tr>\n",
       "          <td></td>            <th>coef</th>     <th>std err</th>      <th>t</th>      <th>P>|t|</th>  <th>[0.025</th>    <th>0.975]</th>  \n",
       "</tr>\n",
       "<tr>\n",
       "  <th>Intercept</th>        <td>    4.2688</td> <td>    0.369</td> <td>   11.569</td> <td> 0.000</td> <td>    3.545</td> <td>    4.993</td>\n",
       "</tr>\n",
       "<tr>\n",
       "  <th>alcohol</th>          <td>    0.3299</td> <td>    0.017</td> <td>   19.947</td> <td> 0.000</td> <td>    0.298</td> <td>    0.362</td>\n",
       "</tr>\n",
       "<tr>\n",
       "  <th>pH</th>               <td>   -0.4219</td> <td>    0.115</td> <td>   -3.667</td> <td> 0.000</td> <td>   -0.648</td> <td>   -0.196</td>\n",
       "</tr>\n",
       "<tr>\n",
       "  <th>volatile_acidity</th> <td>   -1.2788</td> <td>    0.099</td> <td>  -12.902</td> <td> 0.000</td> <td>   -1.473</td> <td>   -1.084</td>\n",
       "</tr>\n",
       "</table>\n",
       "<table class=\"simpletable\">\n",
       "<tr>\n",
       "  <th>Omnibus:</th>       <td>15.445</td> <th>  Durbin-Watson:     </th> <td>   1.741</td>\n",
       "</tr>\n",
       "<tr>\n",
       "  <th>Prob(Omnibus):</th> <td> 0.000</td> <th>  Jarque-Bera (JB):  </th> <td>  22.661</td>\n",
       "</tr>\n",
       "<tr>\n",
       "  <th>Skew:</th>          <td>-0.070</td> <th>  Prob(JB):          </th> <td>1.20e-05</td>\n",
       "</tr>\n",
       "<tr>\n",
       "  <th>Kurtosis:</th>      <td> 3.566</td> <th>  Cond. No.          </th> <td>    254.</td>\n",
       "</tr>\n",
       "</table><br/><br/>Warnings:<br/>[1] Standard Errors assume that the covariance matrix of the errors is correctly specified."
      ],
      "text/plain": [
       "<class 'statsmodels.iolib.summary.Summary'>\n",
       "\"\"\"\n",
       "                            OLS Regression Results                            \n",
       "==============================================================================\n",
       "Dep. Variable:                quality   R-squared:                       0.323\n",
       "Model:                            OLS   Adj. R-squared:                  0.321\n",
       "Method:                 Least Squares   F-statistic:                     253.3\n",
       "Date:                Sun, 10 May 2020   Prob (F-statistic):          1.99e-134\n",
       "Time:                        21:38:32   Log-Likelihood:                -1615.1\n",
       "No. Observations:                1599   AIC:                             3238.\n",
       "Df Residuals:                    1595   BIC:                             3260.\n",
       "Df Model:                           3                                         \n",
       "Covariance Type:            nonrobust                                         \n",
       "====================================================================================\n",
       "                       coef    std err          t      P>|t|      [0.025      0.975]\n",
       "------------------------------------------------------------------------------------\n",
       "Intercept            4.2688      0.369     11.569      0.000       3.545       4.993\n",
       "alcohol              0.3299      0.017     19.947      0.000       0.298       0.362\n",
       "pH                  -0.4219      0.115     -3.667      0.000      -0.648      -0.196\n",
       "volatile_acidity    -1.2788      0.099    -12.902      0.000      -1.473      -1.084\n",
       "==============================================================================\n",
       "Omnibus:                       15.445   Durbin-Watson:                   1.741\n",
       "Prob(Omnibus):                  0.000   Jarque-Bera (JB):               22.661\n",
       "Skew:                          -0.070   Prob(JB):                     1.20e-05\n",
       "Kurtosis:                       3.566   Cond. No.                         254.\n",
       "==============================================================================\n",
       "\n",
       "Warnings:\n",
       "[1] Standard Errors assume that the covariance matrix of the errors is correctly specified.\n",
       "\"\"\""
      ]
     },
     "execution_count": 37,
     "metadata": {},
     "output_type": "execute_result"
    }
   ],
   "source": [
    "model = sm.OLS.from_formula(\"quality ~ alcohol + pH + volatile_acidity\", data=da)\n",
    "result = model.fit()\n",
    "result.summary()"
   ]
  },
  {
   "cell_type": "markdown",
   "metadata": {},
   "source": [
    "_**Prediciendo una variable**_\n",
    "\n",
    "Con los resultados anteriores, vamos a responder la siguiente pregunta:\n",
    "\n",
    "Considerando solamente parámetros gustativos, ¿Cúal sería la calidad media de un vino tinto si el porcentaje de alcohol es menor al normal (9 grados), considerando los valores de la media de pH y volatile acidity? \n",
    "\n",
    "*  _`alcohol`_ = 9\n",
    "*  _`pH`_ = 3.311113\n",
    "*  _`volatile acidity`_ = 0.527821\n",
    "\n",
    "quality predecido = 4.2688 + 0.3299(alcohol) - 0.4219(pH) - 1.2788 (volatile acidity)\n",
    "\n"
   ]
  },
  {
   "cell_type": "code",
   "execution_count": 10,
   "metadata": {},
   "outputs": [
    {
     "name": "stdout",
     "output_type": "stream",
     "text": [
      "5.165963930499999\n"
     ]
    }
   ],
   "source": [
    "prediction = (4.2688 + (0.3299 * 9 ) - (0.4219 * 3.311113) - (1.2788 * 0.527821))\n",
    "print (prediction)"
   ]
  },
  {
   "cell_type": "markdown",
   "metadata": {},
   "source": [
    "Considerando solamente parámetros gustativos, la calida media de un vino tinto estimada es **5.2** , si el porcentaje de alcohol es menor al normal (9 grados), considerando los valores de la media de pH y volatile acidity en la ecuación.\n",
    "\n",
    "Se puede observa, un menor grado normal de alcohol en los vinos tintos tiene como resultado una media estimada de calidad de **5.2**,  que es menor a la media de las notas de cataciones tomadas **5.6**."
   ]
  },
  {
   "cell_type": "markdown",
   "metadata": {},
   "source": [
    "_**Grafica del modelo**_\n",
    "\n",
    "Al observa la gráfica del modelo predictiva tomando como referencia los grados de alcohol, podemos concluir que aunque el alcohol es la variable que menos predice la nota de calificación de vino, esta si modifica el resultado, ya que con 95% de confianza el cambio promedio poblacional en el alcohol, para un incremento en un pH y un g/L de acidez volatil está estimado entre 0.298 y 0.362 grados de alcohol."
   ]
  },
  {
   "cell_type": "code",
   "execution_count": 64,
   "metadata": {},
   "outputs": [
    {
     "data": {
      "image/png": "[encoded data removed]",
      "text/plain": [
       "<Figure size 432x288 with 1 Axes>"
      ]
     },
     "metadata": {
      "needs_background": "light"
     },
     "output_type": "display_data"
    }
   ],
   "source": [
    "from statsmodels.sandbox.predict_functional import predict_functional\n",
    "\n",
    "# Fix certain variables at reference values.  Not all of these\n",
    "# variables are used here, but we provide them with a value anyway\n",
    "# to prevent a warning message from appearing.\n",
    "values = { \"pH\" : 3.311113, \"volatile_acidity\" : 0.527821 }\n",
    "\n",
    "# The returned values are the predicted values (pr), the confidence bands (cb),\n",
    "# and the function values (fv).\n",
    "pr, cb, fv = predict_functional(result, \"alcohol\",\n",
    "                values=values, ci_method=\"simultaneous\")\n",
    "\n",
    "ax = sns.lineplot(fv, pr, lw=4, color='red')\n",
    "ax.fill_between(fv, cb[:, 0], cb[:, 1], color='grey', alpha=0.4)\n",
    "ax.set_xlabel(\"alcohol\")\n",
    "_ = ax.set_ylabel(\"quality\")"
   ]
  },
  {
   "cell_type": "markdown",
   "metadata": {},
   "source": [
    "## Conclusiones"
   ]
  },
  {
   "cell_type": "markdown",
   "metadata": {},
   "source": [
    "Al analizar los datos de este data set de vinos tintos, relacionada a la pregunta de investigación: ¿Son las variables de parámetro gustativo útiles para predecir la nota de calidad del vino tinto?, podemos concluir que las tres variables que se tomaron en consideración (alcohol, pH y acidez volátil), son utiles para predecir en cierta manera la calidad del vino tinto, aunque no estén tan estechamente relacionadas, ya que son factores que influencian en la percepción del catador. Para futuras investigaciones se podria incluir parámetros visuales que permitan, observar más variables indirectamente relacionadas que permitan ser un factor diferencial, en la busqueda de nuevas formas para sobresalir de la competencia."
   ]
  }
 ],
 "metadata": {
  "kernelspec": {
   "display_name": "Python 3",
   "language": "python",
   "name": "python3"
  },
  "language_info": {
   "codemirror_mode": {
    "name": "ipython",
    "version": 3
   },
   "file_extension": ".py",
   "mimetype": "text/x-python",
   "name": "python",
   "nbconvert_exporter": "python",
   "pygments_lexer": "ipython3",
   "version": "3.8.2"
  }
 },
 "nbformat": 4,
 "nbformat_minor": 4
}
