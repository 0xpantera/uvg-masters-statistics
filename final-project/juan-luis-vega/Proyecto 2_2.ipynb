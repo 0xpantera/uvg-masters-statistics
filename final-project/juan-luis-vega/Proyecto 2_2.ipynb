{
 "cells": [
  {
   "cell_type": "markdown",
   "metadata": {},
   "source": [
    "# <center>MANAGERIAL STATISTICS</center>\n",
    "\n",
    "<img src=\"UVG.jpg\" style=\"width:250px;height:250px\"/>\n",
    "\n",
    "## <center>Proyecto Final</center>\n",
    "### <center>Regresión lineal múltiple</center>\n",
    "\n",
    "En el presente análisis se busca encontar un ***modelo de regresión lineal múltiple*** para calcular la **tasa de mortalidad** de una ciudad en función de su **ingreso per cápita**, su **densidad poblacional** y la **disponibilidad de doctores y hospitales** en la misma.\n",
    "\n",
    "El dataset a trabajar usa como referencia el libro ***Life In America's Small Cities*** de *G. Scott Thomas*, información que puede se consultada en el siguiente [link](https://college.cengage.com/mathematics/brase/understandable_statistics/7e/students/datasets/mlr/frames/frame.html)\n",
    "\n",
    "<img src=\"book_LIASC.jpg\" style=\"width:250px;height:400px\"/>\n",
    "\n",
    "\n",
    "Empezaremos cargando las librerías que se estarán utilizando para el análisis en cuestión"
   ]
  },
  {
   "cell_type": "code",
   "execution_count": 1,
   "metadata": {},
   "outputs": [],
   "source": [
    "import os\n",
    "import glob\n",
    "import datetime \n",
    "import numpy as np\n",
    "import pandas as pd\n",
    "import seaborn as sns # For plotting\n",
    "import matplotlib.pyplot as plt # For showing plots\n",
    "import statsmodels.api as sm\n",
    "\n",
    "os.chdir(\"..//data/proyecto_final\")"
   ]
  },
  {
   "cell_type": "markdown",
   "metadata": {},
   "source": [
    "A continuación cargaremos el dataset a la variable **df**"
   ]
  },
  {
   "cell_type": "code",
   "execution_count": 2,
   "metadata": {},
   "outputs": [
    {
     "data": {
      "text/html": [
       "<div>\n",
       "<style scoped>\n",
       "    .dataframe tbody tr th:only-of-type {\n",
       "        vertical-align: middle;\n",
       "    }\n",
       "\n",
       "    .dataframe tbody tr th {\n",
       "        vertical-align: top;\n",
       "    }\n",
       "\n",
       "    .dataframe thead th {\n",
       "        text-align: right;\n",
       "    }\n",
       "</style>\n",
       "<table border=\"1\" class=\"dataframe\">\n",
       "  <thead>\n",
       "    <tr style=\"text-align: right;\">\n",
       "      <th></th>\n",
       "      <th>X1</th>\n",
       "      <th>X2</th>\n",
       "      <th>X3</th>\n",
       "      <th>X4</th>\n",
       "      <th>X5</th>\n",
       "    </tr>\n",
       "  </thead>\n",
       "  <tbody>\n",
       "    <tr>\n",
       "      <th>0</th>\n",
       "      <td>8.0</td>\n",
       "      <td>78</td>\n",
       "      <td>284</td>\n",
       "      <td>9.1</td>\n",
       "      <td>109</td>\n",
       "    </tr>\n",
       "    <tr>\n",
       "      <th>1</th>\n",
       "      <td>9.3</td>\n",
       "      <td>68</td>\n",
       "      <td>433</td>\n",
       "      <td>8.7</td>\n",
       "      <td>144</td>\n",
       "    </tr>\n",
       "    <tr>\n",
       "      <th>2</th>\n",
       "      <td>7.5</td>\n",
       "      <td>70</td>\n",
       "      <td>739</td>\n",
       "      <td>7.2</td>\n",
       "      <td>113</td>\n",
       "    </tr>\n",
       "    <tr>\n",
       "      <th>3</th>\n",
       "      <td>8.9</td>\n",
       "      <td>96</td>\n",
       "      <td>1792</td>\n",
       "      <td>8.9</td>\n",
       "      <td>97</td>\n",
       "    </tr>\n",
       "    <tr>\n",
       "      <th>4</th>\n",
       "      <td>10.2</td>\n",
       "      <td>74</td>\n",
       "      <td>477</td>\n",
       "      <td>8.3</td>\n",
       "      <td>206</td>\n",
       "    </tr>\n",
       "  </tbody>\n",
       "</table>\n",
       "</div>"
      ],
      "text/plain": [
       "     X1  X2    X3   X4   X5\n",
       "0   8.0  78   284  9.1  109\n",
       "1   9.3  68   433  8.7  144\n",
       "2   7.5  70   739  7.2  113\n",
       "3   8.9  96  1792  8.9   97\n",
       "4  10.2  74   477  8.3  206"
      ]
     },
     "execution_count": 2,
     "metadata": {},
     "output_type": "execute_result"
    }
   ],
   "source": [
    "df = pd.read_csv(\"df_salud.csv\")\n",
    "df.head()"
   ]
  },
  {
   "cell_type": "markdown",
   "metadata": {},
   "source": [
    "Procederemos a cambiar los encabezados para que see más facil interpretar los resultados más adelante:\n",
    "* **X1:** Tasa de mortalidad (por 1000 residentes)\n",
    "* **X2:** Disponibilidad de doctores (por cada 100,000 residentes)\n",
    "* **X3:** Disponibilidad hospitalaria (por cada 100,000 habitantes)\n",
    "* **X4:** Ingreso anual per cápita (en miles de dólares)\n",
    "* **X5:** Densidad poblacional (personas por milla cuadrada)\n",
    "\n",
    "\n",
    "Para simplificar los títulos, éstos se recortarán de la siguiente forma:\n",
    "* X1 = **Mortalidad_x_1000_hab**\n",
    "* X2 = **Doctores_x_100000_hab**\n",
    "* X3 = **Hospitales_x_100000_hab**\n",
    "* X4 = **Ingreso_percapita_miles_dolares**\n",
    "* X5 = **Densidad_poblacional_milla2**"
   ]
  },
  {
   "cell_type": "code",
   "execution_count": 3,
   "metadata": {},
   "outputs": [
    {
     "data": {
      "text/html": [
       "<div>\n",
       "<style scoped>\n",
       "    .dataframe tbody tr th:only-of-type {\n",
       "        vertical-align: middle;\n",
       "    }\n",
       "\n",
       "    .dataframe tbody tr th {\n",
       "        vertical-align: top;\n",
       "    }\n",
       "\n",
       "    .dataframe thead th {\n",
       "        text-align: right;\n",
       "    }\n",
       "</style>\n",
       "<table border=\"1\" class=\"dataframe\">\n",
       "  <thead>\n",
       "    <tr style=\"text-align: right;\">\n",
       "      <th></th>\n",
       "      <th>Mortalidad_x_1000_hab</th>\n",
       "      <th>Doctores_x_100000_hab</th>\n",
       "      <th>Hospitales_x_100000_hab</th>\n",
       "      <th>Ingreso_percapita_miles_dolares</th>\n",
       "      <th>Densidad_poblacional_milla2</th>\n",
       "    </tr>\n",
       "  </thead>\n",
       "  <tbody>\n",
       "    <tr>\n",
       "      <th>0</th>\n",
       "      <td>8.0</td>\n",
       "      <td>78</td>\n",
       "      <td>284</td>\n",
       "      <td>9.1</td>\n",
       "      <td>109</td>\n",
       "    </tr>\n",
       "    <tr>\n",
       "      <th>1</th>\n",
       "      <td>9.3</td>\n",
       "      <td>68</td>\n",
       "      <td>433</td>\n",
       "      <td>8.7</td>\n",
       "      <td>144</td>\n",
       "    </tr>\n",
       "    <tr>\n",
       "      <th>2</th>\n",
       "      <td>7.5</td>\n",
       "      <td>70</td>\n",
       "      <td>739</td>\n",
       "      <td>7.2</td>\n",
       "      <td>113</td>\n",
       "    </tr>\n",
       "    <tr>\n",
       "      <th>3</th>\n",
       "      <td>8.9</td>\n",
       "      <td>96</td>\n",
       "      <td>1792</td>\n",
       "      <td>8.9</td>\n",
       "      <td>97</td>\n",
       "    </tr>\n",
       "    <tr>\n",
       "      <th>4</th>\n",
       "      <td>10.2</td>\n",
       "      <td>74</td>\n",
       "      <td>477</td>\n",
       "      <td>8.3</td>\n",
       "      <td>206</td>\n",
       "    </tr>\n",
       "  </tbody>\n",
       "</table>\n",
       "</div>"
      ],
      "text/plain": [
       "   Mortalidad_x_1000_hab  Doctores_x_100000_hab  Hospitales_x_100000_hab  \\\n",
       "0                    8.0                     78                      284   \n",
       "1                    9.3                     68                      433   \n",
       "2                    7.5                     70                      739   \n",
       "3                    8.9                     96                     1792   \n",
       "4                   10.2                     74                      477   \n",
       "\n",
       "   Ingreso_percapita_miles_dolares  Densidad_poblacional_milla2  \n",
       "0                              9.1                          109  \n",
       "1                              8.7                          144  \n",
       "2                              7.2                          113  \n",
       "3                              8.9                           97  \n",
       "4                              8.3                          206  "
      ]
     },
     "execution_count": 3,
     "metadata": {},
     "output_type": "execute_result"
    }
   ],
   "source": [
    "df = pd.read_csv(\"df_salud.csv\")\n",
    "df.columns = ['Mortalidad_x_1000_hab', 'Doctores_x_100000_hab', 'Hospitales_x_100000_hab', 'Ingreso_percapita_miles_dolares', 'Densidad_poblacional_milla2']\n",
    "df.head()"
   ]
  },
  {
   "cell_type": "markdown",
   "metadata": {},
   "source": [
    "## Parte 1: Pregunta de investigación\n",
    "\n",
    "¿Son la disponibilidad de personal médico, la disponibilidad hospitalaria, el ingreso per cápita y la densidad poblacional de una ciudad predictores útiles en la tasa de mortalidad?"
   ]
  },
  {
   "cell_type": "markdown",
   "metadata": {},
   "source": [
    "## Parte 2: Análisis de datos exploratorio\n",
    "\n",
    "* ### Gráficas"
   ]
  },
  {
   "cell_type": "code",
   "execution_count": 6,
   "metadata": {},
   "outputs": [],
   "source": [
    "sns.set_style(\"darkgrid\")"
   ]
  },
  {
   "cell_type": "code",
   "execution_count": 7,
   "metadata": {},
   "outputs": [
    {
     "data": {
      "image/png": "[encoded data removed]",
      "text/plain": [
       "<Figure size 1440x720 with 4 Axes>"
      ]
     },
     "metadata": {},
     "output_type": "display_data"
    }
   ],
   "source": [
    "plt.figure(figsize = (20, 10))\n",
    "\n",
    "ax = plt.subplot(2,2,1)\n",
    "sns.scatterplot(x=\"Doctores_x_100000_hab\", y=\"Mortalidad_x_1000_hab\", data=df, ax= ax); \n",
    "plt.xlabel(\"Disponibilidad de Doctores\",fontsize=13)\n",
    "plt.ylabel(\"Mortalidad\",fontsize=13)\n",
    "ax = plt.subplot(2,2,2)\n",
    "sns.scatterplot(x=\"Hospitales_x_100000_hab\", y=\"Mortalidad_x_1000_hab\", data=df, ax= ax);\n",
    "plt.xlabel(\"Disponibilidad de Hospitales\",fontsize=13)\n",
    "plt.ylabel(\"Mortalidad\",fontsize=13)\n",
    "ax = plt.subplot(2,2,3)\n",
    "sns.scatterplot(x=\"Ingreso_percapita_miles_dolares\", y=\"Mortalidad_x_1000_hab\", data=df, ax= ax);\n",
    "plt.xlabel(\"Ingreso percapita\",fontsize=13)\n",
    "plt.ylabel(\"Mortalidad\",fontsize=13)\n",
    "ax = plt.subplot(2,2,4)\n",
    "sns.scatterplot(x=\"Densidad_poblacional_milla2\", y=\"Mortalidad_x_1000_hab\", data=df, ax= ax);\n",
    "plt.xlabel(\"Densidad poblacional\",fontsize=13)\n",
    "plt.ylabel(\"Mortalidad\",fontsize=13)\n",
    "\n",
    "plt.suptitle(\"Plot de Mortalidad vs. variables independientes\", fontsize=20)\n",
    "plt.show()"
   ]
  },
  {
   "cell_type": "markdown",
   "metadata": {},
   "source": [
    "Para hacer la selección y discriminación de variables procederemos a buscar la correlación entre la variable dependiente y las propuestas de variables independientes:"
   ]
  },
  {
   "cell_type": "code",
   "execution_count": 8,
   "metadata": {},
   "outputs": [
    {
     "data": {
      "text/html": [
       "<div>\n",
       "<style scoped>\n",
       "    .dataframe tbody tr th:only-of-type {\n",
       "        vertical-align: middle;\n",
       "    }\n",
       "\n",
       "    .dataframe tbody tr th {\n",
       "        vertical-align: top;\n",
       "    }\n",
       "\n",
       "    .dataframe thead th {\n",
       "        text-align: right;\n",
       "    }\n",
       "</style>\n",
       "<table border=\"1\" class=\"dataframe\">\n",
       "  <thead>\n",
       "    <tr style=\"text-align: right;\">\n",
       "      <th></th>\n",
       "      <th>Mortalidad_x_1000_hab</th>\n",
       "      <th>Doctores_x_100000_hab</th>\n",
       "    </tr>\n",
       "  </thead>\n",
       "  <tbody>\n",
       "    <tr>\n",
       "      <th>Mortalidad_x_1000_hab</th>\n",
       "      <td>1.000000</td>\n",
       "      <td>0.115765</td>\n",
       "    </tr>\n",
       "    <tr>\n",
       "      <th>Doctores_x_100000_hab</th>\n",
       "      <td>0.115765</td>\n",
       "      <td>1.000000</td>\n",
       "    </tr>\n",
       "  </tbody>\n",
       "</table>\n",
       "</div>"
      ],
      "text/plain": [
       "                       Mortalidad_x_1000_hab  Doctores_x_100000_hab\n",
       "Mortalidad_x_1000_hab               1.000000               0.115765\n",
       "Doctores_x_100000_hab               0.115765               1.000000"
      ]
     },
     "execution_count": 8,
     "metadata": {},
     "output_type": "execute_result"
    }
   ],
   "source": [
    "df[[\"Mortalidad_x_1000_hab\", \"Doctores_x_100000_hab\"]].corr()"
   ]
  },
  {
   "cell_type": "markdown",
   "metadata": {},
   "source": [
    "De los datos arriba estimados podemos ver que el valor **r** de nuestra variable dependiente con la cantidad de doctores por cada 100,000 habitantes es casi cero, es decir no existe correlación significante y por lo tanto no se tomará en cuenta para el modelo de regresión lineal múltiple"
   ]
  },
  {
   "cell_type": "code",
   "execution_count": 9,
   "metadata": {},
   "outputs": [
    {
     "data": {
      "text/html": [
       "<div>\n",
       "<style scoped>\n",
       "    .dataframe tbody tr th:only-of-type {\n",
       "        vertical-align: middle;\n",
       "    }\n",
       "\n",
       "    .dataframe tbody tr th {\n",
       "        vertical-align: top;\n",
       "    }\n",
       "\n",
       "    .dataframe thead th {\n",
       "        text-align: right;\n",
       "    }\n",
       "</style>\n",
       "<table border=\"1\" class=\"dataframe\">\n",
       "  <thead>\n",
       "    <tr style=\"text-align: right;\">\n",
       "      <th></th>\n",
       "      <th>Mortalidad_x_1000_hab</th>\n",
       "      <th>Hospitales_x_100000_hab</th>\n",
       "    </tr>\n",
       "  </thead>\n",
       "  <tbody>\n",
       "    <tr>\n",
       "      <th>Mortalidad_x_1000_hab</th>\n",
       "      <td>1.00000</td>\n",
       "      <td>0.11059</td>\n",
       "    </tr>\n",
       "    <tr>\n",
       "      <th>Hospitales_x_100000_hab</th>\n",
       "      <td>0.11059</td>\n",
       "      <td>1.00000</td>\n",
       "    </tr>\n",
       "  </tbody>\n",
       "</table>\n",
       "</div>"
      ],
      "text/plain": [
       "                         Mortalidad_x_1000_hab  Hospitales_x_100000_hab\n",
       "Mortalidad_x_1000_hab                  1.00000                  0.11059\n",
       "Hospitales_x_100000_hab                0.11059                  1.00000"
      ]
     },
     "execution_count": 9,
     "metadata": {},
     "output_type": "execute_result"
    }
   ],
   "source": [
    "df[[\"Mortalidad_x_1000_hab\", \"Hospitales_x_100000_hab\"]].corr()"
   ]
  },
  {
   "cell_type": "markdown",
   "metadata": {},
   "source": [
    "De los datos arriba estimados podemos ver que el valor **r** de nuestra variable dependiente con la cantidad de hospitales por cada 100,000 habitantes es casi cero, es decir no existe correlación significante y por lo tanto no se tomará en cuenta para el modelo de regresión lineal múltiple"
   ]
  },
  {
   "cell_type": "code",
   "execution_count": 10,
   "metadata": {},
   "outputs": [
    {
     "data": {
      "text/html": [
       "<div>\n",
       "<style scoped>\n",
       "    .dataframe tbody tr th:only-of-type {\n",
       "        vertical-align: middle;\n",
       "    }\n",
       "\n",
       "    .dataframe tbody tr th {\n",
       "        vertical-align: top;\n",
       "    }\n",
       "\n",
       "    .dataframe thead th {\n",
       "        text-align: right;\n",
       "    }\n",
       "</style>\n",
       "<table border=\"1\" class=\"dataframe\">\n",
       "  <thead>\n",
       "    <tr style=\"text-align: right;\">\n",
       "      <th></th>\n",
       "      <th>Mortalidad_x_1000_hab</th>\n",
       "      <th>Ingreso_percapita_miles_dolares</th>\n",
       "    </tr>\n",
       "  </thead>\n",
       "  <tbody>\n",
       "    <tr>\n",
       "      <th>Mortalidad_x_1000_hab</th>\n",
       "      <td>1.000000</td>\n",
       "      <td>-0.171992</td>\n",
       "    </tr>\n",
       "    <tr>\n",
       "      <th>Ingreso_percapita_miles_dolares</th>\n",
       "      <td>-0.171992</td>\n",
       "      <td>1.000000</td>\n",
       "    </tr>\n",
       "  </tbody>\n",
       "</table>\n",
       "</div>"
      ],
      "text/plain": [
       "                                 Mortalidad_x_1000_hab  \\\n",
       "Mortalidad_x_1000_hab                         1.000000   \n",
       "Ingreso_percapita_miles_dolares              -0.171992   \n",
       "\n",
       "                                 Ingreso_percapita_miles_dolares  \n",
       "Mortalidad_x_1000_hab                                  -0.171992  \n",
       "Ingreso_percapita_miles_dolares                         1.000000  "
      ]
     },
     "execution_count": 10,
     "metadata": {},
     "output_type": "execute_result"
    }
   ],
   "source": [
    "df[[\"Mortalidad_x_1000_hab\", \"Ingreso_percapita_miles_dolares\"]].corr()"
   ]
  },
  {
   "cell_type": "markdown",
   "metadata": {},
   "source": [
    "De los datos arriba estimados podemos ver que el valor **r** de nuestra variable dependiente con ingreso anual per cápita de los habitantes es casi cero, es decir no existe una correlación muy marcada pero para efectos prácticos de este ejercicio se tomará esta en cuenta por ser una de las variables con correlación mas alta."
   ]
  },
  {
   "cell_type": "code",
   "execution_count": 11,
   "metadata": {},
   "outputs": [
    {
     "data": {
      "text/html": [
       "<div>\n",
       "<style scoped>\n",
       "    .dataframe tbody tr th:only-of-type {\n",
       "        vertical-align: middle;\n",
       "    }\n",
       "\n",
       "    .dataframe tbody tr th {\n",
       "        vertical-align: top;\n",
       "    }\n",
       "\n",
       "    .dataframe thead th {\n",
       "        text-align: right;\n",
       "    }\n",
       "</style>\n",
       "<table border=\"1\" class=\"dataframe\">\n",
       "  <thead>\n",
       "    <tr style=\"text-align: right;\">\n",
       "      <th></th>\n",
       "      <th>Mortalidad_x_1000_hab</th>\n",
       "      <th>Densidad_poblacional_milla2</th>\n",
       "    </tr>\n",
       "  </thead>\n",
       "  <tbody>\n",
       "    <tr>\n",
       "      <th>Mortalidad_x_1000_hab</th>\n",
       "      <td>1.000000</td>\n",
       "      <td>-0.277607</td>\n",
       "    </tr>\n",
       "    <tr>\n",
       "      <th>Densidad_poblacional_milla2</th>\n",
       "      <td>-0.277607</td>\n",
       "      <td>1.000000</td>\n",
       "    </tr>\n",
       "  </tbody>\n",
       "</table>\n",
       "</div>"
      ],
      "text/plain": [
       "                             Mortalidad_x_1000_hab  \\\n",
       "Mortalidad_x_1000_hab                     1.000000   \n",
       "Densidad_poblacional_milla2              -0.277607   \n",
       "\n",
       "                             Densidad_poblacional_milla2  \n",
       "Mortalidad_x_1000_hab                          -0.277607  \n",
       "Densidad_poblacional_milla2                     1.000000  "
      ]
     },
     "execution_count": 11,
     "metadata": {},
     "output_type": "execute_result"
    }
   ],
   "source": [
    "df[[\"Mortalidad_x_1000_hab\", \"Densidad_poblacional_milla2\"]].corr()"
   ]
  },
  {
   "cell_type": "markdown",
   "metadata": {},
   "source": [
    "De los datos arriba estimados podemos ver que el valor **r** de nuestra variable dependiente con la densidad poblacional es de -0.27, es decir que casi llega al umbral de 0.3 que se suele utilizar para decir que una variable es moderadamente correlacionada con otra. El valor negativo nos indica que la dirección de la relación es negativa.\n",
    "\n",
    "Por ser esta la varibla con mayor valor de **r** la utilizaremos como nuestra variable principal a la hora de calcular el modelo de regresión lineal multiple."
   ]
  },
  {
   "cell_type": "markdown",
   "metadata": {},
   "source": [
    "De las gráficas superiores podemos observar que la mortalidad y las distintas variables independientes tienen relaciones con comportamientos lineales con cierto grado de disperción de datos. \n",
    "\n",
    "De la *primer* gráfica podemos concluir:\n",
    "* Forma: aproximadamente lineal\n",
    "* Dirección: ligeramente positiva\n",
    "* Fuerza: debil\n",
    "* Outliers: considerables\n",
    "\n",
    "De la *segunda* gráfica podemos concluir:\n",
    "* Forma: aproximadamente\n",
    "* Dirección: aparentemente neutra\n",
    "* Fuerza: debil\n",
    "* Outliers: moderados\n",
    "\n",
    "De la *tercer* gráfica podemos concluir:\n",
    "* Forma: lineal\n",
    "* Dirección: ligeramente negativa\n",
    "* Fuerza: debil a moderada\n",
    "* Outliers: moderados\n",
    "\n",
    "De la *cuarta* gráfica podemos concluir:\n",
    "* Forma: lineal\n",
    "* Dirección: ligeramente negativa\n",
    "* Fuerza: moderada\n",
    "* Outliers: moderados"
   ]
  },
  {
   "cell_type": "markdown",
   "metadata": {},
   "source": [
    "* ### Estadística descriptiva\n",
    "Además del las gráficas descriptivas mostraremos a continuación la estadística descriptiva de las distintas variables que utilizaremos para generar el modelo de regresión lineal multiple.\n",
    "\n",
    "Se observa que la media de la mortalidad por cada 1000 habitantes se encuentra en 9.3"
   ]
  },
  {
   "cell_type": "code",
   "execution_count": 12,
   "metadata": {},
   "outputs": [
    {
     "data": {
      "text/html": [
       "<div>\n",
       "<style scoped>\n",
       "    .dataframe tbody tr th:only-of-type {\n",
       "        vertical-align: middle;\n",
       "    }\n",
       "\n",
       "    .dataframe tbody tr th {\n",
       "        vertical-align: top;\n",
       "    }\n",
       "\n",
       "    .dataframe thead th {\n",
       "        text-align: right;\n",
       "    }\n",
       "</style>\n",
       "<table border=\"1\" class=\"dataframe\">\n",
       "  <thead>\n",
       "    <tr style=\"text-align: right;\">\n",
       "      <th></th>\n",
       "      <th>Mortalidad_x_1000_hab</th>\n",
       "      <th>Doctores_x_100000_hab</th>\n",
       "      <th>Hospitales_x_100000_hab</th>\n",
       "      <th>Ingreso_percapita_miles_dolares</th>\n",
       "      <th>Densidad_poblacional_milla2</th>\n",
       "    </tr>\n",
       "  </thead>\n",
       "  <tbody>\n",
       "    <tr>\n",
       "      <th>count</th>\n",
       "      <td>53.00000</td>\n",
       "      <td>53.000000</td>\n",
       "      <td>53.000000</td>\n",
       "      <td>53.000000</td>\n",
       "      <td>53.000000</td>\n",
       "    </tr>\n",
       "    <tr>\n",
       "      <th>mean</th>\n",
       "      <td>9.30566</td>\n",
       "      <td>116.094340</td>\n",
       "      <td>589.792453</td>\n",
       "      <td>9.435849</td>\n",
       "      <td>110.641509</td>\n",
       "    </tr>\n",
       "    <tr>\n",
       "      <th>std</th>\n",
       "      <td>1.66253</td>\n",
       "      <td>37.886604</td>\n",
       "      <td>332.618305</td>\n",
       "      <td>1.075442</td>\n",
       "      <td>47.179728</td>\n",
       "    </tr>\n",
       "    <tr>\n",
       "      <th>min</th>\n",
       "      <td>3.60000</td>\n",
       "      <td>60.000000</td>\n",
       "      <td>190.000000</td>\n",
       "      <td>7.200000</td>\n",
       "      <td>35.000000</td>\n",
       "    </tr>\n",
       "    <tr>\n",
       "      <th>25%</th>\n",
       "      <td>8.30000</td>\n",
       "      <td>82.000000</td>\n",
       "      <td>353.000000</td>\n",
       "      <td>8.800000</td>\n",
       "      <td>80.000000</td>\n",
       "    </tr>\n",
       "    <tr>\n",
       "      <th>50%</th>\n",
       "      <td>9.40000</td>\n",
       "      <td>114.000000</td>\n",
       "      <td>525.000000</td>\n",
       "      <td>9.500000</td>\n",
       "      <td>103.000000</td>\n",
       "    </tr>\n",
       "    <tr>\n",
       "      <th>75%</th>\n",
       "      <td>10.30000</td>\n",
       "      <td>134.000000</td>\n",
       "      <td>686.000000</td>\n",
       "      <td>10.300000</td>\n",
       "      <td>129.000000</td>\n",
       "    </tr>\n",
       "    <tr>\n",
       "      <th>max</th>\n",
       "      <td>12.80000</td>\n",
       "      <td>238.000000</td>\n",
       "      <td>1792.000000</td>\n",
       "      <td>13.000000</td>\n",
       "      <td>292.000000</td>\n",
       "    </tr>\n",
       "  </tbody>\n",
       "</table>\n",
       "</div>"
      ],
      "text/plain": [
       "       Mortalidad_x_1000_hab  Doctores_x_100000_hab  Hospitales_x_100000_hab  \\\n",
       "count               53.00000              53.000000                53.000000   \n",
       "mean                 9.30566             116.094340               589.792453   \n",
       "std                  1.66253              37.886604               332.618305   \n",
       "min                  3.60000              60.000000               190.000000   \n",
       "25%                  8.30000              82.000000               353.000000   \n",
       "50%                  9.40000             114.000000               525.000000   \n",
       "75%                 10.30000             134.000000               686.000000   \n",
       "max                 12.80000             238.000000              1792.000000   \n",
       "\n",
       "       Ingreso_percapita_miles_dolares  Densidad_poblacional_milla2  \n",
       "count                        53.000000                    53.000000  \n",
       "mean                          9.435849                   110.641509  \n",
       "std                           1.075442                    47.179728  \n",
       "min                           7.200000                    35.000000  \n",
       "25%                           8.800000                    80.000000  \n",
       "50%                           9.500000                   103.000000  \n",
       "75%                          10.300000                   129.000000  \n",
       "max                          13.000000                   292.000000  "
      ]
     },
     "execution_count": 12,
     "metadata": {},
     "output_type": "execute_result"
    }
   ],
   "source": [
    "df.describe()"
   ]
  },
  {
   "cell_type": "markdown",
   "metadata": {},
   "source": [
    "# Modelo: regresión lineal múltiple\n",
    "\n",
    "A continuación calcularemos nuestro modelo de regresión, lo que nos brindará información importante dentro de la que podemos resaltar:\n",
    "* Coeficientes de nuestro modelo\n",
    "* Valores estimados de los parámetros de regresión\n",
    "* Errores estandard\n",
    "* Incertidumbre\n",
    "* Entre otros\n",
    "\n",
    "Como se había mencionado en el apartado de selección de variables, se tomará en cuenta para nuestro modelo únicamente la **densidad poblacional** y el **ingreso per cápita** debido a que son las que mayor  correlación tienen con la variable dependiente."
   ]
  },
  {
   "cell_type": "code",
   "execution_count": 13,
   "metadata": {},
   "outputs": [
    {
     "data": {
      "text/html": [
       "<table class=\"simpletable\">\n",
       "<caption>OLS Regression Results</caption>\n",
       "<tr>\n",
       "  <th>Dep. Variable:</th>    <td>Mortalidad_x_1000_hab</td> <th>  R-squared:         </th> <td>   0.096</td>\n",
       "</tr>\n",
       "<tr>\n",
       "  <th>Model:</th>                     <td>OLS</td>          <th>  Adj. R-squared:    </th> <td>   0.060</td>\n",
       "</tr>\n",
       "<tr>\n",
       "  <th>Method:</th>               <td>Least Squares</td>     <th>  F-statistic:       </th> <td>   2.653</td>\n",
       "</tr>\n",
       "<tr>\n",
       "  <th>Date:</th>               <td>Sun, 17 May 2020</td>    <th>  Prob (F-statistic):</th>  <td>0.0803</td> \n",
       "</tr>\n",
       "<tr>\n",
       "  <th>Time:</th>                   <td>20:38:57</td>        <th>  Log-Likelihood:    </th> <td> -98.968</td>\n",
       "</tr>\n",
       "<tr>\n",
       "  <th>No. Observations:</th>        <td>    53</td>         <th>  AIC:               </th> <td>   203.9</td>\n",
       "</tr>\n",
       "<tr>\n",
       "  <th>Df Residuals:</th>            <td>    50</td>         <th>  BIC:               </th> <td>   209.8</td>\n",
       "</tr>\n",
       "<tr>\n",
       "  <th>Df Model:</th>                <td>     2</td>         <th>                     </th>     <td> </td>   \n",
       "</tr>\n",
       "<tr>\n",
       "  <th>Covariance Type:</th>        <td>nonrobust</td>       <th>                     </th>     <td> </td>   \n",
       "</tr>\n",
       "</table>\n",
       "<table class=\"simpletable\">\n",
       "<tr>\n",
       "                 <td></td>                    <th>coef</th>     <th>std err</th>      <th>t</th>      <th>P>|t|</th>  <th>[0.025</th>    <th>0.975]</th>  \n",
       "</tr>\n",
       "<tr>\n",
       "  <th>Intercept</th>                       <td>   12.3395</td> <td>    1.993</td> <td>    6.192</td> <td> 0.000</td> <td>    8.337</td> <td>   16.342</td>\n",
       "</tr>\n",
       "<tr>\n",
       "  <th>Densidad_poblacional_milla2</th>     <td>   -0.0092</td> <td>    0.005</td> <td>   -1.916</td> <td> 0.061</td> <td>   -0.019</td> <td>    0.000</td>\n",
       "</tr>\n",
       "<tr>\n",
       "  <th>Ingreso_percapita_miles_dolares</th> <td>   -0.2142</td> <td>    0.210</td> <td>   -1.022</td> <td> 0.312</td> <td>   -0.635</td> <td>    0.207</td>\n",
       "</tr>\n",
       "</table>\n",
       "<table class=\"simpletable\">\n",
       "<tr>\n",
       "  <th>Omnibus:</th>       <td>19.143</td> <th>  Durbin-Watson:     </th> <td>   1.634</td>\n",
       "</tr>\n",
       "<tr>\n",
       "  <th>Prob(Omnibus):</th> <td> 0.000</td> <th>  Jarque-Bera (JB):  </th> <td>  27.791</td>\n",
       "</tr>\n",
       "<tr>\n",
       "  <th>Skew:</th>          <td>-1.233</td> <th>  Prob(JB):          </th> <td>9.23e-07</td>\n",
       "</tr>\n",
       "<tr>\n",
       "  <th>Kurtosis:</th>      <td> 5.550</td> <th>  Cond. No.          </th> <td>1.09e+03</td>\n",
       "</tr>\n",
       "</table><br/><br/>Warnings:<br/>[1] Standard Errors assume that the covariance matrix of the errors is correctly specified.<br/>[2] The condition number is large, 1.09e+03. This might indicate that there are<br/>strong multicollinearity or other numerical problems."
      ],
      "text/plain": [
       "<class 'statsmodels.iolib.summary.Summary'>\n",
       "\"\"\"\n",
       "                              OLS Regression Results                             \n",
       "=================================================================================\n",
       "Dep. Variable:     Mortalidad_x_1000_hab   R-squared:                       0.096\n",
       "Model:                               OLS   Adj. R-squared:                  0.060\n",
       "Method:                    Least Squares   F-statistic:                     2.653\n",
       "Date:                   Sun, 17 May 2020   Prob (F-statistic):             0.0803\n",
       "Time:                           20:38:57   Log-Likelihood:                -98.968\n",
       "No. Observations:                     53   AIC:                             203.9\n",
       "Df Residuals:                         50   BIC:                             209.8\n",
       "Df Model:                              2                                         \n",
       "Covariance Type:               nonrobust                                         \n",
       "===================================================================================================\n",
       "                                      coef    std err          t      P>|t|      [0.025      0.975]\n",
       "---------------------------------------------------------------------------------------------------\n",
       "Intercept                          12.3395      1.993      6.192      0.000       8.337      16.342\n",
       "Densidad_poblacional_milla2        -0.0092      0.005     -1.916      0.061      -0.019       0.000\n",
       "Ingreso_percapita_miles_dolares    -0.2142      0.210     -1.022      0.312      -0.635       0.207\n",
       "==============================================================================\n",
       "Omnibus:                       19.143   Durbin-Watson:                   1.634\n",
       "Prob(Omnibus):                  0.000   Jarque-Bera (JB):               27.791\n",
       "Skew:                          -1.233   Prob(JB):                     9.23e-07\n",
       "Kurtosis:                       5.550   Cond. No.                     1.09e+03\n",
       "==============================================================================\n",
       "\n",
       "Warnings:\n",
       "[1] Standard Errors assume that the covariance matrix of the errors is correctly specified.\n",
       "[2] The condition number is large, 1.09e+03. This might indicate that there are\n",
       "strong multicollinearity or other numerical problems.\n",
       "\"\"\""
      ]
     },
     "execution_count": 13,
     "metadata": {},
     "output_type": "execute_result"
    }
   ],
   "source": [
    "model = sm.OLS.from_formula(\"Mortalidad_x_1000_hab ~ Densidad_poblacional_milla2 + Ingreso_percapita_miles_dolares\", data=df)\n",
    "result = model.fit()\n",
    "result.summary()"
   ]
  },
  {
   "cell_type": "markdown",
   "metadata": {},
   "source": [
    "El modelo para nuestra regresión es el siguiente\n",
    "\n",
    "## <center>**Mortalidad** = 12.3395 - 0.0092 x (**Densidad_poblacional**) - 0.2142 x (**Ingreso_percapita**)</center>\n",
    "\n",
    "Del modelo anterior podemos decir que para una densidad poblacional dada, la mortalidad por cada 1000 habitantes disminuye 0.2142 por cada mil dolares de aumento de ingreso per cápita.\n",
    "\n",
    "Por otra parte, podemos ahora fijar el ingreso per cápita y decir que por cada unidad que aumenta la densidad poblacional por milla cuadrada en una ciudad, la mortalidad por cada 1000 habitantes disminuye 0.0092\n",
    "\n",
    "## Visualizacion de los modelos ajustados\n",
    "\n",
    "A continuación vamos a graficar el modelo de regresion.\n",
    "\n",
    "Empezamos con graficar la funcion de regresion ajustada, es decir, la *mortalidad* promedio expresada como una funcion de las covariables utilizadas. Con ello se demuestra gráficamente el rol estimado de una variable cuando las otras variables se mantienen fijas, lo cual complementaremos con la respectiva gráfica de sus bandas de confianza simultaneas de 95% alrededor de estas lineas ajustadas. \n",
    "\n",
    "* Primer caso: como primer caso fijaremos el *ingreso per cápita* en 10 y dejaremos libre la variable de *densidad poblacional*"
   ]
  },
  {
   "cell_type": "code",
   "execution_count": 14,
   "metadata": {},
   "outputs": [
    {
     "data": {
      "image/png": "[encoded data removed]",
      "text/plain": [
       "<Figure size 432x288 with 1 Axes>"
      ]
     },
     "metadata": {},
     "output_type": "display_data"
    }
   ],
   "source": [
    "from statsmodels.sandbox.predict_functional import predict_functional\n",
    "\n",
    "values = {\"Ingreso_percapita_miles_dolares\": 10, \"Doctores_x_100000_hab\":1,\"Hospitales_x_100000_hab\":1}\n",
    "pr, cb, fv = predict_functional(\n",
    "                result, \"Densidad_poblacional_milla2\",\n",
    "                values=values, \n",
    "                ci_method=\"simultaneous\")\n",
    "\n",
    "ax = sns.lineplot(fv, pr, lw=4)\n",
    "ax.fill_between(fv, cb[:, 0], cb[:, 1], color='grey', alpha=0.4)\n",
    "ax.set_xlabel(\"Densidad poblacional\")\n",
    "_ = ax.set_ylabel(\"Mortalidad\")"
   ]
  },
  {
   "cell_type": "markdown",
   "metadata": {},
   "source": [
    "* Segundo caso: ahora fijaremos la *densidad poblacional* en 110 y dejaremos libre la variable de *ingreso per cápita*"
   ]
  },
  {
   "cell_type": "code",
   "execution_count": 15,
   "metadata": {},
   "outputs": [
    {
     "data": {
      "image/png": "[encoded data removed]",
      "text/plain": [
       "<Figure size 432x288 with 1 Axes>"
      ]
     },
     "metadata": {},
     "output_type": "display_data"
    }
   ],
   "source": [
    "values = {\"Densidad_poblacional_milla2\": 110, \"Doctores_x_100000_hab\":1,\"Hospitales_x_100000_hab\":1}\n",
    "pr, cb, fv = predict_functional(\n",
    "                result, \"Ingreso_percapita_miles_dolares\",\n",
    "                values=values, \n",
    "                ci_method=\"simultaneous\")\n",
    "\n",
    "ax = sns.lineplot(fv, pr, lw=4)\n",
    "ax.fill_between(fv, cb[:, 0], cb[:, 1], color='grey', alpha=0.4)\n",
    "ax.set_xlabel(\"Ingreso per cápita\")\n",
    "_ = ax.set_ylabel(\"Mortalidad\")"
   ]
  },
  {
   "cell_type": "markdown",
   "metadata": {},
   "source": [
    "Como se puede observar en ambas gráficas en función de la regresión ajustada, el modelo representa mejor al comportamiento real precisamente cerca de la media de la variable dependiente, es decir aproximadamente en una mortalidad de 9.3\n",
    "\n",
    "## Predicción\n",
    "\n",
    "Para este caso utilizaremos los siguientes valores:\n",
    "* Ingreso per cápita = 9.5\n",
    "* Densidad poblacional = 110\n",
    "\n",
    "##### <center>**Mortalidad** = 12.3395 - 0.0092 x (**Densidad_poblacional**) - 0.2142 x (**Ingreso_percapita**)</center>\n",
    "##### <center>**Mortalidad** = 12.3395 - 0.0092 x (**110**) - 0.2142 x (**9.5**)</center>\n",
    "##### <center>**Mortalidad** = 12.3395 - 1.012 - 2.0349</center>\n",
    "##### <center>**Mortalidad** = 9.2926</center>\n",
    "\n",
    "\n",
    "Utilizando nuestro modelo de regresión y teniendo como inputs una *densidad poblacional* de 110 y un *ingreso per cápita* de 9.5, obtenemos que con un 95% de confianza, para una ciudad con estas características la tasa de mortalidad es en promedio **9.29**"
   ]
  },
  {
   "cell_type": "markdown",
   "metadata": {},
   "source": [
    "## Conclusión\n",
    "\n",
    "Para hacer un modelo de regresión lineal multiple se debe de tomar en cuenta la correlación entre la variable dependiente y las variables independientes que se pretenden utilizar, para luego analizar si es conveniente o no tomar en cuenta toda la información obtenida o si existen variables que es mejor discrimarla. En este caso se dispuso de cuatro variables independientes pero sólo se utilizaron dos, pues no estan correlacionadas significativamente con la variable que deseamos predecir.\n",
    "\n",
    "Es de mucha utilidad calcular una matriz de correlación en la que se estudia la relación lineal entre cada par de predictores. Es importante tener en cuenta que, a pesar de no obtenerse ningún coeficiente de correlación alto, no está asegurado que no exista multicolinealidad.\n",
    "\n",
    "La cantidad de muestras disponibles juega un papel importante para obtener modelos que sean capaces de brindarnos información confiable (dentro de ciertos errores estandard). Habitualmente se recomienda que **el número de observaciones sea como mínimo entre 10 y 20 veces el número de predictores del modelo**.\n",
    "\n",
    "El hallazgo que más significativo en este análisis es que, como la mayoría de decisiones en la vida, a mayor información se tenga mejores respuestas se pueden dar. Es por ello que se observa que cerca de donde se tiene mayor concentración de muestras (información) es donde el modelo de regresión lineal devuelve los resultados más confiables.\n",
    "\n",
    "La densidad poblacional afecta en menor grado la tasa de mortalidad, mientras que el ingreso per cápita lo impacta de manera más significativa: esto podría interpretarse como que a mayor ingreso per cápita las condiciones de vida son mejores, por lo tanto sus probabilidades de vida aumentan."
   ]
  }
 ],
 "metadata": {
  "kernelspec": {
   "display_name": "Python 3",
   "language": "python",
   "name": "python3"
  },
  "language_info": {
   "codemirror_mode": {
    "name": "ipython",
    "version": 3
   },
   "file_extension": ".py",
   "mimetype": "text/x-python",
   "name": "python",
   "nbconvert_exporter": "python",
   "pygments_lexer": "ipython3",
   "version": "3.8.2"
  }
 },
 "nbformat": 4,
 "nbformat_minor": 4
}
